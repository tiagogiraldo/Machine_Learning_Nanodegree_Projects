{
 "cells": [
  {
   "cell_type": "markdown",
   "metadata": {},
   "source": [
    "# Machine Learning Engineer Nanodegree\n",
    "## Capstone Project\n",
    "Santiago Giraldo\n",
    "\n",
    "July 29, 2017"
   ]
  },
  {
   "cell_type": "markdown",
   "metadata": {},
   "source": [
    "Perhaps one of the trendiest topics in the world right now is machine learning and big data, which have become recurring topics on Main Street.  The application of these in different fields including branches of knowledge that range from astronomy to manufacturing, but perhaps the field of medicine is one the most interesting of them all.   Current advances in this field include disease diagnosis, image analysis, new drug developments and pandemic forecasts among others.   These progress poses new challenges and opportunities to improve the quality of treatments and the life expectancy of human beings. \n",
    "\n",
    "Being able to participate in something that contributes to human well-being motivated me to research and apply machine learning in an area of medicine to the capstone project.\n",
    "\n",
    "From personal experience, a recurring problem that affects people at certain ages is pneumonia, which in some cases is usually fatal especially when it refers to children or older adults.   Knowing this and the availability of records in Intensive Care Unit MIMIC-III database, I decided to select pneumonia deaths as a theme to develop the capstone project, that in addition, could be useful for the prognosis of deaths in Intensive Care Units, and with further investigations be the outset for development of tools that doctors and nurses could use to improve their work.\n",
    "\n",
    "The hypothesis is that from microbiological variables coming from tests it’s possible predict whether a patient can or not die by this disease.  This leads us to a problem that can be represented binarily, and that can be related to physicochemical variables obtained from microbiological tests. These relationships allow the modeling of the pneumonia death problem by means of a supervised learning model such as the Support Vector Machines, Decision Trees, Logistic Regression and Ada boost ensemble."
   ]
  },
  {
   "cell_type": "code",
   "execution_count": 1,
   "metadata": {
    "collapsed": true
   },
   "outputs": [],
   "source": [
    "import numpy as np\n",
    "import pandas as pd\n",
    "import datetime\n",
    "import scipy as sp\n",
    "import seaborn as sns\n",
    "import matplotlib.pyplot as plt\n",
    "%matplotlib inline\n",
    "import psycopg2\n",
    "import time\n",
    "import itertools\n",
    "from pandas.io.sql import read_sql\n",
    "from sklearn.model_selection import train_test_split\n",
    "from sklearn.model_selection import cross_val_score\n",
    "from sklearn.model_selection import GridSearchCV\n",
    "# from sklearn.preprocessing import PolynomialFeatures\n",
    "from sklearn.svm import SVC\n",
    "from sklearn.svm import LinearSVC\n",
    "from sklearn.ensemble import RandomForestClassifier\n",
    "from sklearn.ensemble import ExtraTreesClassifier\n",
    "from sklearn.tree import DecisionTreeClassifier\n",
    "from sklearn.ensemble import AdaBoostClassifier\n",
    "from sklearn.linear_model import LogisticRegression\n",
    "from sklearn.metrics import confusion_matrix\n",
    "from sklearn.ensemble import VotingClassifier\n",
    "from sklearn import metrics"
   ]
  },
  {
   "cell_type": "markdown",
   "metadata": {},
   "source": [
    "The MIMIC III database consists of a collection of csv files, which can be imported into PostgreSQL.  Once imported to PostgreSQL, is possible to use libraries from python to analyze the different data contained in it, make the necessary transformations to implement the desired forecast model.  The input variables will be defined from different tables and seeking relate the independent binary variable (life or death) of subjects with age, sex, results of microbiological events (test results) and severity of these results.\n",
    "\n",
    "Before you can download the data, you must complete the CITI \"Data or Specimens Only Research\" course . Once you accomplish the course you can download the data from https://physionet.org/works/MIMICIIIClinicalDatabase/. Then, the first step was to understand the structure of the database. This consists of a collection of 26 csv files, which can be imported into PostgreSQL.  These files contain medical, economic, demographic and death of patients admitted information for several years at the ICU of Beth Israel Deaconess Medical Center, as the data is sensitive, some records were changed like date of admittance and date of birth, in order to avoid the identification of the patients from these records, and this information will be misused in the future.  \n"
   ]
  },
  {
   "cell_type": "code",
   "execution_count": 2,
   "metadata": {},
   "outputs": [
    {
     "name": "stdout",
     "output_type": "stream",
     "text": [
      "4.609375\n"
     ]
    }
   ],
   "source": [
    "conn=psycopg2.connect(\n",
    "    dbname='mimic',\n",
    "    user='postgres',\n",
    "    host='localhost',\n",
    "    port=5432,\n",
    "    password= 123\n",
    ")\n",
    "cur = conn.cursor()\n",
    "process = time.process_time()\n",
    "print (process)"
   ]
  },
  {
   "cell_type": "markdown",
   "metadata": {},
   "source": [
    "The first step was creating four tables to facilitate consult the required data for the analysis, these tables are: \n",
    "\n",
    "-\tlast_event:  This table born from a join of patients and admissions tables.  In this, was selected the fields subject_id, dob, and gender. The age is computed for all patients, the last admission column is created and all age are classified by age groups as categorical variable.\n",
    "\n",
    "\n",
    "-\tage: Is a join between last_event and admission tables.  In this, I selected the subject_id, last_admit_age, gender, last_admit_time, but the records are limited to last patient admission (there are records for several admissions for some patients, so is important filter the last one to related the records with deaths when these occur) computed in last_event table.\n",
    "\n",
    "\n",
    "-\tvaluenum_avg:  In a first instance, I have grouped the 14 tables that have the data records of graphical events. As a group, it is the largest table in the database and it contains 330,712,483 records. Given the size of the data, hardware constraints, I considered a strong assumption, and is that the records in this table where the numerical value (valuenum) of these graphic events are measured, can be averaged (huge assumption) can serve as a numerical dependent variable within the models to be studied.  It is a huge assumption because I have no evidence from other studies, at least as far as I know, the results average can be done. But on the other hand, you can think by experience (as patient because I’m not physician), the results from exams are a good estimation, and the issue, at least for me, is if this data could be averaged as I did and if it could be a good proxy regressor.  For this table, I take this data: subject_id, hadm_id, itemid, and compute valuenum_avg.  \n",
    "\n",
    "\n",
    "-\tpneumonia: It is the most important table for this study because I group the relevant data from others tables like microbiology events, charted events, and demographic data.  The specific fields grouped here are: hospital_expire_flag, subject_id, hadm_id, gender, last_admittime, last_admit_age, age_group, itemid, label, category, valuenum_avg, icd9_code, short_title, spec_type_desc, org_name, ab_name, interpretation.  And this data where filtered by pneumonia word in long_title diagnosis field, values not null in interpretation in microbiology events, values not null in category laboratory items and admittime is equal to last_admittime.  The objective here is assuring me that data is complete (not null records), is related with pneumonia diagnosis and the records selected where from the last admission.\n",
    "\n",
    "The final result of these process is a sql query which filter and transform the data in a matrix with this columns fields:  hospital_expire_flag, subject_id, gender, last_admit_age, age_group, category, label, valuenum_avg, org_name, ab_name, interpretation, and 2,430,640 records to 829 patients with some diagnosis related with pneumonia panda data frame\n"
   ]
  },
  {
   "cell_type": "code",
   "execution_count": 3,
   "metadata": {},
   "outputs": [
    {
     "name": "stdout",
     "output_type": "stream",
     "text": [
      "<class 'pandas.core.frame.DataFrame'>\n",
      "RangeIndex: 2430640 entries, 0 to 2430639\n",
      "Data columns (total 11 columns):\n",
      "hospital_expire_flag    int64\n",
      "subject_id              int64\n",
      "gender                  object\n",
      "last_admit_age          float64\n",
      "age_group               object\n",
      "category                object\n",
      "label                   object\n",
      "valuenum_avg            float64\n",
      "org_name                object\n",
      "ab_name                 object\n",
      "interpretation          object\n",
      "dtypes: float64(2), int64(2), object(7)\n",
      "memory usage: 204.0+ MB\n",
      "None\n",
      "15.71875\n"
     ]
    }
   ],
   "source": [
    "sql_sl = \" SELECT hospital_expire_flag, subject_id, gender, last_admit_age, age_group, category, \\\n",
    "            label, valuenum_avg, org_name,ab_name, interpretation \\\n",
    "            FROM mimiciii.pneumonia;\"\n",
    "\n",
    "patients_pn= read_sql(sql_sl, conn, coerce_float=True, params=None)\n",
    "print (patients_pn.info())\n",
    "process = time.process_time()\n",
    "print (process)"
   ]
  },
  {
   "cell_type": "markdown",
   "metadata": {},
   "source": [
    "For each subject, I categorized the population in five types of groups according to the age recorded at the time of admission to the ICU, which are neonates [0,1], middle (1, 14), adults (14, 65), Older adults [65, 85] and older elderly people (85, 91.4].    "
   ]
  },
  {
   "cell_type": "code",
   "execution_count": 4,
   "metadata": {},
   "outputs": [
    {
     "data": {
      "text/html": [
       "<div>\n",
       "<table border=\"1\" class=\"dataframe\">\n",
       "  <thead>\n",
       "    <tr style=\"text-align: right;\">\n",
       "      <th></th>\n",
       "      <th>hospital_expire_flag</th>\n",
       "      <th>subject_id</th>\n",
       "      <th>gender</th>\n",
       "      <th>last_admit_age</th>\n",
       "      <th>age_group</th>\n",
       "      <th>category</th>\n",
       "      <th>label</th>\n",
       "      <th>valuenum_avg</th>\n",
       "      <th>org_name</th>\n",
       "      <th>ab_name</th>\n",
       "      <th>interpretation</th>\n",
       "    </tr>\n",
       "  </thead>\n",
       "  <tbody>\n",
       "    <tr>\n",
       "      <th>0</th>\n",
       "      <td>0</td>\n",
       "      <td>157</td>\n",
       "      <td>M</td>\n",
       "      <td>80.54</td>\n",
       "      <td>elderly</td>\n",
       "      <td>ABG</td>\n",
       "      <td>Arterial Base Excess</td>\n",
       "      <td>-3.75</td>\n",
       "      <td>STAPH AUREUS COAG +</td>\n",
       "      <td>TETRACYCLINE</td>\n",
       "      <td>S</td>\n",
       "    </tr>\n",
       "    <tr>\n",
       "      <th>1</th>\n",
       "      <td>0</td>\n",
       "      <td>157</td>\n",
       "      <td>M</td>\n",
       "      <td>80.54</td>\n",
       "      <td>elderly</td>\n",
       "      <td>ABG</td>\n",
       "      <td>Arterial Base Excess</td>\n",
       "      <td>-3.75</td>\n",
       "      <td>STAPH AUREUS COAG +</td>\n",
       "      <td>RIFAMPIN</td>\n",
       "      <td>S</td>\n",
       "    </tr>\n",
       "    <tr>\n",
       "      <th>2</th>\n",
       "      <td>0</td>\n",
       "      <td>157</td>\n",
       "      <td>M</td>\n",
       "      <td>80.54</td>\n",
       "      <td>elderly</td>\n",
       "      <td>ABG</td>\n",
       "      <td>Arterial Base Excess</td>\n",
       "      <td>-3.75</td>\n",
       "      <td>STAPH AUREUS COAG +</td>\n",
       "      <td>ERYTHROMYCIN</td>\n",
       "      <td>R</td>\n",
       "    </tr>\n",
       "    <tr>\n",
       "      <th>3</th>\n",
       "      <td>0</td>\n",
       "      <td>157</td>\n",
       "      <td>M</td>\n",
       "      <td>80.54</td>\n",
       "      <td>elderly</td>\n",
       "      <td>ABG</td>\n",
       "      <td>Arterial Base Excess</td>\n",
       "      <td>-3.75</td>\n",
       "      <td>STAPH AUREUS COAG +</td>\n",
       "      <td>GENTAMICIN</td>\n",
       "      <td>S</td>\n",
       "    </tr>\n",
       "    <tr>\n",
       "      <th>4</th>\n",
       "      <td>0</td>\n",
       "      <td>157</td>\n",
       "      <td>M</td>\n",
       "      <td>80.54</td>\n",
       "      <td>elderly</td>\n",
       "      <td>ABG</td>\n",
       "      <td>Arterial Base Excess</td>\n",
       "      <td>-3.75</td>\n",
       "      <td>STAPH AUREUS COAG +</td>\n",
       "      <td>VANCOMYCIN</td>\n",
       "      <td>S</td>\n",
       "    </tr>\n",
       "  </tbody>\n",
       "</table>\n",
       "</div>"
      ],
      "text/plain": [
       "   hospital_expire_flag  subject_id gender  last_admit_age age_group category  \\\n",
       "0                     0         157      M           80.54   elderly      ABG   \n",
       "1                     0         157      M           80.54   elderly      ABG   \n",
       "2                     0         157      M           80.54   elderly      ABG   \n",
       "3                     0         157      M           80.54   elderly      ABG   \n",
       "4                     0         157      M           80.54   elderly      ABG   \n",
       "\n",
       "                  label  valuenum_avg             org_name       ab_name  \\\n",
       "0  Arterial Base Excess         -3.75  STAPH AUREUS COAG +  TETRACYCLINE   \n",
       "1  Arterial Base Excess         -3.75  STAPH AUREUS COAG +      RIFAMPIN   \n",
       "2  Arterial Base Excess         -3.75  STAPH AUREUS COAG +  ERYTHROMYCIN   \n",
       "3  Arterial Base Excess         -3.75  STAPH AUREUS COAG +    GENTAMICIN   \n",
       "4  Arterial Base Excess         -3.75  STAPH AUREUS COAG +    VANCOMYCIN   \n",
       "\n",
       "  interpretation  \n",
       "0              S  \n",
       "1              S  \n",
       "2              R  \n",
       "3              S  \n",
       "4              S  "
      ]
     },
     "execution_count": 4,
     "metadata": {},
     "output_type": "execute_result"
    }
   ],
   "source": [
    "patients_pn.head()"
   ]
  },
  {
   "cell_type": "markdown",
   "metadata": {},
   "source": [
    "In the Website  they explain that the average age of these patients is 91.4 years, reason why I decided that if I want have some consistent data from this segment of the population I should replace it at least for its average value"
   ]
  },
  {
   "cell_type": "code",
   "execution_count": 5,
   "metadata": {
    "collapsed": true
   },
   "outputs": [],
   "source": [
    "row_index = patients_pn.last_admit_age >= 300\n",
    "patients_pn.loc[row_index , 'last_admit_age' ] = 91.4  #https://mimic.physionet.org/mimictables/patients/"
   ]
  },
  {
   "cell_type": "markdown",
   "metadata": {},
   "source": [
    "- Hospital_expire_flag has the binary dependent variable to the model, 0 when the patient goes out from ICU alive, and 1 when the patient has deceased while stay in ICU.  \n",
    "\n",
    "\n",
    "- Subject_id is the key value which relates the respective record with an acute patient in ICU.  gender give the patient sex of the subject.  Last_admit_age (is a computed field) has the age when the patient is admitted in ICU.\n",
    "\n",
    "\n",
    "- Age_group (is a computed field) serves to categorize the sample by age.  \n",
    "\n",
    "\n",
    "- Valuenum_avg is the average number for valuenum of this respective label measure.  Org_name contains the names of the microorganisms (bacteria) related to pneumonia, where the main ones are staph aureus coag +, klebsiella pneumoniae, escherichia coli, pseudomonas aeruginosa, staphylococcus, coagulase negative, klebsiella oxytoca, enterococcus sp, which represent 80% of the sample. "
   ]
  },
  {
   "cell_type": "markdown",
   "metadata": {},
   "source": [
    "- Category is employed to categorize the charted events, the main categories of this data column are Labs, Respiratory, Alarms, Routine Vital Signs, Chemistry which gathering the 82% of the records which are present in this query. "
   ]
  },
  {
   "cell_type": "code",
   "execution_count": 6,
   "metadata": {},
   "outputs": [
    {
     "data": {
      "text/plain": [
       "array(['ABG', 'Chemistry', 'Hematology', 'Coags', 'Enzymes', \"ABG's\",\n",
       "       'Drug Level', 'Routine Vital Signs', 'Alarms', 'Respiratory',\n",
       "       'Labs', 'General', 'Blood Gases', \"VBG's\", 'Skin - Impairment',\n",
       "       \"VBG'S\", 'Mixed Venous Gases', 'Heme/Coag', 'Other ABGs', 'CSF',\n",
       "       'Drug level', \"ABG'S\", 'Mixed VBGs', 'Urine', 'OT Notes',\n",
       "       'Hemodynamics', 'Dialysis', 'Pain/Sedation', 'GI/GU', 'NICOM',\n",
       "       'Cardiovascular (Pacer Data)', 'IABP', 'PiCCO', 'Adm History/FHPA',\n",
       "       'Access Lines - Invasive', 'Treatments', 'Scores - APACHE IV (2)',\n",
       "       'Scores - APACHE II', 'Venous ABG', 'Quick Admit', 'OB-GYN'], dtype=object)"
      ]
     },
     "execution_count": 6,
     "metadata": {},
     "output_type": "execute_result"
    }
   ],
   "source": [
    "patients_pn['category'].unique()"
   ]
  },
  {
   "cell_type": "code",
   "execution_count": 7,
   "metadata": {},
   "outputs": [
    {
     "data": {
      "text/plain": [
       "Labs                           951194\n",
       "Respiratory                    538414\n",
       "Alarms                         255555\n",
       "Routine Vital Signs            157533\n",
       "Chemistry                      106007\n",
       "General                         87434\n",
       "Skin - Impairment               56457\n",
       "Hematology                      52049\n",
       "Dialysis                        35259\n",
       "Hemodynamics                    27275\n",
       "ABG                             25475\n",
       "Coags                           25359\n",
       "Enzymes                         24121\n",
       "OT Notes                        17580\n",
       "Pain/Sedation                   10095\n",
       "Drug Level                       8189\n",
       "Cardiovascular (Pacer Data)      7590\n",
       "Scores - APACHE IV (2)           7038\n",
       "Scores - APACHE II               4950\n",
       "ABG's                            3992\n",
       "PiCCO                            3975\n",
       "VBG's                            3528\n",
       "NICOM                            3318\n",
       "GI/GU                            2793\n",
       "Blood Gases                      2782\n",
       "IABP                             2150\n",
       "Mixed Venous Gases               1819\n",
       "Treatments                       1698\n",
       "Heme/Coag                        1628\n",
       "VBG'S                            1362\n",
       "Other ABGs                       1050\n",
       "Adm History/FHPA                  632\n",
       "ABG'S                             473\n",
       "Mixed VBGs                        420\n",
       "Access Lines - Invasive           342\n",
       "Venous ABG                        316\n",
       "CSF                               315\n",
       "Drug level                        149\n",
       "Urine                             139\n",
       "OB-GYN                            124\n",
       "Quick Admit                        61\n",
       "Name: category, dtype: int64"
      ]
     },
     "execution_count": 7,
     "metadata": {},
     "output_type": "execute_result"
    }
   ],
   "source": [
    "patients_pn['category'].value_counts()"
   ]
  },
  {
   "cell_type": "code",
   "execution_count": 8,
   "metadata": {},
   "outputs": [
    {
     "name": "stdout",
     "output_type": "stream",
     "text": [
      "                       category   Count  cum_perc\n",
      "0                          Labs  951194  39.1335%\n",
      "1                   Respiratory  538414  22.1511%\n",
      "2                        Alarms  255555  10.5139%\n",
      "3           Routine Vital Signs  157533   6.4811%\n",
      "4                     Chemistry  106007   4.3613%\n",
      "5                       General   87434   3.5972%\n",
      "6             Skin - Impairment   56457   2.3227%\n",
      "7                    Hematology   52049   2.1414%\n",
      "8                      Dialysis   35259   1.4506%\n",
      "9                  Hemodynamics   27275   1.1221%\n",
      "10                          ABG   25475   1.0481%\n",
      "11                        Coags   25359   1.0433%\n",
      "12                      Enzymes   24121   0.9924%\n",
      "13                     OT Notes   17580   0.7233%\n",
      "14                Pain/Sedation   10095   0.4153%\n",
      "15                   Drug Level    8189   0.3369%\n",
      "16  Cardiovascular (Pacer Data)    7590   0.3123%\n",
      "17       Scores - APACHE IV (2)    7038   0.2896%\n",
      "18           Scores - APACHE II    4950   0.2037%\n",
      "19                        ABG's    3992   0.1642%\n",
      "20                        PiCCO    3975   0.1635%\n",
      "21                        VBG's    3528   0.1451%\n",
      "22                        NICOM    3318   0.1365%\n",
      "23                        GI/GU    2793   0.1149%\n",
      "24                  Blood Gases    2782   0.1145%\n",
      "25                         IABP    2150   0.0885%\n",
      "26           Mixed Venous Gases    1819   0.0748%\n",
      "27                   Treatments    1698   0.0699%\n",
      "28                    Heme/Coag    1628   0.0670%\n",
      "29                        VBG'S    1362   0.0560%\n",
      "30                   Other ABGs    1050   0.0432%\n",
      "31             Adm History/FHPA     632   0.0260%\n",
      "32                        ABG'S     473   0.0195%\n",
      "33                   Mixed VBGs     420   0.0173%\n",
      "34      Access Lines - Invasive     342   0.0141%\n",
      "35                   Venous ABG     316   0.0130%\n",
      "36                          CSF     315   0.0130%\n",
      "37                   Drug level     149   0.0061%\n",
      "38                        Urine     139   0.0057%\n",
      "39                       OB-GYN     124   0.0051%\n",
      "40                  Quick Admit      61   0.0025%\n"
     ]
    }
   ],
   "source": [
    "patients_category = patients_pn['category'].value_counts().reset_index()\n",
    "patients_category.columns=['category','Count']\n",
    "patients_category['Count'].apply('{:,.2f}'.format)\n",
    "patients_category['cum_perc'] = 100*patients_category.Count/patients_category.Count.sum()\n",
    "patients_category['cum_perc'] = patients_category['cum_perc'].map('{:,.4f}%'.format)\n",
    "\n",
    "print (patients_category)"
   ]
  },
  {
   "cell_type": "code",
   "execution_count": 9,
   "metadata": {},
   "outputs": [
    {
     "data": {
      "text/plain": [
       "<matplotlib.axes._subplots.AxesSubplot at 0x23014e68b70>"
      ]
     },
     "execution_count": 9,
     "metadata": {},
     "output_type": "execute_result"
    },
    {
     "data": {
      "image/png": "[encoded data removed]",
      "text/plain": [
       "<matplotlib.figure.Figure at 0x23014e680f0>"
      ]
     },
     "metadata": {},
     "output_type": "display_data"
    }
   ],
   "source": [
    "patients_pn['category'].value_counts().plot(kind='bar')"
   ]
  },
  {
   "cell_type": "markdown",
   "metadata": {},
   "source": [
    "- Label is the detail of the category, and is represented in 578 labels, where the most important are: Hemoglobin Arterial Base Excess, Phosphorous, WBC, Creatinine, Magnesium, PTT, INR, ALT, AST, Lactic Acid. And the largest amount (Hemoglobin Arterial Base Excess) represents 0.94% of the sample and the lowest (Lactic Acid) 0.82% of the sample."
   ]
  },
  {
   "cell_type": "code",
   "execution_count": 10,
   "metadata": {},
   "outputs": [
    {
     "data": {
      "text/plain": [
       "array(['Arterial Base Excess', 'Arterial CO2(Calc)', 'Arterial PaCO2',\n",
       "       'Arterial PaO2', 'Arterial pH', 'BUN (6-20)', 'Calcium (8.4-10.2)',\n",
       "       'Carbon Dioxide', 'Chloride (100-112)', 'Creatinine (0-1.3)',\n",
       "       'Differential-Bands', 'Differential-Basos', 'Differential-Eos',\n",
       "       'Differential-Lymphs', 'Differential-Monos', 'Differential-Polys',\n",
       "       'Fingerstick Glucose', 'Glucose (70-105)', 'Hematocrit',\n",
       "       'Hemoglobin', 'INR (2-4 ref. range)', 'Ionized Calcium', 'LDH',\n",
       "       'Lactic Acid(0.5-2.0)', 'Magnesium (1.6-2.6)', 'PT(11-13.5)',\n",
       "       'PTT(22-35)', 'Phosphorous(2.7-4.5)', 'Platelets',\n",
       "       'Potassium (3.5-5.3)', 'RBC', 'SaO2', 'Sodium (135-148)',\n",
       "       'Vancomycin/Random', 'WBC (4-11,000)', 'Art.pH', 'WBC   (4-11,000)',\n",
       "       'Calcium', 'Chloride', 'Creatinine', 'Glucose', 'INR',\n",
       "       'Lactic Acid', 'Magnesium', 'PTT', 'Phosphorous', 'Potassium',\n",
       "       'Sodium', 'WBC', 'Heart Rate', 'Heart rate Alarm - High',\n",
       "       'Heart Rate Alarm - Low', 'Non Invasive Blood Pressure systolic',\n",
       "       'Non Invasive Blood Pressure diastolic',\n",
       "       'Non Invasive Blood Pressure mean', 'Respiratory Rate',\n",
       "       'O2 saturation pulseoxymetry', 'Hematocrit (serum)', 'AST',\n",
       "       'Chloride (serum)', 'Cholesterol', 'Glucose (serum)', 'HDL', 'ALT',\n",
       "       'Sodium (serum)', 'Non-Invasive Blood Pressure Alarm - High',\n",
       "       'Non-Invasive Blood Pressure Alarm - Low', 'Temperature Fahrenheit',\n",
       "       'O2 Saturation Pulseoxymetry Alarm - High',\n",
       "       'O2 Saturation Pulseoxymetry Alarm - Low', 'O2 Flow',\n",
       "       'Inspired O2 Fraction', 'Resp Alarm - High', 'Resp Alarm - Low',\n",
       "       'Daily Weight', 'Alkaline Phosphate', 'BUN', 'Calcium non-ionized',\n",
       "       'CK (CPK)', 'LDL calculated', 'Total Bilirubin', 'Triglyceride',\n",
       "       'SpO2 Desat Limit', 'Admission Weight (Kg)',\n",
       "       'Admission Weight (lbs.)', 'Height', 'Height (cm)', 'Anion gap',\n",
       "       'Troponin-T', 'Potassium (serum)', 'HCO3 (serum)', 'CK-MB',\n",
       "       'Platelet Count', 'FK506', 'Prothrombin time', 'Fibrinogen', 'CPK',\n",
       "       'CPK/MB', 'Digoxin', 'Albumin (>3.2)', 'Alk. Phosphate', 'Amylase',\n",
       "       'Mixed Venous O2', 'Mixed Venous O2% Sat', 'Total Bili (0-1.5)',\n",
       "       'Venous pH', 'Minute Volume Alarm - Low',\n",
       "       'Minute Volume Alarm - High', 'PEEP set', 'PH (dipstick)',\n",
       "       'Inspired Gas Temp.', 'Paw High', 'Vti High', 'Fspn High',\n",
       "       'Apnea Interval', 'MDI #1 Puff', 'MDI #2 Puff', 'Cuff Pressure',\n",
       "       'Spont Vt', 'Spont RR', 'Tidal Volume (set)',\n",
       "       'Tidal Volume (observed)', 'Tidal Volume (spontaneous)',\n",
       "       'Minute Volume', 'Respiratory Rate (Set)',\n",
       "       'Respiratory Rate (spontaneous)', 'Respiratory Rate (Total)',\n",
       "       'Peak Insp. Pressure', 'Plateau Pressure', 'Mean Airway Pressure',\n",
       "       'Total PEEP Level', 'PSV Level', 'Inspiratory Time',\n",
       "       'Impaired Skin Length #2', 'Impaired Skin Width #2',\n",
       "       'Differential-Neuts', 'Direct Bilirubin', 'Glucose finger stick',\n",
       "       'Lipase', 'Expiratory Ratio', 'Inspiratory Ratio',\n",
       "       'Vancomycin (Trough)', 'Albumin', 'Specific Gravity (urine)',\n",
       "       'Ventilator Tank #1', 'Ventilator Tank #2', 'Fibrinogen (150-400)',\n",
       "       'Troponin', 'Direct Bili (0-0.3)', 'Total Protein(6.5-8)',\n",
       "       'Triglyceride (0-200)', 'Direct Bili', 'Total Bili',\n",
       "       'Total Protein', 'Uric Acid (2.7-7.0)', 'Gentamycin/Random',\n",
       "       'Tobramycin/Random', 'Venous CO2(Calc)', 'Venous PvCO2',\n",
       "       'Venous PvO2', 'Uric Acid', 'Arterial O2 pressure',\n",
       "       'Arterial O2 Saturation', 'Arterial CO2 Pressure', 'PH (Venous)',\n",
       "       'Ammonia', 'TCO2 (calc) Venous', 'PH (Arterial)',\n",
       "       'Differential-Atyps', 'Total Granulocyte Count (TGC)',\n",
       "       'TCO2 (calc) Arterial', 'Venous CO2 Pressure', 'Venous O2 Pressure',\n",
       "       'Gentamicin (Random)', 'Gentamicin (Peak)', 'Gentamicin (Trough)',\n",
       "       'Tobramycin (Trough)', 'Vancomycin (Random)',\n",
       "       'Potassium (whole blood)', 'PO2 (Mixed Venous)', 'Sed Rate',\n",
       "       'Vancomycin/Peak', 'Vancomycin/Trough', 'Serum Osmolality', 'SvO2',\n",
       "       'D-Dimer (0-500)', 'D-Dimer', 'Dilantin', 'ACT (102-142)',\n",
       "       'Cholesterol (<200)', 'ACT', 'Ethanol', 'Alkaline Phosphatase',\n",
       "       'Anion Gap   (8-20)', 'BANDS', 'BASOs', 'BE', 'BUN    (6-20)',\n",
       "       'Bands', 'Base Excess (other)', 'Basos', 'Calcium   (8.8-10.8)',\n",
       "       'Chloride  (100-112)', 'Creatinine   (0-0.7)', 'Eosinophils',\n",
       "       'Gentamicin Post 5-10', 'Gentamicin Pre (0-2)', 'HGB  (10.8-15.8)',\n",
       "       'Hematocrit (35-51)', 'Indirect Bili(0-1.0)', 'LYMPHS', 'Lymphs',\n",
       "       'MONOs', 'Mix Venous CO2(calc)', 'Mix Venous PCO2',\n",
       "       'Mix Venous PO2', 'Mix Venous pH', 'Monos', 'NEUTS', 'PCO2', 'PO2',\n",
       "       'Platelet  (150-440)', 'Polys', 'Potassium  (3.5-5.3)',\n",
       "       'Red Blood C(3.6-6.2)', 'Sodium  (135-148)', 'TCO2        (21-30)',\n",
       "       'TCO2 (other)', 'Total CO2', 'Triglyceride (0-250)',\n",
       "       'Urine Glucose', 'Urine Ketones', 'Urine Leukocytes',\n",
       "       'Vancomycin Post', 'Vancomycin Pre', 'WhiteBloodC 4.0-11.0', 'pCO2',\n",
       "       'pCO2 (other)', 'pO2', 'pO2 (other)', 'ph (other)',\n",
       "       'Base Excess (cap)', 'RBC(3.6-6.2)', 'TCO2 (cap)', 'WBC 4.0-11.0',\n",
       "       'pCO2 (cap)', 'pH (cap)', 'pO2 (cap)', 'pH (Art)',\n",
       "       'Gentamycin/Peak', 'Gentamycin/Trough',\n",
       "       'Arterial Blood Pressure systolic',\n",
       "       'Arterial Blood Pressure diastolic', 'Arterial Blood Pressure mean',\n",
       "       'Arterial Blood Pressure Alarm - Low',\n",
       "       'Arterial Blood Pressure Alarm - High', 'ATC %', 'P High (APRV)',\n",
       "       'P Low (APRV)', 'T High (APRV)', 'T Low (APRV)',\n",
       "       'Rest HR - Aerobic Capacity', 'Rest O2 Sat - Aerobic Capacity',\n",
       "       'Central Venous Pressure Alarm - High',\n",
       "       'Central Venous Pressure  Alarm - Low', 'Central Venous Pressure',\n",
       "       'Central Venous O2% Sat', 'Blood Flow (ml/min)',\n",
       "       'Heparin Dose (per hour)', 'Access Pressure', 'Filter Pressure',\n",
       "       'Effluent Pressure', 'Return Pressure', 'Replacement Rate',\n",
       "       'Dialysate Rate', 'Hourly Patient Fluid Removal',\n",
       "       'ART Lumen Volume', 'VEN Lumen Volume', 'Cuff Volume (mL)',\n",
       "       'Baseline Current/mA', 'Current Used/mA', 'Impaired Skin Depth #8',\n",
       "       'Impaired Skin Length #8', 'Impaired Skin Width #8', 'Current Goal',\n",
       "       'CK-MB fraction (%)', 'Estimated Energy Needs/Kg',\n",
       "       'Estimated Protein Needs/Kg', 'Ultrafiltrate Output',\n",
       "       'Hemodialysis Output', 'Glucose (whole blood)',\n",
       "       'Hematocrit (whole blood - calc)', 'Feeding Weight',\n",
       "       'Brain Natiuretic Peptide (BNP)', 'Cortisol', 'Temperature Celsius',\n",
       "       'Rest RR - Aerobic Capacity', 'Activity HR - Aerobic Capacity',\n",
       "       'Activity RR - Aerobic Capacity',\n",
       "       'Activity O2 Sat - Aerobic Capacity',\n",
       "       'Recovery HR - Aerobic Capacity', 'Recovery RR - Aerobic Capacity',\n",
       "       'Recovery O2 Sat - Aerobic Capacity', 'Bladder Pressure',\n",
       "       'Impaired Skin Length #1', 'Impaired Skin Depth #1',\n",
       "       'Impaired Skin Width #1', 'Impaired Skin Depth #2',\n",
       "       'Impaired Skin Depth #3', 'Impaired Skin Depth #4',\n",
       "       'Impaired Skin Length #3', 'Impaired Skin Length #4',\n",
       "       'Impaired Skin Width #3', 'Impaired Skin Width #4',\n",
       "       'Sodium (whole blood)', 'Chloride (whole blood)',\n",
       "       'Pinsp (Draeger only)', 'O2 Flow (additional cannula)',\n",
       "       'C Reactive Protein (CRP)', 'ART Blood Pressure Alarm - High',\n",
       "       'ART Blood Pressure Alarm - Low', 'GI pH',\n",
       "       'Rest HR -  Aerobic Activity Response',\n",
       "       'Rest RR - Aerobic Activity Response',\n",
       "       'Rest O2 Sat - Aerobic Activity Response',\n",
       "       'Activity HR - Aerobic Activity Response',\n",
       "       'Activity RR - Aerobic Activity Response',\n",
       "       'Activity O2 sat - Aerobic Activity Response',\n",
       "       'Recovery HR - Aerobic Activity Response',\n",
       "       'Recovery RR - Aerobic Activity Response',\n",
       "       'Recovery O2 sat - Aerobic Activity Response', 'Citrate (ACD-A)',\n",
       "       'PBP (Prefilter) Replacement Rate', 'Post Filter Replacement Rate',\n",
       "       'Cardiac Index (CI NICOM)', 'Cardiac Output (CO NICOM)',\n",
       "       'CO / CI Change', 'Stroke Volume (SV NICOM)',\n",
       "       'Stroke Volume Index (SVI NICOM)',\n",
       "       'Stroke Volume Variation (SVV NICOM)', 'SVI Change',\n",
       "       'Thoracic Fluid Content (TFC) (NICOM)',\n",
       "       'Total Peripheral Resistance (TPR) (NICOM)',\n",
       "       'Total Peripheral Resistance Index (TPRI) (NICOM)', 'PCA dose',\n",
       "       'PCA lockout (min)', 'PCA 1 hour limit', 'PCA basal rate (mL/hour)',\n",
       "       'PCA inject', 'PCA bolus', 'PCA attempt', 'PCA total dose',\n",
       "       'Activated Clotting Time', 'ART BP Systolic', 'ART BP Diastolic',\n",
       "       'ART BP mean', 'BiPap EPAP', 'BiPap IPAP', 'BiPap O2 Flow',\n",
       "       'Intra Cranial Pressure', 'Intra Cranial Pressure Alarm - High',\n",
       "       'Intra Cranial Pressure Alarm - Low', 'Cerebral Perfusion Pressure',\n",
       "       'Cerebral Perfusion Pressure Alarm - High',\n",
       "       'Cerebral Perfusion Pressure Alarm - Low',\n",
       "       'Manual Blood Pressure Systolic Left',\n",
       "       'Manual Blood Pressure Diastolic Left', 'Impaired Skin Length #5',\n",
       "       'Impaired Skin Width #5', 'Pulmonary Artery Pressure systolic',\n",
       "       'Pulmonary Artery Pressure diastolic',\n",
       "       'Pulmonary Artery Pressure mean',\n",
       "       'Pulmonary Artery Pressure Alarm - High',\n",
       "       'Pulmonary Artery Pressure Alarm - Low', 'Temporary AV interval',\n",
       "       'PA Line cm Mark', 'Temporary Pacemaker Wires Venticular',\n",
       "       'Assisted Systole', 'Augmented Diastole', 'BAEDP', 'IABP Mean',\n",
       "       'Unassisted Systole', 'PAEDP', 'Temporary Pacemaker Rate',\n",
       "       'Temporary Atrial Sens Setting mV',\n",
       "       'Temporary Atrial Stim Setting mA',\n",
       "       'Temporary Ventricular Sens Setting mV',\n",
       "       'Temporary Ventricular Stim Setting mA',\n",
       "       'Temporary Pacemaker Wires Atrial', 'Cardiac Output (CCO)',\n",
       "       'Permanent Pacemaker Rate', 'Blood Temperature CCO (C)',\n",
       "       'Flow Rate (L/min)', 'Impaired Skin Length #6',\n",
       "       'Impaired Skin Width #6', 'Tobramycin (Peak)',\n",
       "       'Tobramycin (Random)', 'Nitric Oxide',\n",
       "       'Transpulmonary Pressure (Exp. Hold)',\n",
       "       'Transpulmonary Pressure (Insp. Hold)', 'Small Volume Neb Dose #2',\n",
       "       'Negative Insp. Force', 'Impaired Skin Length #7',\n",
       "       'Impaired Skin Width #7', 'CO (Arterial)', 'SVV (Arterial)',\n",
       "       'SV (Arterial)', 'ScvO2 (Presep)', 'Impaired Skin Length #9',\n",
       "       'Impaired Skin Width #9', 'Impaired Skin Depth #6',\n",
       "       'Medication Infusion Rate - Adjunctive Pain Management',\n",
       "       'CI (PiCCO)', 'SVI (PiCCO)', 'SVV (PiCCO)', 'SVRI (PiCCO)',\n",
       "       'MDI #3 Puff', 'QTc', 'Recruitment Duration',\n",
       "       'Manual Blood Pressure Diastolic Right',\n",
       "       'Manual Blood Pressure Systolic Right', 'Vital Cap',\n",
       "       'Phenytoin (Dilantin)', 'Cardiac Output (thermodilution)',\n",
       "       'Temporary Venticular Sens Threshold mV',\n",
       "       'Temporary Venticular Stim Threshold mA', 'Recruitment Press',\n",
       "       'Temporary Atrial Sens Threshold mV', 'CFI (PiCCO)', 'CO (PiCCO)',\n",
       "       'ELWI (PiCCO)', 'GEDI (PiCCO)', 'Temporary Pacemaker Wires Ground',\n",
       "       'Temporary Atrial Stim Threshold mA', 'Cash amount', 'IABP Volume',\n",
       "       'Arctic Sun/Alsius Set Temp', 'Arctic Sun Water Temp',\n",
       "       'Arctic Sun/Alsius Temp #1 C', 'Arctic Sun/Alsius Temp #2 C',\n",
       "       'LDL measured', 'Phenytoin (Free)', 'Intra Cranial Pressure #2',\n",
       "       'PCWP', 'Nitric Oxide Tank Pressure', 'Vancomycin (Peak)',\n",
       "       'BIS Index Range', 'Impaired Skin Depth #5',\n",
       "       'Impaired Skin Depth #7', 'CO2 production', 'Vd/Vt Ratio',\n",
       "       'Pulsus Paradoxus', 'Skeletal Traction #1 - Pounds',\n",
       "       'Phenobarbital', 'Intra Cranial Pressure #2 Alarm - Low',\n",
       "       'BiPap bpm (S/T -Back up)', 'Epidural Infusion Rate (mL/hr)',\n",
       "       'Epidural Bolus (mL)', 'PCV Level (Avea)', 'Alsius Bath Temp',\n",
       "       'Apache IV A-aDO2', 'APACHEIII', 'ApacheIV_LOS',\n",
       "       'Epidural Total Dose (mL)', 'Thrombin', 'Impaired Skin Length #10',\n",
       "       'Impaired Skin Width #10', 'ABI Brachial BP L', 'ABI Ankle BP R',\n",
       "       'ABI Ankle BP L', 'ABI Brachial BP R', 'Volume Out (PD)',\n",
       "       'Resistance', 'AaDO2ApacheIIValue', 'AgeApacheIIScore',\n",
       "       'AgeApacheIIValue', 'APACHE II', 'APACHE II PDR - Adjusted',\n",
       "       'APACHE II Predecited Death Rate', 'ChpApacheIIScore',\n",
       "       'CreatinineApacheIIScore', 'CreatinineApacheIIValue',\n",
       "       'DswfApacheScore', 'FiO2ApacheIIValue', 'GcsApacheIIScore',\n",
       "       'HCO3ApacheIIValue', 'HCO3Score', 'HematocritApacheIIScore',\n",
       "       'HematocritApacheIIValue', 'HrApacheIIScore', 'HrApacheIIValue',\n",
       "       'MapApacheIIScore', 'MapApacheIIValue', 'OxygenApacheIIScore',\n",
       "       'PhApacheIIScore', 'PHApacheIIValue', 'PotassiumApacheIIScore',\n",
       "       'PotassiumApacheIIValue', 'RrApacheIIScore', 'RRApacheIIValue',\n",
       "       'SodiumApacheIIScore', 'SodiumApacheIIValue', 'TempApacheIIScore',\n",
       "       'TempApacheIIValue', 'WbcApacheIIScore', 'WBCApacheIIValue',\n",
       "       'AgeScore_ApacheIV', 'Albumin_ApacheIV', 'AlbuminScore_ApacheIV',\n",
       "       'Apache IV Age', 'Apache IV PaFiRatio',\n",
       "       'ApacheIV_Mortality prediction', 'ApacheIV_Natural antilog', 'APS',\n",
       "       'Bilirubin_ApacheIV', 'BiliScore_ApacheIV', 'BUN_ApacheIV',\n",
       "       'BunScore_ApacheIV', 'ChronicScore_ApacheIV', 'Creatinine_ApacheIV',\n",
       "       'CreatScore_ApacheIV', 'Ejection Fraction', 'FiO2_ApacheIV',\n",
       "       'GcsScore_ApacheIV', 'Glucose_ApacheIV', 'GlucoseScore_ApacheIV',\n",
       "       'Hematocrit_ApacheIV', 'HR_ApacheIV', 'HrScore_ApacheIV',\n",
       "       'HtScore_ApacheIV', 'LOS pre-ICU admission', 'MAP_ApacheIV',\n",
       "       'MapScore_ApacheIV', 'OxygenScore_ApacheIV', 'PCO2_ApacheIV',\n",
       "       'PH_ApacheIV', 'PHPaCO2Score_ApacheIV', 'PO2_ApacheIV',\n",
       "       'RR_ApacheIV', 'RRScore_ApacheIV', 'Sodium_ApacheIV',\n",
       "       'SodiumScore_ApacheIV', 'TemperatureF_ApacheIV',\n",
       "       'TempScore_ApacheIV', 'UrineScore_ApacheIV', 'WBC_ApacheIV',\n",
       "       'WBCScore_ApacheIV', 'Urine output_ApacheIV', 'Procan',\n",
       "       'Procan Napa', 'Thrombin (16-21)', 'ABG POTASSIUM',\n",
       "       'Albumin  (3.9-4.8)', 'Blood Glucose', 'Ion Calcium', 'ProTime',\n",
       "       'Ptt', 'SGOT', 'SGPT', 'Venous Base Excess', 'Venous CO2',\n",
       "       'Venous O2', 'Venous TCO2', 'ABG Potassium', 'ABG CHLOIRDE',\n",
       "       'ABG SODIUM', 'BloodGlucose', 'T. Protein (5-7.5)', 'SOFA Score',\n",
       "       'Volume In (PD)', 'Dwell Time (Peritoneal Dialysis)', 'Doppler BP',\n",
       "       'Intra Cranial Pressure #2 Alarm - High', 'Clot Size (cm)',\n",
       "       'Impaired Skin Depth #9', 'Impaired Skin Depth #10',\n",
       "       'Left Ventricular Assit Device Flow', 'ECMO'], dtype=object)"
      ]
     },
     "execution_count": 10,
     "metadata": {},
     "output_type": "execute_result"
    }
   ],
   "source": [
    "patients_pn['label'].unique()"
   ]
  },
  {
   "cell_type": "code",
   "execution_count": 11,
   "metadata": {},
   "outputs": [
    {
     "data": {
      "text/plain": [
       "Hemoglobin                                22879\n",
       "Arterial Base Excess                      21749\n",
       "Phosphorous                               21579\n",
       "WBC                                       21495\n",
       "Creatinine                                21495\n",
       "Magnesium                                 21474\n",
       "PTT                                       21208\n",
       "INR                                       21129\n",
       "ALT                                       20185\n",
       "AST                                       20172\n",
       "Lactic Acid                               20031\n",
       "Ionized Calcium                           19387\n",
       "Differential-Monos                        19065\n",
       "Differential-Lymphs                       19065\n",
       "Differential-Eos                          19065\n",
       "Differential-Basos                        19065\n",
       "Albumin                                   18678\n",
       "Hematocrit (serum)                        18412\n",
       "Platelet Count                            18412\n",
       "BUN                                       18412\n",
       "Glucose (serum)                           18412\n",
       "Potassium (serum)                         18412\n",
       "HCO3 (serum)                              18412\n",
       "Chloride (serum)                          18412\n",
       "Anion gap                                 18401\n",
       "Sodium (serum)                            18401\n",
       "Calcium non-ionized                       18373\n",
       "Prothrombin time                          18068\n",
       "LDH                                       17577\n",
       "TCO2 (calc) Arterial                      17494\n",
       "                                          ...  \n",
       "Resistance                                   65\n",
       "Impaired Skin Depth #9                       65\n",
       "ABG SODIUM                                   61\n",
       "ABG CHLOIRDE                                 61\n",
       "BloodGlucose                                 61\n",
       "T. Protein (5-7.5)                           61\n",
       "Pulsus Paradoxus                             60\n",
       "Impaired Skin Depth #8                       55\n",
       "Skeletal Traction #1 - Pounds                55\n",
       "Temporary AV interval                        53\n",
       "Tobramycin/Random                            50\n",
       "Intra Cranial Pressure #2 Alarm - Low        47\n",
       "Procan Napa                                  44\n",
       "Procan                                       44\n",
       "Dwell Time (Peritoneal Dialysis)             42\n",
       "Volume In (PD)                               42\n",
       "Ethanol                                      40\n",
       "Doppler BP                                   40\n",
       "Impaired Skin Depth #10                      36\n",
       "Urine Leukocytes                             26\n",
       "pH (Art)                                     26\n",
       "Urine Ketones                                26\n",
       "ABG Potassium                                18\n",
       "Intra Cranial Pressure #2                    18\n",
       "Intra Cranial Pressure #2 Alarm - High       16\n",
       "SOFA Score                                   10\n",
       "ABI Brachial BP L                             8\n",
       "ABI Ankle BP L                                8\n",
       "ABI Brachial BP R                             8\n",
       "ABI Ankle BP R                                8\n",
       "Name: label, dtype: int64"
      ]
     },
     "execution_count": 11,
     "metadata": {},
     "output_type": "execute_result"
    }
   ],
   "source": [
    "patients_pn['label'].value_counts()"
   ]
  },
  {
   "cell_type": "code",
   "execution_count": 12,
   "metadata": {},
   "outputs": [
    {
     "name": "stdout",
     "output_type": "stream",
     "text": [
      "                                      label  Count cum_perc\n",
      "0                                Hemoglobin  22879  0.9413%\n",
      "1                      Arterial Base Excess  21749  0.8948%\n",
      "2                               Phosphorous  21579  0.8878%\n",
      "3                                       WBC  21495  0.8843%\n",
      "4                                Creatinine  21495  0.8843%\n",
      "5                                 Magnesium  21474  0.8835%\n",
      "6                                       PTT  21208  0.8725%\n",
      "7                                       INR  21129  0.8693%\n",
      "8                                       ALT  20185  0.8304%\n",
      "9                                       AST  20172  0.8299%\n",
      "10                              Lactic Acid  20031  0.8241%\n",
      "11                          Ionized Calcium  19387  0.7976%\n",
      "12                       Differential-Monos  19065  0.7844%\n",
      "13                      Differential-Lymphs  19065  0.7844%\n",
      "14                         Differential-Eos  19065  0.7844%\n",
      "15                       Differential-Basos  19065  0.7844%\n",
      "16                                  Albumin  18678  0.7684%\n",
      "17                       Hematocrit (serum)  18412  0.7575%\n",
      "18                           Platelet Count  18412  0.7575%\n",
      "19                                      BUN  18412  0.7575%\n",
      "20                          Glucose (serum)  18412  0.7575%\n",
      "21                        Potassium (serum)  18412  0.7575%\n",
      "22                             HCO3 (serum)  18412  0.7575%\n",
      "23                         Chloride (serum)  18412  0.7575%\n",
      "24                                Anion gap  18401  0.7570%\n",
      "25                           Sodium (serum)  18401  0.7570%\n",
      "26                      Calcium non-ionized  18373  0.7559%\n",
      "27                         Prothrombin time  18068  0.7433%\n",
      "28                                      LDH  17577  0.7231%\n",
      "29                     TCO2 (calc) Arterial  17494  0.7197%\n",
      "..                                      ...    ...      ...\n",
      "548                              Resistance     65  0.0027%\n",
      "549                  Impaired Skin Depth #9     65  0.0027%\n",
      "550                              ABG SODIUM     61  0.0025%\n",
      "551                            ABG CHLOIRDE     61  0.0025%\n",
      "552                            BloodGlucose     61  0.0025%\n",
      "553                      T. Protein (5-7.5)     61  0.0025%\n",
      "554                        Pulsus Paradoxus     60  0.0025%\n",
      "555                  Impaired Skin Depth #8     55  0.0023%\n",
      "556           Skeletal Traction #1 - Pounds     55  0.0023%\n",
      "557                   Temporary AV interval     53  0.0022%\n",
      "558                       Tobramycin/Random     50  0.0021%\n",
      "559   Intra Cranial Pressure #2 Alarm - Low     47  0.0019%\n",
      "560                             Procan Napa     44  0.0018%\n",
      "561                                  Procan     44  0.0018%\n",
      "562        Dwell Time (Peritoneal Dialysis)     42  0.0017%\n",
      "563                          Volume In (PD)     42  0.0017%\n",
      "564                                 Ethanol     40  0.0016%\n",
      "565                              Doppler BP     40  0.0016%\n",
      "566                 Impaired Skin Depth #10     36  0.0015%\n",
      "567                        Urine Leukocytes     26  0.0011%\n",
      "568                                pH (Art)     26  0.0011%\n",
      "569                           Urine Ketones     26  0.0011%\n",
      "570                           ABG Potassium     18  0.0007%\n",
      "571               Intra Cranial Pressure #2     18  0.0007%\n",
      "572  Intra Cranial Pressure #2 Alarm - High     16  0.0007%\n",
      "573                              SOFA Score     10  0.0004%\n",
      "574                       ABI Brachial BP L      8  0.0003%\n",
      "575                          ABI Ankle BP L      8  0.0003%\n",
      "576                       ABI Brachial BP R      8  0.0003%\n",
      "577                          ABI Ankle BP R      8  0.0003%\n",
      "\n",
      "[578 rows x 3 columns]\n"
     ]
    }
   ],
   "source": [
    "patients_label = patients_pn['label'].value_counts().reset_index()\n",
    "patients_label.columns=['label','Count']\n",
    "patients_label['Count'].apply('{:,.2f}'.format)\n",
    "patients_label['cum_perc'] = 100*patients_label.Count/patients_label.Count.sum()\n",
    "patients_label['cum_perc'] = patients_label['cum_perc'].map('{:,.4f}%'.format)\n",
    "\n",
    "print (patients_label)"
   ]
  },
  {
   "cell_type": "code",
   "execution_count": 13,
   "metadata": {},
   "outputs": [
    {
     "data": {
      "text/plain": [
       "<matplotlib.axes._subplots.AxesSubplot at 0x22f998dfc88>"
      ]
     },
     "execution_count": 13,
     "metadata": {},
     "output_type": "execute_result"
    },
    {
     "data": {
      "image/png": "[encoded data removed]",
      "text/plain": [
       "<matplotlib.figure.Figure at 0x22fa304ff98>"
      ]
     },
     "metadata": {},
     "output_type": "display_data"
    }
   ],
   "source": [
    "patients_pn['label'].value_counts().plot(kind='bar')"
   ]
  },
  {
   "cell_type": "markdown",
   "metadata": {},
   "source": [
    "- Ab_name indicates which antibiotic is sensitive the microorganism, this field together with the interpretation indicates if the microorganism the degree of resistance of this one to the antibiotic., the main antibiotics evaluated are gentamicin, trimethoprim/sulfa, levofloxacin, ceftazidime, tobramycin, cefepime, ciprofloxacin, meropenem, erythromycin, oxacillin, vancomycin, ceftriaxone, tetracycline, clindamycin, piperacillin/tazo, which represent 80% of the sample."
   ]
  },
  {
   "cell_type": "code",
   "execution_count": 14,
   "metadata": {},
   "outputs": [
    {
     "data": {
      "text/plain": [
       "array(['TETRACYCLINE', 'RIFAMPIN', 'ERYTHROMYCIN', 'GENTAMICIN',\n",
       "       'VANCOMYCIN', 'OXACILLIN', 'LEVOFLOXACIN', 'PENICILLIN',\n",
       "       'AMPICILLIN', 'NITROFURANTOIN', 'LINEZOLID', 'CEFTAZIDIME',\n",
       "       'TOBRAMYCIN', 'CEFAZOLIN', 'CEFTRIAXONE', 'CIPROFLOXACIN',\n",
       "       'AMPICILLIN/SULBACTAM', 'PIPERACILLIN/TAZO', 'CEFEPIME',\n",
       "       'MEROPENEM', 'TRIMETHOPRIM/SULFA', 'CEFUROXIME', 'AMIKACIN',\n",
       "       'PIPERACILLIN', 'CHLORAMPHENICOL', 'CLINDAMYCIN', 'IMIPENEM',\n",
       "       'DAPTOMYCIN', 'PENICILLIN G'], dtype=object)"
      ]
     },
     "execution_count": 14,
     "metadata": {},
     "output_type": "execute_result"
    }
   ],
   "source": [
    "patients_pn['ab_name'].unique()"
   ]
  },
  {
   "cell_type": "code",
   "execution_count": 15,
   "metadata": {},
   "outputs": [
    {
     "data": {
      "text/plain": [
       "GENTAMICIN              250109\n",
       "TRIMETHOPRIM/SULFA      196366\n",
       "LEVOFLOXACIN            140174\n",
       "CEFTAZIDIME             136404\n",
       "TOBRAMYCIN              132454\n",
       "CEFEPIME                130684\n",
       "CIPROFLOXACIN           130334\n",
       "MEROPENEM               126236\n",
       "ERYTHROMYCIN            119631\n",
       "OXACILLIN               118439\n",
       "VANCOMYCIN              106293\n",
       "CEFTRIAXONE              95930\n",
       "TETRACYCLINE             92353\n",
       "CLINDAMYCIN              92223\n",
       "PIPERACILLIN/TAZO        91957\n",
       "RIFAMPIN                 73251\n",
       "AMPICILLIN/SULBACTAM     72894\n",
       "CEFAZOLIN                65303\n",
       "AMPICILLIN               50295\n",
       "PENICILLIN G             38486\n",
       "PIPERACILLIN             31307\n",
       "NITROFURANTOIN           28717\n",
       "CEFUROXIME               28239\n",
       "AMIKACIN                 23785\n",
       "PENICILLIN               20394\n",
       "IMIPENEM                 17084\n",
       "LINEZOLID                14807\n",
       "DAPTOMYCIN                5239\n",
       "CHLORAMPHENICOL           1252\n",
       "Name: ab_name, dtype: int64"
      ]
     },
     "execution_count": 15,
     "metadata": {},
     "output_type": "execute_result"
    }
   ],
   "source": [
    "patients_pn['ab_name'].value_counts()"
   ]
  },
  {
   "cell_type": "code",
   "execution_count": 16,
   "metadata": {},
   "outputs": [
    {
     "name": "stdout",
     "output_type": "stream",
     "text": [
      "                 ab_name   Count  cum_perc\n",
      "0             GENTAMICIN  250109  10.2898%\n",
      "1     TRIMETHOPRIM/SULFA  196366   8.0788%\n",
      "2           LEVOFLOXACIN  140174   5.7670%\n",
      "3            CEFTAZIDIME  136404   5.6119%\n",
      "4             TOBRAMYCIN  132454   5.4493%\n",
      "5               CEFEPIME  130684   5.3765%\n",
      "6          CIPROFLOXACIN  130334   5.3621%\n",
      "7              MEROPENEM  126236   5.1935%\n",
      "8           ERYTHROMYCIN  119631   4.9218%\n",
      "9              OXACILLIN  118439   4.8727%\n",
      "10            VANCOMYCIN  106293   4.3730%\n",
      "11           CEFTRIAXONE   95930   3.9467%\n",
      "12          TETRACYCLINE   92353   3.7995%\n",
      "13           CLINDAMYCIN   92223   3.7942%\n",
      "14     PIPERACILLIN/TAZO   91957   3.7832%\n",
      "15              RIFAMPIN   73251   3.0137%\n",
      "16  AMPICILLIN/SULBACTAM   72894   2.9990%\n",
      "17             CEFAZOLIN   65303   2.6867%\n",
      "18            AMPICILLIN   50295   2.0692%\n",
      "19          PENICILLIN G   38486   1.5834%\n",
      "20          PIPERACILLIN   31307   1.2880%\n",
      "21        NITROFURANTOIN   28717   1.1815%\n",
      "22            CEFUROXIME   28239   1.1618%\n",
      "23              AMIKACIN   23785   0.9785%\n",
      "24            PENICILLIN   20394   0.8390%\n",
      "25              IMIPENEM   17084   0.7029%\n",
      "26             LINEZOLID   14807   0.6092%\n",
      "27            DAPTOMYCIN    5239   0.2155%\n",
      "28       CHLORAMPHENICOL    1252   0.0515%\n"
     ]
    }
   ],
   "source": [
    "patients_ab_name = patients_pn['ab_name'].value_counts().reset_index()\n",
    "patients_ab_name.columns=['ab_name','Count']\n",
    "patients_ab_name['Count'].apply('{:,.2f}'.format)\n",
    "patients_ab_name['cum_perc'] = 100*patients_ab_name.Count/patients_ab_name.Count.sum()\n",
    "patients_ab_name['cum_perc'] = patients_ab_name ['cum_perc'].map('{:,.4f}%'.format)\n",
    "\n",
    "print (patients_ab_name)"
   ]
  },
  {
   "cell_type": "code",
   "execution_count": 17,
   "metadata": {},
   "outputs": [
    {
     "data": {
      "text/plain": [
       "<matplotlib.axes._subplots.AxesSubplot at 0x22fa8bf5160>"
      ]
     },
     "execution_count": 17,
     "metadata": {},
     "output_type": "execute_result"
    },
    {
     "data": {
      "image/png": "[encoded data removed]",
      "text/plain": [
       "<matplotlib.figure.Figure at 0x22fe0a52710>"
      ]
     },
     "metadata": {},
     "output_type": "display_data"
    }
   ],
   "source": [
    "patients_pn['ab_name'].value_counts().plot(kind='bar')"
   ]
  },
  {
   "cell_type": "markdown",
   "metadata": {},
   "source": [
    "- org_name has the microorganisms name are present in pneumonia patients.  The main organims found in this patients are staph aureus coag +, klebsiella pneumoniae, escherichia coli, pseudomonas aeruginosa, staphylococcus, coagulase negative, klebsiella oxytoca, enterococcus sp., acinetobacter baumannii complex, serratia marcescens, enterobacter cloacae."
   ]
  },
  {
   "cell_type": "code",
   "execution_count": 18,
   "metadata": {},
   "outputs": [
    {
     "data": {
      "text/plain": [
       "array(['STAPH AUREUS COAG +', 'ENTEROCOCCUS SP.', 'KLEBSIELLA PNEUMONIAE',\n",
       "       'ESCHERICHIA COLI', 'ENTEROCOCCUS FAECIUM',\n",
       "       'STAPHYLOCOCCUS, COAGULASE NEGATIVE',\n",
       "       'STENOTROPHOMONAS (XANTHOMONAS) MALTOPHILIA',\n",
       "       'ACINETOBACTER BAUMANNII', 'STREPTOCOCCUS PNEUMONIAE',\n",
       "       'PSEUDOMONAS AERUGINOSA', 'ENTEROCOCCUS FAECALIS',\n",
       "       'ENTEROBACTER CLOACAE', 'NON-FERMENTER, NOT PSEUDOMONAS AERUGINOSA',\n",
       "       'KLEBSIELLA OXYTOCA', 'KLEBSIELLA SPECIES', 'PROTEUS MIRABILIS',\n",
       "       'ENTEROBACTER AEROGENES', 'SERRATIA MARCESCENS',\n",
       "       'CITROBACTER KOSERI', 'ACINETOBACTER BAUMANNII COMPLEX',\n",
       "       'CITROBACTER FREUNDII COMPLEX', 'GRAM NEGATIVE ROD #2',\n",
       "       'POSITIVE FOR METHICILLIN RESISTANT STAPH AUREUS',\n",
       "       'BURKHOLDERIA (PSEUDOMONAS) CEPACIA', 'HAFNIA ALVEI',\n",
       "       'MORGANELLA MORGANII', 'PROTEUS VULGARIS', 'CITROBACTER SPECIES',\n",
       "       'STAPHYLOCOCCUS HOMINIS', 'ENTEROBACTER ASBURIAE',\n",
       "       'STREPTOCOCCUS ANGINOSUS (MILLERI) GROUP',\n",
       "       'BURKHOLDERIA CEPACIA GROUP', 'PANTOEA SPECIES',\n",
       "       'ENTEROBACTER GERGOVIAE', 'ENTEROBACTER SPECIES',\n",
       "       'ENTEROBACTER CLOACAE COMPLEX', 'STAPHYLOCOCCUS EPIDERMIDIS',\n",
       "       'CORYNEBACTERIUM SPECIES (DIPHTHEROIDS)', 'PROTEUS VULGARIS GROUP',\n",
       "       'GRAM NEGATIVE ROD(S)', 'STAPHYLOCOCCUS LUGDUNENSIS',\n",
       "       'PSEUDOMONAS PUTIDA/FLUORESCENS', 'AEROMONAS SPECIES',\n",
       "       'VIRIDANS STREPTOCOCCI', 'ENTEROBACTER SAKAZAKII',\n",
       "       'AEROMONAS HYDROPHILA',\n",
       "       'HAEMOPHILUS INFLUENZAE, BETA-LACTAMASE NEGATIVE',\n",
       "       'PSEUDOMONAS FLUORESCENS', 'CHRYSEOBACTERIUM INDOLOGENES',\n",
       "       'BETA STREPTOCOCCUS GROUP B', 'LACTOBACILLUS SPECIES',\n",
       "       'PROVIDENCIA STUARTII', 'SERRATIA LIQUEFACIENS',\n",
       "       'ALCALIGENES (ACHROMOBACTER) SPECIES'], dtype=object)"
      ]
     },
     "execution_count": 18,
     "metadata": {},
     "output_type": "execute_result"
    }
   ],
   "source": [
    "patients_pn['org_name'].unique()"
   ]
  },
  {
   "cell_type": "code",
   "execution_count": 19,
   "metadata": {},
   "outputs": [
    {
     "data": {
      "text/plain": [
       "STAPH AUREUS COAG +                                758120\n",
       "KLEBSIELLA PNEUMONIAE                              369507\n",
       "ESCHERICHIA COLI                                   304936\n",
       "PSEUDOMONAS AERUGINOSA                             251556\n",
       "STAPHYLOCOCCUS, COAGULASE NEGATIVE                 123864\n",
       "KLEBSIELLA OXYTOCA                                  78064\n",
       "ENTEROCOCCUS SP.                                    66151\n",
       "ACINETOBACTER BAUMANNII COMPLEX                     59623\n",
       "SERRATIA MARCESCENS                                 59299\n",
       "ENTEROBACTER CLOACAE                                56678\n",
       "PROTEUS MIRABILIS                                   38983\n",
       "ENTEROBACTER AEROGENES                              38206\n",
       "STREPTOCOCCUS PNEUMONIAE                            37870\n",
       "NON-FERMENTER, NOT PSEUDOMONAS AERUGINOSA           28490\n",
       "ENTEROCOCCUS FAECIUM                                26675\n",
       "STENOTROPHOMONAS (XANTHOMONAS) MALTOPHILIA          16186\n",
       "POSITIVE FOR METHICILLIN RESISTANT STAPH AUREUS     15453\n",
       "CITROBACTER FREUNDII COMPLEX                        12068\n",
       "STAPHYLOCOCCUS EPIDERMIDIS                          10355\n",
       "CITROBACTER KOSERI                                   9467\n",
       "ENTEROBACTER CLOACAE COMPLEX                         7277\n",
       "ACINETOBACTER BAUMANNII                              5148\n",
       "HAFNIA ALVEI                                         4130\n",
       "GRAM NEGATIVE ROD(S)                                 3769\n",
       "ENTEROCOCCUS FAECALIS                                3576\n",
       "AEROMONAS SPECIES                                    3484\n",
       "PROTEUS VULGARIS                                     3438\n",
       "PSEUDOMONAS FLUORESCENS                              3340\n",
       "MORGANELLA MORGANII                                  3227\n",
       "STAPHYLOCOCCUS HOMINIS                               3000\n",
       "STAPHYLOCOCCUS LUGDUNENSIS                           2310\n",
       "BURKHOLDERIA CEPACIA GROUP                           2308\n",
       "ALCALIGENES (ACHROMOBACTER) SPECIES                  1976\n",
       "PSEUDOMONAS PUTIDA/FLUORESCENS                       1848\n",
       "GRAM NEGATIVE ROD #2                                 1848\n",
       "ENTEROBACTER SPECIES                                 1760\n",
       "ENTEROBACTER SAKAZAKII                               1575\n",
       "AEROMONAS HYDROPHILA                                 1443\n",
       "CHRYSEOBACTERIUM INDOLOGENES                         1368\n",
       "BURKHOLDERIA (PSEUDOMONAS) CEPACIA                   1312\n",
       "PROVIDENCIA STUARTII                                 1309\n",
       "CITROBACTER SPECIES                                  1236\n",
       "PANTOEA SPECIES                                      1216\n",
       "ENTEROBACTER ASBURIAE                                1200\n",
       "PROTEUS VULGARIS GROUP                               1099\n",
       "ENTEROBACTER GERGOVIAE                               1035\n",
       "SERRATIA LIQUEFACIENS                                 776\n",
       "STREPTOCOCCUS ANGINOSUS (MILLERI) GROUP               624\n",
       "CORYNEBACTERIUM SPECIES (DIPHTHEROIDS)                592\n",
       "KLEBSIELLA SPECIES                                    576\n",
       "VIRIDANS STREPTOCOCCI                                 508\n",
       "LACTOBACILLUS SPECIES                                 399\n",
       "BETA STREPTOCOCCUS GROUP B                            278\n",
       "HAEMOPHILUS INFLUENZAE, BETA-LACTAMASE NEGATIVE       104\n",
       "Name: org_name, dtype: int64"
      ]
     },
     "execution_count": 19,
     "metadata": {},
     "output_type": "execute_result"
    }
   ],
   "source": [
    "patients_pn['org_name'].value_counts()"
   ]
  },
  {
   "cell_type": "code",
   "execution_count": 20,
   "metadata": {},
   "outputs": [
    {
     "data": {
      "text/plain": [
       "<matplotlib.axes._subplots.AxesSubplot at 0x22ffb1204a8>"
      ]
     },
     "execution_count": 20,
     "metadata": {},
     "output_type": "execute_result"
    },
    {
     "data": {
      "image/png": "[encoded data removed]",
      "text/plain": [
       "<matplotlib.figure.Figure at 0x22ffb90d6d8>"
      ]
     },
     "metadata": {},
     "output_type": "display_data"
    }
   ],
   "source": [
    "patients_pn['org_name'].value_counts().plot(kind='bar')"
   ]
  },
  {
   "cell_type": "code",
   "execution_count": 21,
   "metadata": {},
   "outputs": [
    {
     "name": "stdout",
     "output_type": "stream",
     "text": [
      "                                           org_name   Count  cum_perc\n",
      "0                               STAPH AUREUS COAG +  758120  31.1901%\n",
      "1                             KLEBSIELLA PNEUMONIAE  369507  15.2020%\n",
      "2                                  ESCHERICHIA COLI  304936  12.5455%\n",
      "3                            PSEUDOMONAS AERUGINOSA  251556  10.3494%\n",
      "4                STAPHYLOCOCCUS, COAGULASE NEGATIVE  123864   5.0959%\n",
      "5                                KLEBSIELLA OXYTOCA   78064   3.2117%\n",
      "6                                  ENTEROCOCCUS SP.   66151   2.7215%\n",
      "7                   ACINETOBACTER BAUMANNII COMPLEX   59623   2.4530%\n",
      "8                               SERRATIA MARCESCENS   59299   2.4396%\n",
      "9                              ENTEROBACTER CLOACAE   56678   2.3318%\n",
      "10                                PROTEUS MIRABILIS   38983   1.6038%\n",
      "11                           ENTEROBACTER AEROGENES   38206   1.5718%\n",
      "12                         STREPTOCOCCUS PNEUMONIAE   37870   1.5580%\n",
      "13        NON-FERMENTER, NOT PSEUDOMONAS AERUGINOSA   28490   1.1721%\n",
      "14                             ENTEROCOCCUS FAECIUM   26675   1.0974%\n",
      "15       STENOTROPHOMONAS (XANTHOMONAS) MALTOPHILIA   16186   0.6659%\n",
      "16  POSITIVE FOR METHICILLIN RESISTANT STAPH AUREUS   15453   0.6358%\n",
      "17                     CITROBACTER FREUNDII COMPLEX   12068   0.4965%\n",
      "18                       STAPHYLOCOCCUS EPIDERMIDIS   10355   0.4260%\n",
      "19                               CITROBACTER KOSERI    9467   0.3895%\n",
      "20                     ENTEROBACTER CLOACAE COMPLEX    7277   0.2994%\n",
      "21                          ACINETOBACTER BAUMANNII    5148   0.2118%\n",
      "22                                     HAFNIA ALVEI    4130   0.1699%\n",
      "23                             GRAM NEGATIVE ROD(S)    3769   0.1551%\n",
      "24                            ENTEROCOCCUS FAECALIS    3576   0.1471%\n",
      "25                                AEROMONAS SPECIES    3484   0.1433%\n",
      "26                                 PROTEUS VULGARIS    3438   0.1414%\n",
      "27                          PSEUDOMONAS FLUORESCENS    3340   0.1374%\n",
      "28                              MORGANELLA MORGANII    3227   0.1328%\n",
      "29                           STAPHYLOCOCCUS HOMINIS    3000   0.1234%\n",
      "30                       STAPHYLOCOCCUS LUGDUNENSIS    2310   0.0950%\n",
      "31                       BURKHOLDERIA CEPACIA GROUP    2308   0.0950%\n",
      "32              ALCALIGENES (ACHROMOBACTER) SPECIES    1976   0.0813%\n",
      "33                   PSEUDOMONAS PUTIDA/FLUORESCENS    1848   0.0760%\n",
      "34                             GRAM NEGATIVE ROD #2    1848   0.0760%\n",
      "35                             ENTEROBACTER SPECIES    1760   0.0724%\n",
      "36                           ENTEROBACTER SAKAZAKII    1575   0.0648%\n",
      "37                             AEROMONAS HYDROPHILA    1443   0.0594%\n",
      "38                     CHRYSEOBACTERIUM INDOLOGENES    1368   0.0563%\n",
      "39               BURKHOLDERIA (PSEUDOMONAS) CEPACIA    1312   0.0540%\n",
      "40                             PROVIDENCIA STUARTII    1309   0.0539%\n",
      "41                              CITROBACTER SPECIES    1236   0.0509%\n",
      "42                                  PANTOEA SPECIES    1216   0.0500%\n",
      "43                            ENTEROBACTER ASBURIAE    1200   0.0494%\n",
      "44                           PROTEUS VULGARIS GROUP    1099   0.0452%\n",
      "45                           ENTEROBACTER GERGOVIAE    1035   0.0426%\n",
      "46                            SERRATIA LIQUEFACIENS     776   0.0319%\n",
      "47          STREPTOCOCCUS ANGINOSUS (MILLERI) GROUP     624   0.0257%\n",
      "48           CORYNEBACTERIUM SPECIES (DIPHTHEROIDS)     592   0.0244%\n",
      "49                               KLEBSIELLA SPECIES     576   0.0237%\n",
      "50                            VIRIDANS STREPTOCOCCI     508   0.0209%\n",
      "51                            LACTOBACILLUS SPECIES     399   0.0164%\n",
      "52                       BETA STREPTOCOCCUS GROUP B     278   0.0114%\n",
      "53  HAEMOPHILUS INFLUENZAE, BETA-LACTAMASE NEGATIVE     104   0.0043%\n"
     ]
    }
   ],
   "source": [
    "patients_org_name = patients_pn['org_name'].value_counts().reset_index()\n",
    "patients_org_name.columns=['org_name','Count']\n",
    "patients_org_name['Count'].apply('{:,.2f}'.format)\n",
    "patients_org_name['cum_perc'] = 100*patients_org_name.Count/patients_org_name.Count.sum()\n",
    "patients_org_name['cum_perc'] = patients_org_name['cum_perc'].map('{:,.4f}%'.format)\n",
    "\n",
    "print (patients_org_name)"
   ]
  },
  {
   "cell_type": "markdown",
   "metadata": {},
   "source": [
    "-  interpretation indicates the results of the test,  “S” when the antibiotic is sensitive, “R” when is resistant, “I” when the antibiotic is intermediate, and “P” when is pending."
   ]
  },
  {
   "cell_type": "code",
   "execution_count": 22,
   "metadata": {},
   "outputs": [
    {
     "data": {
      "text/plain": [
       "array(['S', 'R', 'I', 'P'], dtype=object)"
      ]
     },
     "execution_count": 22,
     "metadata": {},
     "output_type": "execute_result"
    }
   ],
   "source": [
    "patients_pn['interpretation'].unique()"
   ]
  },
  {
   "cell_type": "code",
   "execution_count": 23,
   "metadata": {},
   "outputs": [
    {
     "data": {
      "text/plain": [
       "S    1617210\n",
       "R     732254\n",
       "I      81132\n",
       "P         44\n",
       "Name: interpretation, dtype: int64"
      ]
     },
     "execution_count": 23,
     "metadata": {},
     "output_type": "execute_result"
    }
   ],
   "source": [
    "patients_pn['interpretation'].value_counts()"
   ]
  },
  {
   "cell_type": "code",
   "execution_count": 24,
   "metadata": {},
   "outputs": [
    {
     "name": "stdout",
     "output_type": "stream",
     "text": [
      "  interpretation    Count  cum_perc\n",
      "0              S  1617210  66.5343%\n",
      "1              R   732254  30.1260%\n",
      "2              I    81132   3.3379%\n",
      "3              P       44   0.0018%\n"
     ]
    }
   ],
   "source": [
    "patients_interpretation = patients_pn['interpretation'].value_counts().reset_index()\n",
    "patients_interpretation.columns=['interpretation','Count']\n",
    "patients_interpretation['Count'].apply('{:,.2f}'.format)\n",
    "patients_interpretation['cum_perc'] = 100*patients_interpretation.Count/patients_interpretation.Count.sum()\n",
    "patients_interpretation['cum_perc'] = patients_interpretation ['cum_perc'].map('{:,.4f}%'.format)\n",
    "\n",
    "print (patients_interpretation)"
   ]
  },
  {
   "cell_type": "code",
   "execution_count": 25,
   "metadata": {},
   "outputs": [
    {
     "data": {
      "text/plain": [
       "<matplotlib.axes._subplots.AxesSubplot at 0x22ff6f395c0>"
      ]
     },
     "execution_count": 25,
     "metadata": {},
     "output_type": "execute_result"
    },
    {
     "data": {
      "image/png": "[encoded data removed]",
      "text/plain": [
       "<matplotlib.figure.Figure at 0x22ff331c438>"
      ]
     },
     "metadata": {},
     "output_type": "display_data"
    }
   ],
   "source": [
    "patients_pn['interpretation'].value_counts().plot(kind='bar')"
   ]
  },
  {
   "cell_type": "code",
   "execution_count": 26,
   "metadata": {},
   "outputs": [
    {
     "data": {
      "text/html": [
       "<div>\n",
       "<table border=\"1\" class=\"dataframe\">\n",
       "  <thead>\n",
       "    <tr style=\"text-align: right;\">\n",
       "      <th></th>\n",
       "      <th>hospital_expire_flag</th>\n",
       "      <th>subject_id</th>\n",
       "      <th>gender</th>\n",
       "      <th>last_admit_age</th>\n",
       "      <th>age_group</th>\n",
       "      <th>category</th>\n",
       "      <th>label</th>\n",
       "      <th>valuenum_avg</th>\n",
       "      <th>org_name</th>\n",
       "      <th>ab_name</th>\n",
       "      <th>interpretation</th>\n",
       "    </tr>\n",
       "  </thead>\n",
       "  <tbody>\n",
       "    <tr>\n",
       "      <th>0</th>\n",
       "      <td>0</td>\n",
       "      <td>157</td>\n",
       "      <td>M</td>\n",
       "      <td>80.54</td>\n",
       "      <td>elderly</td>\n",
       "      <td>ABG</td>\n",
       "      <td>Arterial Base Excess</td>\n",
       "      <td>-3.75</td>\n",
       "      <td>STAPH AUREUS COAG +</td>\n",
       "      <td>TETRACYCLINE</td>\n",
       "      <td>S</td>\n",
       "    </tr>\n",
       "    <tr>\n",
       "      <th>1</th>\n",
       "      <td>0</td>\n",
       "      <td>157</td>\n",
       "      <td>M</td>\n",
       "      <td>80.54</td>\n",
       "      <td>elderly</td>\n",
       "      <td>ABG</td>\n",
       "      <td>Arterial Base Excess</td>\n",
       "      <td>-3.75</td>\n",
       "      <td>STAPH AUREUS COAG +</td>\n",
       "      <td>RIFAMPIN</td>\n",
       "      <td>S</td>\n",
       "    </tr>\n",
       "    <tr>\n",
       "      <th>2</th>\n",
       "      <td>0</td>\n",
       "      <td>157</td>\n",
       "      <td>M</td>\n",
       "      <td>80.54</td>\n",
       "      <td>elderly</td>\n",
       "      <td>ABG</td>\n",
       "      <td>Arterial Base Excess</td>\n",
       "      <td>-3.75</td>\n",
       "      <td>STAPH AUREUS COAG +</td>\n",
       "      <td>ERYTHROMYCIN</td>\n",
       "      <td>R</td>\n",
       "    </tr>\n",
       "    <tr>\n",
       "      <th>3</th>\n",
       "      <td>0</td>\n",
       "      <td>157</td>\n",
       "      <td>M</td>\n",
       "      <td>80.54</td>\n",
       "      <td>elderly</td>\n",
       "      <td>ABG</td>\n",
       "      <td>Arterial Base Excess</td>\n",
       "      <td>-3.75</td>\n",
       "      <td>STAPH AUREUS COAG +</td>\n",
       "      <td>GENTAMICIN</td>\n",
       "      <td>S</td>\n",
       "    </tr>\n",
       "    <tr>\n",
       "      <th>4</th>\n",
       "      <td>0</td>\n",
       "      <td>157</td>\n",
       "      <td>M</td>\n",
       "      <td>80.54</td>\n",
       "      <td>elderly</td>\n",
       "      <td>ABG</td>\n",
       "      <td>Arterial Base Excess</td>\n",
       "      <td>-3.75</td>\n",
       "      <td>STAPH AUREUS COAG +</td>\n",
       "      <td>VANCOMYCIN</td>\n",
       "      <td>S</td>\n",
       "    </tr>\n",
       "  </tbody>\n",
       "</table>\n",
       "</div>"
      ],
      "text/plain": [
       "   hospital_expire_flag  subject_id gender  last_admit_age age_group category  \\\n",
       "0                     0         157      M           80.54   elderly      ABG   \n",
       "1                     0         157      M           80.54   elderly      ABG   \n",
       "2                     0         157      M           80.54   elderly      ABG   \n",
       "3                     0         157      M           80.54   elderly      ABG   \n",
       "4                     0         157      M           80.54   elderly      ABG   \n",
       "\n",
       "                  label  valuenum_avg             org_name       ab_name  \\\n",
       "0  Arterial Base Excess         -3.75  STAPH AUREUS COAG +  TETRACYCLINE   \n",
       "1  Arterial Base Excess         -3.75  STAPH AUREUS COAG +      RIFAMPIN   \n",
       "2  Arterial Base Excess         -3.75  STAPH AUREUS COAG +  ERYTHROMYCIN   \n",
       "3  Arterial Base Excess         -3.75  STAPH AUREUS COAG +    GENTAMICIN   \n",
       "4  Arterial Base Excess         -3.75  STAPH AUREUS COAG +    VANCOMYCIN   \n",
       "\n",
       "  interpretation  \n",
       "0              S  \n",
       "1              S  \n",
       "2              R  \n",
       "3              S  \n",
       "4              S  "
      ]
     },
     "execution_count": 26,
     "metadata": {},
     "output_type": "execute_result"
    }
   ],
   "source": [
    "patients_pn.head()"
   ]
  },
  {
   "cell_type": "markdown",
   "metadata": {},
   "source": [
    "To transform the matrix in a pivot table, the first step is transform some categorical variables as dummy variables.  The chosen variables are gender, age_group, category, label, org_name, ab_name, and interpretation.  This operation was done with pandas get_dummies command.  The result of this transformation is a panda data frame with shape 2,430,640 rows by 716 columns, these new columns are binaries variables and only take the number 1 once the categorical effect happened."
   ]
  },
  {
   "cell_type": "code",
   "execution_count": 27,
   "metadata": {},
   "outputs": [
    {
     "data": {
      "text/html": [
       "<div>\n",
       "<table border=\"1\" class=\"dataframe\">\n",
       "  <thead>\n",
       "    <tr style=\"text-align: right;\">\n",
       "      <th></th>\n",
       "      <th>hospital_expire_flag</th>\n",
       "      <th>subject_id</th>\n",
       "      <th>last_admit_age</th>\n",
       "      <th>valuenum_avg</th>\n",
       "      <th>gender_F</th>\n",
       "      <th>gender_M</th>\n",
       "      <th>age_group_adult</th>\n",
       "      <th>age_group_elderly</th>\n",
       "      <th>age_group_neonate</th>\n",
       "      <th>age_group_oldest old</th>\n",
       "      <th>...</th>\n",
       "      <th>ab_name_PIPERACILLIN/TAZO</th>\n",
       "      <th>ab_name_RIFAMPIN</th>\n",
       "      <th>ab_name_TETRACYCLINE</th>\n",
       "      <th>ab_name_TOBRAMYCIN</th>\n",
       "      <th>ab_name_TRIMETHOPRIM/SULFA</th>\n",
       "      <th>ab_name_VANCOMYCIN</th>\n",
       "      <th>interpretation_I</th>\n",
       "      <th>interpretation_P</th>\n",
       "      <th>interpretation_R</th>\n",
       "      <th>interpretation_S</th>\n",
       "    </tr>\n",
       "  </thead>\n",
       "  <tbody>\n",
       "    <tr>\n",
       "      <th>0</th>\n",
       "      <td>0</td>\n",
       "      <td>157</td>\n",
       "      <td>80.54</td>\n",
       "      <td>-3.75</td>\n",
       "      <td>0</td>\n",
       "      <td>1</td>\n",
       "      <td>0</td>\n",
       "      <td>1</td>\n",
       "      <td>0</td>\n",
       "      <td>0</td>\n",
       "      <td>...</td>\n",
       "      <td>0</td>\n",
       "      <td>0</td>\n",
       "      <td>1</td>\n",
       "      <td>0</td>\n",
       "      <td>0</td>\n",
       "      <td>0</td>\n",
       "      <td>0</td>\n",
       "      <td>0</td>\n",
       "      <td>0</td>\n",
       "      <td>1</td>\n",
       "    </tr>\n",
       "    <tr>\n",
       "      <th>1</th>\n",
       "      <td>0</td>\n",
       "      <td>157</td>\n",
       "      <td>80.54</td>\n",
       "      <td>-3.75</td>\n",
       "      <td>0</td>\n",
       "      <td>1</td>\n",
       "      <td>0</td>\n",
       "      <td>1</td>\n",
       "      <td>0</td>\n",
       "      <td>0</td>\n",
       "      <td>...</td>\n",
       "      <td>0</td>\n",
       "      <td>1</td>\n",
       "      <td>0</td>\n",
       "      <td>0</td>\n",
       "      <td>0</td>\n",
       "      <td>0</td>\n",
       "      <td>0</td>\n",
       "      <td>0</td>\n",
       "      <td>0</td>\n",
       "      <td>1</td>\n",
       "    </tr>\n",
       "    <tr>\n",
       "      <th>2</th>\n",
       "      <td>0</td>\n",
       "      <td>157</td>\n",
       "      <td>80.54</td>\n",
       "      <td>-3.75</td>\n",
       "      <td>0</td>\n",
       "      <td>1</td>\n",
       "      <td>0</td>\n",
       "      <td>1</td>\n",
       "      <td>0</td>\n",
       "      <td>0</td>\n",
       "      <td>...</td>\n",
       "      <td>0</td>\n",
       "      <td>0</td>\n",
       "      <td>0</td>\n",
       "      <td>0</td>\n",
       "      <td>0</td>\n",
       "      <td>0</td>\n",
       "      <td>0</td>\n",
       "      <td>0</td>\n",
       "      <td>1</td>\n",
       "      <td>0</td>\n",
       "    </tr>\n",
       "    <tr>\n",
       "      <th>3</th>\n",
       "      <td>0</td>\n",
       "      <td>157</td>\n",
       "      <td>80.54</td>\n",
       "      <td>-3.75</td>\n",
       "      <td>0</td>\n",
       "      <td>1</td>\n",
       "      <td>0</td>\n",
       "      <td>1</td>\n",
       "      <td>0</td>\n",
       "      <td>0</td>\n",
       "      <td>...</td>\n",
       "      <td>0</td>\n",
       "      <td>0</td>\n",
       "      <td>0</td>\n",
       "      <td>0</td>\n",
       "      <td>0</td>\n",
       "      <td>0</td>\n",
       "      <td>0</td>\n",
       "      <td>0</td>\n",
       "      <td>0</td>\n",
       "      <td>1</td>\n",
       "    </tr>\n",
       "    <tr>\n",
       "      <th>4</th>\n",
       "      <td>0</td>\n",
       "      <td>157</td>\n",
       "      <td>80.54</td>\n",
       "      <td>-3.75</td>\n",
       "      <td>0</td>\n",
       "      <td>1</td>\n",
       "      <td>0</td>\n",
       "      <td>1</td>\n",
       "      <td>0</td>\n",
       "      <td>0</td>\n",
       "      <td>...</td>\n",
       "      <td>0</td>\n",
       "      <td>0</td>\n",
       "      <td>0</td>\n",
       "      <td>0</td>\n",
       "      <td>0</td>\n",
       "      <td>1</td>\n",
       "      <td>0</td>\n",
       "      <td>0</td>\n",
       "      <td>0</td>\n",
       "      <td>1</td>\n",
       "    </tr>\n",
       "  </tbody>\n",
       "</table>\n",
       "<p>5 rows × 716 columns</p>\n",
       "</div>"
      ],
      "text/plain": [
       "   hospital_expire_flag  subject_id  last_admit_age  valuenum_avg  gender_F  \\\n",
       "0                     0         157           80.54         -3.75         0   \n",
       "1                     0         157           80.54         -3.75         0   \n",
       "2                     0         157           80.54         -3.75         0   \n",
       "3                     0         157           80.54         -3.75         0   \n",
       "4                     0         157           80.54         -3.75         0   \n",
       "\n",
       "   gender_M  age_group_adult  age_group_elderly  age_group_neonate  \\\n",
       "0         1                0                  1                  0   \n",
       "1         1                0                  1                  0   \n",
       "2         1                0                  1                  0   \n",
       "3         1                0                  1                  0   \n",
       "4         1                0                  1                  0   \n",
       "\n",
       "   age_group_oldest old        ...         ab_name_PIPERACILLIN/TAZO  \\\n",
       "0                     0        ...                                 0   \n",
       "1                     0        ...                                 0   \n",
       "2                     0        ...                                 0   \n",
       "3                     0        ...                                 0   \n",
       "4                     0        ...                                 0   \n",
       "\n",
       "   ab_name_RIFAMPIN  ab_name_TETRACYCLINE  ab_name_TOBRAMYCIN  \\\n",
       "0                 0                     1                   0   \n",
       "1                 1                     0                   0   \n",
       "2                 0                     0                   0   \n",
       "3                 0                     0                   0   \n",
       "4                 0                     0                   0   \n",
       "\n",
       "   ab_name_TRIMETHOPRIM/SULFA  ab_name_VANCOMYCIN  interpretation_I  \\\n",
       "0                           0                   0                 0   \n",
       "1                           0                   0                 0   \n",
       "2                           0                   0                 0   \n",
       "3                           0                   0                 0   \n",
       "4                           0                   1                 0   \n",
       "\n",
       "   interpretation_P  interpretation_R  interpretation_S  \n",
       "0                 0                 0                 1  \n",
       "1                 0                 0                 1  \n",
       "2                 0                 1                 0  \n",
       "3                 0                 0                 1  \n",
       "4                 0                 0                 1  \n",
       "\n",
       "[5 rows x 716 columns]"
      ]
     },
     "execution_count": 27,
     "metadata": {},
     "output_type": "execute_result"
    }
   ],
   "source": [
    "patients_dummy = pd.get_dummies(patients_pn,prefix=['gender', 'age_group', 'category','label', \n",
    "                                                    'org_name','ab_name', 'interpretation'])\n",
    "patients_dummy.head() "
   ]
  },
  {
   "cell_type": "markdown",
   "metadata": {},
   "source": [
    "The next step, is to transform the matrix into a PivotTable, the purpose of this transformation is to be able to have the medical data in individual lines per subject and numerical form.  \n",
    "To do that, I employed pandas pivot_table command, and using as indexes subject_id and hospital_expire_flag.  With this transformation, the resulting panda data frame has 829 rows by 724 columns.  The data transformed in this form allow apply the classifier models to this data."
   ]
  },
  {
   "cell_type": "code",
   "execution_count": 28,
   "metadata": {},
   "outputs": [
    {
     "name": "stdout",
     "output_type": "stream",
     "text": [
      "184.25\n"
     ]
    }
   ],
   "source": [
    "patients_data = pd.pivot_table(patients_dummy,index=[\"subject_id\", \"hospital_expire_flag\" ])\n",
    "process = time.process_time()\n",
    "print (process)"
   ]
  },
  {
   "cell_type": "code",
   "execution_count": 29,
   "metadata": {},
   "outputs": [
    {
     "data": {
      "text/html": [
       "<div>\n",
       "<table border=\"1\" class=\"dataframe\">\n",
       "  <thead>\n",
       "    <tr style=\"text-align: right;\">\n",
       "      <th></th>\n",
       "      <th></th>\n",
       "      <th>ab_name_AMIKACIN</th>\n",
       "      <th>ab_name_AMPICILLIN</th>\n",
       "      <th>ab_name_AMPICILLIN/SULBACTAM</th>\n",
       "      <th>ab_name_CEFAZOLIN</th>\n",
       "      <th>ab_name_CEFEPIME</th>\n",
       "      <th>ab_name_CEFTAZIDIME</th>\n",
       "      <th>ab_name_CEFTRIAXONE</th>\n",
       "      <th>ab_name_CEFUROXIME</th>\n",
       "      <th>ab_name_CHLORAMPHENICOL</th>\n",
       "      <th>ab_name_CIPROFLOXACIN</th>\n",
       "      <th>...</th>\n",
       "      <th>org_name_STAPH AUREUS COAG +</th>\n",
       "      <th>org_name_STAPHYLOCOCCUS EPIDERMIDIS</th>\n",
       "      <th>org_name_STAPHYLOCOCCUS HOMINIS</th>\n",
       "      <th>org_name_STAPHYLOCOCCUS LUGDUNENSIS</th>\n",
       "      <th>org_name_STAPHYLOCOCCUS, COAGULASE NEGATIVE</th>\n",
       "      <th>org_name_STENOTROPHOMONAS (XANTHOMONAS) MALTOPHILIA</th>\n",
       "      <th>org_name_STREPTOCOCCUS ANGINOSUS (MILLERI) GROUP</th>\n",
       "      <th>org_name_STREPTOCOCCUS PNEUMONIAE</th>\n",
       "      <th>org_name_VIRIDANS STREPTOCOCCI</th>\n",
       "      <th>valuenum_avg</th>\n",
       "    </tr>\n",
       "    <tr>\n",
       "      <th>subject_id</th>\n",
       "      <th>hospital_expire_flag</th>\n",
       "      <th></th>\n",
       "      <th></th>\n",
       "      <th></th>\n",
       "      <th></th>\n",
       "      <th></th>\n",
       "      <th></th>\n",
       "      <th></th>\n",
       "      <th></th>\n",
       "      <th></th>\n",
       "      <th></th>\n",
       "      <th></th>\n",
       "      <th></th>\n",
       "      <th></th>\n",
       "      <th></th>\n",
       "      <th></th>\n",
       "      <th></th>\n",
       "      <th></th>\n",
       "      <th></th>\n",
       "      <th></th>\n",
       "      <th></th>\n",
       "      <th></th>\n",
       "    </tr>\n",
       "  </thead>\n",
       "  <tbody>\n",
       "    <tr>\n",
       "      <th>41</th>\n",
       "      <th>0</th>\n",
       "      <td>0.0</td>\n",
       "      <td>0.018182</td>\n",
       "      <td>0.036364</td>\n",
       "      <td>0.036364</td>\n",
       "      <td>0.036364</td>\n",
       "      <td>0.036364</td>\n",
       "      <td>0.036364</td>\n",
       "      <td>0.036364</td>\n",
       "      <td>0.0</td>\n",
       "      <td>0.018182</td>\n",
       "      <td>...</td>\n",
       "      <td>0.236364</td>\n",
       "      <td>0.0</td>\n",
       "      <td>0.0</td>\n",
       "      <td>0</td>\n",
       "      <td>0.163636</td>\n",
       "      <td>0.072727</td>\n",
       "      <td>0.0</td>\n",
       "      <td>0.0</td>\n",
       "      <td>0</td>\n",
       "      <td>36.219025</td>\n",
       "    </tr>\n",
       "    <tr>\n",
       "      <th>157</th>\n",
       "      <th>0</th>\n",
       "      <td>0.0</td>\n",
       "      <td>0.076923</td>\n",
       "      <td>0.000000</td>\n",
       "      <td>0.000000</td>\n",
       "      <td>0.000000</td>\n",
       "      <td>0.000000</td>\n",
       "      <td>0.000000</td>\n",
       "      <td>0.000000</td>\n",
       "      <td>0.0</td>\n",
       "      <td>0.000000</td>\n",
       "      <td>...</td>\n",
       "      <td>0.615385</td>\n",
       "      <td>0.0</td>\n",
       "      <td>0.0</td>\n",
       "      <td>0</td>\n",
       "      <td>0.000000</td>\n",
       "      <td>0.000000</td>\n",
       "      <td>0.0</td>\n",
       "      <td>0.0</td>\n",
       "      <td>0</td>\n",
       "      <td>44.302839</td>\n",
       "    </tr>\n",
       "    <tr>\n",
       "      <th>177</th>\n",
       "      <th>0</th>\n",
       "      <td>0.0</td>\n",
       "      <td>0.000000</td>\n",
       "      <td>0.000000</td>\n",
       "      <td>0.000000</td>\n",
       "      <td>0.000000</td>\n",
       "      <td>0.000000</td>\n",
       "      <td>0.000000</td>\n",
       "      <td>0.000000</td>\n",
       "      <td>0.0</td>\n",
       "      <td>0.000000</td>\n",
       "      <td>...</td>\n",
       "      <td>1.000000</td>\n",
       "      <td>0.0</td>\n",
       "      <td>0.0</td>\n",
       "      <td>0</td>\n",
       "      <td>0.000000</td>\n",
       "      <td>0.000000</td>\n",
       "      <td>0.0</td>\n",
       "      <td>0.0</td>\n",
       "      <td>0</td>\n",
       "      <td>39.911055</td>\n",
       "    </tr>\n",
       "    <tr>\n",
       "      <th>203</th>\n",
       "      <th>0</th>\n",
       "      <td>0.0</td>\n",
       "      <td>0.000000</td>\n",
       "      <td>0.000000</td>\n",
       "      <td>0.000000</td>\n",
       "      <td>0.000000</td>\n",
       "      <td>0.000000</td>\n",
       "      <td>0.000000</td>\n",
       "      <td>0.000000</td>\n",
       "      <td>0.0</td>\n",
       "      <td>0.000000</td>\n",
       "      <td>...</td>\n",
       "      <td>1.000000</td>\n",
       "      <td>0.0</td>\n",
       "      <td>0.0</td>\n",
       "      <td>0</td>\n",
       "      <td>0.000000</td>\n",
       "      <td>0.000000</td>\n",
       "      <td>0.0</td>\n",
       "      <td>0.0</td>\n",
       "      <td>0</td>\n",
       "      <td>53.690473</td>\n",
       "    </tr>\n",
       "    <tr>\n",
       "      <th>236</th>\n",
       "      <th>0</th>\n",
       "      <td>0.0</td>\n",
       "      <td>0.000000</td>\n",
       "      <td>0.090909</td>\n",
       "      <td>0.090909</td>\n",
       "      <td>0.090909</td>\n",
       "      <td>0.090909</td>\n",
       "      <td>0.090909</td>\n",
       "      <td>0.000000</td>\n",
       "      <td>0.0</td>\n",
       "      <td>0.090909</td>\n",
       "      <td>...</td>\n",
       "      <td>0.000000</td>\n",
       "      <td>0.0</td>\n",
       "      <td>0.0</td>\n",
       "      <td>0</td>\n",
       "      <td>0.000000</td>\n",
       "      <td>0.000000</td>\n",
       "      <td>0.0</td>\n",
       "      <td>0.0</td>\n",
       "      <td>0</td>\n",
       "      <td>69.293584</td>\n",
       "    </tr>\n",
       "  </tbody>\n",
       "</table>\n",
       "<p>5 rows × 714 columns</p>\n",
       "</div>"
      ],
      "text/plain": [
       "                                 ab_name_AMIKACIN  ab_name_AMPICILLIN  \\\n",
       "subject_id hospital_expire_flag                                         \n",
       "41         0                                  0.0            0.018182   \n",
       "157        0                                  0.0            0.076923   \n",
       "177        0                                  0.0            0.000000   \n",
       "203        0                                  0.0            0.000000   \n",
       "236        0                                  0.0            0.000000   \n",
       "\n",
       "                                 ab_name_AMPICILLIN/SULBACTAM  \\\n",
       "subject_id hospital_expire_flag                                 \n",
       "41         0                                         0.036364   \n",
       "157        0                                         0.000000   \n",
       "177        0                                         0.000000   \n",
       "203        0                                         0.000000   \n",
       "236        0                                         0.090909   \n",
       "\n",
       "                                 ab_name_CEFAZOLIN  ab_name_CEFEPIME  \\\n",
       "subject_id hospital_expire_flag                                        \n",
       "41         0                              0.036364          0.036364   \n",
       "157        0                              0.000000          0.000000   \n",
       "177        0                              0.000000          0.000000   \n",
       "203        0                              0.000000          0.000000   \n",
       "236        0                              0.090909          0.090909   \n",
       "\n",
       "                                 ab_name_CEFTAZIDIME  ab_name_CEFTRIAXONE  \\\n",
       "subject_id hospital_expire_flag                                             \n",
       "41         0                                0.036364             0.036364   \n",
       "157        0                                0.000000             0.000000   \n",
       "177        0                                0.000000             0.000000   \n",
       "203        0                                0.000000             0.000000   \n",
       "236        0                                0.090909             0.090909   \n",
       "\n",
       "                                 ab_name_CEFUROXIME  ab_name_CHLORAMPHENICOL  \\\n",
       "subject_id hospital_expire_flag                                                \n",
       "41         0                               0.036364                      0.0   \n",
       "157        0                               0.000000                      0.0   \n",
       "177        0                               0.000000                      0.0   \n",
       "203        0                               0.000000                      0.0   \n",
       "236        0                               0.000000                      0.0   \n",
       "\n",
       "                                 ab_name_CIPROFLOXACIN      ...       \\\n",
       "subject_id hospital_expire_flag                             ...        \n",
       "41         0                                  0.018182      ...        \n",
       "157        0                                  0.000000      ...        \n",
       "177        0                                  0.000000      ...        \n",
       "203        0                                  0.000000      ...        \n",
       "236        0                                  0.090909      ...        \n",
       "\n",
       "                                 org_name_STAPH AUREUS COAG +  \\\n",
       "subject_id hospital_expire_flag                                 \n",
       "41         0                                         0.236364   \n",
       "157        0                                         0.615385   \n",
       "177        0                                         1.000000   \n",
       "203        0                                         1.000000   \n",
       "236        0                                         0.000000   \n",
       "\n",
       "                                 org_name_STAPHYLOCOCCUS EPIDERMIDIS  \\\n",
       "subject_id hospital_expire_flag                                        \n",
       "41         0                                                     0.0   \n",
       "157        0                                                     0.0   \n",
       "177        0                                                     0.0   \n",
       "203        0                                                     0.0   \n",
       "236        0                                                     0.0   \n",
       "\n",
       "                                 org_name_STAPHYLOCOCCUS HOMINIS  \\\n",
       "subject_id hospital_expire_flag                                    \n",
       "41         0                                                 0.0   \n",
       "157        0                                                 0.0   \n",
       "177        0                                                 0.0   \n",
       "203        0                                                 0.0   \n",
       "236        0                                                 0.0   \n",
       "\n",
       "                                 org_name_STAPHYLOCOCCUS LUGDUNENSIS  \\\n",
       "subject_id hospital_expire_flag                                        \n",
       "41         0                                                       0   \n",
       "157        0                                                       0   \n",
       "177        0                                                       0   \n",
       "203        0                                                       0   \n",
       "236        0                                                       0   \n",
       "\n",
       "                                 org_name_STAPHYLOCOCCUS, COAGULASE NEGATIVE  \\\n",
       "subject_id hospital_expire_flag                                                \n",
       "41         0                                                        0.163636   \n",
       "157        0                                                        0.000000   \n",
       "177        0                                                        0.000000   \n",
       "203        0                                                        0.000000   \n",
       "236        0                                                        0.000000   \n",
       "\n",
       "                                 org_name_STENOTROPHOMONAS (XANTHOMONAS) MALTOPHILIA  \\\n",
       "subject_id hospital_expire_flag                                                        \n",
       "41         0                                                              0.072727     \n",
       "157        0                                                              0.000000     \n",
       "177        0                                                              0.000000     \n",
       "203        0                                                              0.000000     \n",
       "236        0                                                              0.000000     \n",
       "\n",
       "                                 org_name_STREPTOCOCCUS ANGINOSUS (MILLERI) GROUP  \\\n",
       "subject_id hospital_expire_flag                                                     \n",
       "41         0                                                                  0.0   \n",
       "157        0                                                                  0.0   \n",
       "177        0                                                                  0.0   \n",
       "203        0                                                                  0.0   \n",
       "236        0                                                                  0.0   \n",
       "\n",
       "                                 org_name_STREPTOCOCCUS PNEUMONIAE  \\\n",
       "subject_id hospital_expire_flag                                      \n",
       "41         0                                                   0.0   \n",
       "157        0                                                   0.0   \n",
       "177        0                                                   0.0   \n",
       "203        0                                                   0.0   \n",
       "236        0                                                   0.0   \n",
       "\n",
       "                                 org_name_VIRIDANS STREPTOCOCCI  valuenum_avg  \n",
       "subject_id hospital_expire_flag                                                \n",
       "41         0                                                  0     36.219025  \n",
       "157        0                                                  0     44.302839  \n",
       "177        0                                                  0     39.911055  \n",
       "203        0                                                  0     53.690473  \n",
       "236        0                                                  0     69.293584  \n",
       "\n",
       "[5 rows x 714 columns]"
      ]
     },
     "execution_count": 29,
     "metadata": {},
     "output_type": "execute_result"
    }
   ],
   "source": [
    "patients_data.head()"
   ]
  },
  {
   "cell_type": "code",
   "execution_count": 30,
   "metadata": {},
   "outputs": [
    {
     "name": "stdout",
     "output_type": "stream",
     "text": [
      "<class 'pandas.core.frame.DataFrame'>\n",
      "MultiIndex: 829 entries, (41, 0) to (99985, 0)\n",
      "Columns: 714 entries, ab_name_AMIKACIN to valuenum_avg\n",
      "dtypes: float64(703), uint8(11)\n",
      "memory usage: 4.5+ MB\n"
     ]
    }
   ],
   "source": [
    "patients_data.info()"
   ]
  },
  {
   "cell_type": "code",
   "execution_count": 31,
   "metadata": {
    "collapsed": true
   },
   "outputs": [],
   "source": [
    "patients = patients_data.reset_index()"
   ]
  },
  {
   "cell_type": "code",
   "execution_count": 32,
   "metadata": {},
   "outputs": [
    {
     "data": {
      "text/html": [
       "<div>\n",
       "<table border=\"1\" class=\"dataframe\">\n",
       "  <thead>\n",
       "    <tr style=\"text-align: right;\">\n",
       "      <th></th>\n",
       "      <th>subject_id</th>\n",
       "      <th>hospital_expire_flag</th>\n",
       "      <th>ab_name_AMIKACIN</th>\n",
       "      <th>ab_name_AMPICILLIN</th>\n",
       "      <th>ab_name_AMPICILLIN/SULBACTAM</th>\n",
       "      <th>ab_name_CEFAZOLIN</th>\n",
       "      <th>ab_name_CEFEPIME</th>\n",
       "      <th>ab_name_CEFTAZIDIME</th>\n",
       "      <th>ab_name_CEFTRIAXONE</th>\n",
       "      <th>ab_name_CEFUROXIME</th>\n",
       "      <th>...</th>\n",
       "      <th>org_name_STAPH AUREUS COAG +</th>\n",
       "      <th>org_name_STAPHYLOCOCCUS EPIDERMIDIS</th>\n",
       "      <th>org_name_STAPHYLOCOCCUS HOMINIS</th>\n",
       "      <th>org_name_STAPHYLOCOCCUS LUGDUNENSIS</th>\n",
       "      <th>org_name_STAPHYLOCOCCUS, COAGULASE NEGATIVE</th>\n",
       "      <th>org_name_STENOTROPHOMONAS (XANTHOMONAS) MALTOPHILIA</th>\n",
       "      <th>org_name_STREPTOCOCCUS ANGINOSUS (MILLERI) GROUP</th>\n",
       "      <th>org_name_STREPTOCOCCUS PNEUMONIAE</th>\n",
       "      <th>org_name_VIRIDANS STREPTOCOCCI</th>\n",
       "      <th>valuenum_avg</th>\n",
       "    </tr>\n",
       "  </thead>\n",
       "  <tbody>\n",
       "    <tr>\n",
       "      <th>0</th>\n",
       "      <td>41</td>\n",
       "      <td>0</td>\n",
       "      <td>0.0</td>\n",
       "      <td>0.018182</td>\n",
       "      <td>0.036364</td>\n",
       "      <td>0.036364</td>\n",
       "      <td>0.036364</td>\n",
       "      <td>0.036364</td>\n",
       "      <td>0.036364</td>\n",
       "      <td>0.036364</td>\n",
       "      <td>...</td>\n",
       "      <td>0.236364</td>\n",
       "      <td>0.0</td>\n",
       "      <td>0.0</td>\n",
       "      <td>0</td>\n",
       "      <td>0.163636</td>\n",
       "      <td>0.072727</td>\n",
       "      <td>0.0</td>\n",
       "      <td>0.0</td>\n",
       "      <td>0</td>\n",
       "      <td>36.219025</td>\n",
       "    </tr>\n",
       "    <tr>\n",
       "      <th>1</th>\n",
       "      <td>157</td>\n",
       "      <td>0</td>\n",
       "      <td>0.0</td>\n",
       "      <td>0.076923</td>\n",
       "      <td>0.000000</td>\n",
       "      <td>0.000000</td>\n",
       "      <td>0.000000</td>\n",
       "      <td>0.000000</td>\n",
       "      <td>0.000000</td>\n",
       "      <td>0.000000</td>\n",
       "      <td>...</td>\n",
       "      <td>0.615385</td>\n",
       "      <td>0.0</td>\n",
       "      <td>0.0</td>\n",
       "      <td>0</td>\n",
       "      <td>0.000000</td>\n",
       "      <td>0.000000</td>\n",
       "      <td>0.0</td>\n",
       "      <td>0.0</td>\n",
       "      <td>0</td>\n",
       "      <td>44.302839</td>\n",
       "    </tr>\n",
       "    <tr>\n",
       "      <th>2</th>\n",
       "      <td>177</td>\n",
       "      <td>0</td>\n",
       "      <td>0.0</td>\n",
       "      <td>0.000000</td>\n",
       "      <td>0.000000</td>\n",
       "      <td>0.000000</td>\n",
       "      <td>0.000000</td>\n",
       "      <td>0.000000</td>\n",
       "      <td>0.000000</td>\n",
       "      <td>0.000000</td>\n",
       "      <td>...</td>\n",
       "      <td>1.000000</td>\n",
       "      <td>0.0</td>\n",
       "      <td>0.0</td>\n",
       "      <td>0</td>\n",
       "      <td>0.000000</td>\n",
       "      <td>0.000000</td>\n",
       "      <td>0.0</td>\n",
       "      <td>0.0</td>\n",
       "      <td>0</td>\n",
       "      <td>39.911055</td>\n",
       "    </tr>\n",
       "    <tr>\n",
       "      <th>3</th>\n",
       "      <td>203</td>\n",
       "      <td>0</td>\n",
       "      <td>0.0</td>\n",
       "      <td>0.000000</td>\n",
       "      <td>0.000000</td>\n",
       "      <td>0.000000</td>\n",
       "      <td>0.000000</td>\n",
       "      <td>0.000000</td>\n",
       "      <td>0.000000</td>\n",
       "      <td>0.000000</td>\n",
       "      <td>...</td>\n",
       "      <td>1.000000</td>\n",
       "      <td>0.0</td>\n",
       "      <td>0.0</td>\n",
       "      <td>0</td>\n",
       "      <td>0.000000</td>\n",
       "      <td>0.000000</td>\n",
       "      <td>0.0</td>\n",
       "      <td>0.0</td>\n",
       "      <td>0</td>\n",
       "      <td>53.690473</td>\n",
       "    </tr>\n",
       "    <tr>\n",
       "      <th>4</th>\n",
       "      <td>236</td>\n",
       "      <td>0</td>\n",
       "      <td>0.0</td>\n",
       "      <td>0.000000</td>\n",
       "      <td>0.090909</td>\n",
       "      <td>0.090909</td>\n",
       "      <td>0.090909</td>\n",
       "      <td>0.090909</td>\n",
       "      <td>0.090909</td>\n",
       "      <td>0.000000</td>\n",
       "      <td>...</td>\n",
       "      <td>0.000000</td>\n",
       "      <td>0.0</td>\n",
       "      <td>0.0</td>\n",
       "      <td>0</td>\n",
       "      <td>0.000000</td>\n",
       "      <td>0.000000</td>\n",
       "      <td>0.0</td>\n",
       "      <td>0.0</td>\n",
       "      <td>0</td>\n",
       "      <td>69.293584</td>\n",
       "    </tr>\n",
       "  </tbody>\n",
       "</table>\n",
       "<p>5 rows × 716 columns</p>\n",
       "</div>"
      ],
      "text/plain": [
       "   subject_id  hospital_expire_flag  ab_name_AMIKACIN  ab_name_AMPICILLIN  \\\n",
       "0          41                     0               0.0            0.018182   \n",
       "1         157                     0               0.0            0.076923   \n",
       "2         177                     0               0.0            0.000000   \n",
       "3         203                     0               0.0            0.000000   \n",
       "4         236                     0               0.0            0.000000   \n",
       "\n",
       "   ab_name_AMPICILLIN/SULBACTAM  ab_name_CEFAZOLIN  ab_name_CEFEPIME  \\\n",
       "0                      0.036364           0.036364          0.036364   \n",
       "1                      0.000000           0.000000          0.000000   \n",
       "2                      0.000000           0.000000          0.000000   \n",
       "3                      0.000000           0.000000          0.000000   \n",
       "4                      0.090909           0.090909          0.090909   \n",
       "\n",
       "   ab_name_CEFTAZIDIME  ab_name_CEFTRIAXONE  ab_name_CEFUROXIME      ...       \\\n",
       "0             0.036364             0.036364            0.036364      ...        \n",
       "1             0.000000             0.000000            0.000000      ...        \n",
       "2             0.000000             0.000000            0.000000      ...        \n",
       "3             0.000000             0.000000            0.000000      ...        \n",
       "4             0.090909             0.090909            0.000000      ...        \n",
       "\n",
       "   org_name_STAPH AUREUS COAG +  org_name_STAPHYLOCOCCUS EPIDERMIDIS  \\\n",
       "0                      0.236364                                  0.0   \n",
       "1                      0.615385                                  0.0   \n",
       "2                      1.000000                                  0.0   \n",
       "3                      1.000000                                  0.0   \n",
       "4                      0.000000                                  0.0   \n",
       "\n",
       "   org_name_STAPHYLOCOCCUS HOMINIS  org_name_STAPHYLOCOCCUS LUGDUNENSIS  \\\n",
       "0                              0.0                                    0   \n",
       "1                              0.0                                    0   \n",
       "2                              0.0                                    0   \n",
       "3                              0.0                                    0   \n",
       "4                              0.0                                    0   \n",
       "\n",
       "   org_name_STAPHYLOCOCCUS, COAGULASE NEGATIVE  \\\n",
       "0                                     0.163636   \n",
       "1                                     0.000000   \n",
       "2                                     0.000000   \n",
       "3                                     0.000000   \n",
       "4                                     0.000000   \n",
       "\n",
       "   org_name_STENOTROPHOMONAS (XANTHOMONAS) MALTOPHILIA  \\\n",
       "0                                           0.072727     \n",
       "1                                           0.000000     \n",
       "2                                           0.000000     \n",
       "3                                           0.000000     \n",
       "4                                           0.000000     \n",
       "\n",
       "   org_name_STREPTOCOCCUS ANGINOSUS (MILLERI) GROUP  \\\n",
       "0                                               0.0   \n",
       "1                                               0.0   \n",
       "2                                               0.0   \n",
       "3                                               0.0   \n",
       "4                                               0.0   \n",
       "\n",
       "   org_name_STREPTOCOCCUS PNEUMONIAE  org_name_VIRIDANS STREPTOCOCCI  \\\n",
       "0                                0.0                               0   \n",
       "1                                0.0                               0   \n",
       "2                                0.0                               0   \n",
       "3                                0.0                               0   \n",
       "4                                0.0                               0   \n",
       "\n",
       "   valuenum_avg  \n",
       "0     36.219025  \n",
       "1     44.302839  \n",
       "2     39.911055  \n",
       "3     53.690473  \n",
       "4     69.293584  \n",
       "\n",
       "[5 rows x 716 columns]"
      ]
     },
     "execution_count": 32,
     "metadata": {},
     "output_type": "execute_result"
    }
   ],
   "source": [
    "patients.head()"
   ]
  },
  {
   "cell_type": "code",
   "execution_count": 33,
   "metadata": {
    "collapsed": true
   },
   "outputs": [],
   "source": [
    "p_data= patients.ix[:,2:]"
   ]
  },
  {
   "cell_type": "code",
   "execution_count": 34,
   "metadata": {},
   "outputs": [
    {
     "data": {
      "text/html": [
       "<div>\n",
       "<table border=\"1\" class=\"dataframe\">\n",
       "  <thead>\n",
       "    <tr style=\"text-align: right;\">\n",
       "      <th></th>\n",
       "      <th>ab_name_AMIKACIN</th>\n",
       "      <th>ab_name_AMPICILLIN</th>\n",
       "      <th>ab_name_AMPICILLIN/SULBACTAM</th>\n",
       "      <th>ab_name_CEFAZOLIN</th>\n",
       "      <th>ab_name_CEFEPIME</th>\n",
       "      <th>ab_name_CEFTAZIDIME</th>\n",
       "      <th>ab_name_CEFTRIAXONE</th>\n",
       "      <th>ab_name_CEFUROXIME</th>\n",
       "      <th>ab_name_CHLORAMPHENICOL</th>\n",
       "      <th>ab_name_CIPROFLOXACIN</th>\n",
       "      <th>...</th>\n",
       "      <th>org_name_STAPH AUREUS COAG +</th>\n",
       "      <th>org_name_STAPHYLOCOCCUS EPIDERMIDIS</th>\n",
       "      <th>org_name_STAPHYLOCOCCUS HOMINIS</th>\n",
       "      <th>org_name_STAPHYLOCOCCUS LUGDUNENSIS</th>\n",
       "      <th>org_name_STAPHYLOCOCCUS, COAGULASE NEGATIVE</th>\n",
       "      <th>org_name_STENOTROPHOMONAS (XANTHOMONAS) MALTOPHILIA</th>\n",
       "      <th>org_name_STREPTOCOCCUS ANGINOSUS (MILLERI) GROUP</th>\n",
       "      <th>org_name_STREPTOCOCCUS PNEUMONIAE</th>\n",
       "      <th>org_name_VIRIDANS STREPTOCOCCI</th>\n",
       "      <th>valuenum_avg</th>\n",
       "    </tr>\n",
       "  </thead>\n",
       "  <tbody>\n",
       "    <tr>\n",
       "      <th>0</th>\n",
       "      <td>0.0</td>\n",
       "      <td>0.018182</td>\n",
       "      <td>0.036364</td>\n",
       "      <td>0.036364</td>\n",
       "      <td>0.036364</td>\n",
       "      <td>0.036364</td>\n",
       "      <td>0.036364</td>\n",
       "      <td>0.036364</td>\n",
       "      <td>0.0</td>\n",
       "      <td>0.018182</td>\n",
       "      <td>...</td>\n",
       "      <td>0.236364</td>\n",
       "      <td>0.0</td>\n",
       "      <td>0.0</td>\n",
       "      <td>0</td>\n",
       "      <td>0.163636</td>\n",
       "      <td>0.072727</td>\n",
       "      <td>0.0</td>\n",
       "      <td>0.0</td>\n",
       "      <td>0</td>\n",
       "      <td>36.219025</td>\n",
       "    </tr>\n",
       "    <tr>\n",
       "      <th>1</th>\n",
       "      <td>0.0</td>\n",
       "      <td>0.076923</td>\n",
       "      <td>0.000000</td>\n",
       "      <td>0.000000</td>\n",
       "      <td>0.000000</td>\n",
       "      <td>0.000000</td>\n",
       "      <td>0.000000</td>\n",
       "      <td>0.000000</td>\n",
       "      <td>0.0</td>\n",
       "      <td>0.000000</td>\n",
       "      <td>...</td>\n",
       "      <td>0.615385</td>\n",
       "      <td>0.0</td>\n",
       "      <td>0.0</td>\n",
       "      <td>0</td>\n",
       "      <td>0.000000</td>\n",
       "      <td>0.000000</td>\n",
       "      <td>0.0</td>\n",
       "      <td>0.0</td>\n",
       "      <td>0</td>\n",
       "      <td>44.302839</td>\n",
       "    </tr>\n",
       "    <tr>\n",
       "      <th>2</th>\n",
       "      <td>0.0</td>\n",
       "      <td>0.000000</td>\n",
       "      <td>0.000000</td>\n",
       "      <td>0.000000</td>\n",
       "      <td>0.000000</td>\n",
       "      <td>0.000000</td>\n",
       "      <td>0.000000</td>\n",
       "      <td>0.000000</td>\n",
       "      <td>0.0</td>\n",
       "      <td>0.000000</td>\n",
       "      <td>...</td>\n",
       "      <td>1.000000</td>\n",
       "      <td>0.0</td>\n",
       "      <td>0.0</td>\n",
       "      <td>0</td>\n",
       "      <td>0.000000</td>\n",
       "      <td>0.000000</td>\n",
       "      <td>0.0</td>\n",
       "      <td>0.0</td>\n",
       "      <td>0</td>\n",
       "      <td>39.911055</td>\n",
       "    </tr>\n",
       "    <tr>\n",
       "      <th>3</th>\n",
       "      <td>0.0</td>\n",
       "      <td>0.000000</td>\n",
       "      <td>0.000000</td>\n",
       "      <td>0.000000</td>\n",
       "      <td>0.000000</td>\n",
       "      <td>0.000000</td>\n",
       "      <td>0.000000</td>\n",
       "      <td>0.000000</td>\n",
       "      <td>0.0</td>\n",
       "      <td>0.000000</td>\n",
       "      <td>...</td>\n",
       "      <td>1.000000</td>\n",
       "      <td>0.0</td>\n",
       "      <td>0.0</td>\n",
       "      <td>0</td>\n",
       "      <td>0.000000</td>\n",
       "      <td>0.000000</td>\n",
       "      <td>0.0</td>\n",
       "      <td>0.0</td>\n",
       "      <td>0</td>\n",
       "      <td>53.690473</td>\n",
       "    </tr>\n",
       "    <tr>\n",
       "      <th>4</th>\n",
       "      <td>0.0</td>\n",
       "      <td>0.000000</td>\n",
       "      <td>0.090909</td>\n",
       "      <td>0.090909</td>\n",
       "      <td>0.090909</td>\n",
       "      <td>0.090909</td>\n",
       "      <td>0.090909</td>\n",
       "      <td>0.000000</td>\n",
       "      <td>0.0</td>\n",
       "      <td>0.090909</td>\n",
       "      <td>...</td>\n",
       "      <td>0.000000</td>\n",
       "      <td>0.0</td>\n",
       "      <td>0.0</td>\n",
       "      <td>0</td>\n",
       "      <td>0.000000</td>\n",
       "      <td>0.000000</td>\n",
       "      <td>0.0</td>\n",
       "      <td>0.0</td>\n",
       "      <td>0</td>\n",
       "      <td>69.293584</td>\n",
       "    </tr>\n",
       "  </tbody>\n",
       "</table>\n",
       "<p>5 rows × 714 columns</p>\n",
       "</div>"
      ],
      "text/plain": [
       "   ab_name_AMIKACIN  ab_name_AMPICILLIN  ab_name_AMPICILLIN/SULBACTAM  \\\n",
       "0               0.0            0.018182                      0.036364   \n",
       "1               0.0            0.076923                      0.000000   \n",
       "2               0.0            0.000000                      0.000000   \n",
       "3               0.0            0.000000                      0.000000   \n",
       "4               0.0            0.000000                      0.090909   \n",
       "\n",
       "   ab_name_CEFAZOLIN  ab_name_CEFEPIME  ab_name_CEFTAZIDIME  \\\n",
       "0           0.036364          0.036364             0.036364   \n",
       "1           0.000000          0.000000             0.000000   \n",
       "2           0.000000          0.000000             0.000000   \n",
       "3           0.000000          0.000000             0.000000   \n",
       "4           0.090909          0.090909             0.090909   \n",
       "\n",
       "   ab_name_CEFTRIAXONE  ab_name_CEFUROXIME  ab_name_CHLORAMPHENICOL  \\\n",
       "0             0.036364            0.036364                      0.0   \n",
       "1             0.000000            0.000000                      0.0   \n",
       "2             0.000000            0.000000                      0.0   \n",
       "3             0.000000            0.000000                      0.0   \n",
       "4             0.090909            0.000000                      0.0   \n",
       "\n",
       "   ab_name_CIPROFLOXACIN      ...       org_name_STAPH AUREUS COAG +  \\\n",
       "0               0.018182      ...                           0.236364   \n",
       "1               0.000000      ...                           0.615385   \n",
       "2               0.000000      ...                           1.000000   \n",
       "3               0.000000      ...                           1.000000   \n",
       "4               0.090909      ...                           0.000000   \n",
       "\n",
       "   org_name_STAPHYLOCOCCUS EPIDERMIDIS  org_name_STAPHYLOCOCCUS HOMINIS  \\\n",
       "0                                  0.0                              0.0   \n",
       "1                                  0.0                              0.0   \n",
       "2                                  0.0                              0.0   \n",
       "3                                  0.0                              0.0   \n",
       "4                                  0.0                              0.0   \n",
       "\n",
       "   org_name_STAPHYLOCOCCUS LUGDUNENSIS  \\\n",
       "0                                    0   \n",
       "1                                    0   \n",
       "2                                    0   \n",
       "3                                    0   \n",
       "4                                    0   \n",
       "\n",
       "   org_name_STAPHYLOCOCCUS, COAGULASE NEGATIVE  \\\n",
       "0                                     0.163636   \n",
       "1                                     0.000000   \n",
       "2                                     0.000000   \n",
       "3                                     0.000000   \n",
       "4                                     0.000000   \n",
       "\n",
       "   org_name_STENOTROPHOMONAS (XANTHOMONAS) MALTOPHILIA  \\\n",
       "0                                           0.072727     \n",
       "1                                           0.000000     \n",
       "2                                           0.000000     \n",
       "3                                           0.000000     \n",
       "4                                           0.000000     \n",
       "\n",
       "   org_name_STREPTOCOCCUS ANGINOSUS (MILLERI) GROUP  \\\n",
       "0                                               0.0   \n",
       "1                                               0.0   \n",
       "2                                               0.0   \n",
       "3                                               0.0   \n",
       "4                                               0.0   \n",
       "\n",
       "   org_name_STREPTOCOCCUS PNEUMONIAE  org_name_VIRIDANS STREPTOCOCCI  \\\n",
       "0                                0.0                               0   \n",
       "1                                0.0                               0   \n",
       "2                                0.0                               0   \n",
       "3                                0.0                               0   \n",
       "4                                0.0                               0   \n",
       "\n",
       "   valuenum_avg  \n",
       "0     36.219025  \n",
       "1     44.302839  \n",
       "2     39.911055  \n",
       "3     53.690473  \n",
       "4     69.293584  \n",
       "\n",
       "[5 rows x 714 columns]"
      ]
     },
     "execution_count": 34,
     "metadata": {},
     "output_type": "execute_result"
    }
   ],
   "source": [
    "p_data.head()"
   ]
  },
  {
   "cell_type": "code",
   "execution_count": 35,
   "metadata": {
    "collapsed": true
   },
   "outputs": [],
   "source": [
    "p_target= patients['hospital_expire_flag']"
   ]
  },
  {
   "cell_type": "code",
   "execution_count": 36,
   "metadata": {},
   "outputs": [
    {
     "data": {
      "text/plain": [
       "0    0\n",
       "1    0\n",
       "2    0\n",
       "3    0\n",
       "4    0\n",
       "Name: hospital_expire_flag, dtype: int64"
      ]
     },
     "execution_count": 36,
     "metadata": {},
     "output_type": "execute_result"
    }
   ],
   "source": [
    "p_target.head()"
   ]
  },
  {
   "cell_type": "markdown",
   "metadata": {},
   "source": [
    "In all models, the variable dependent is survival state (Alive / Deceased).   In order to sub-setting the data I work with a test size of 25% of the sample, I chose this value after some essays, a higher percentage could lower the computer velocity, and a higher value could make the results will be spurious or meaningless."
   ]
  },
  {
   "cell_type": "code",
   "execution_count": 37,
   "metadata": {
    "collapsed": true
   },
   "outputs": [],
   "source": [
    "X_train, X_test, y_train, y_test = train_test_split(\n",
    "    p_data, p_target, test_size=0.25, random_state=123)"
   ]
  },
  {
   "cell_type": "code",
   "execution_count": 38,
   "metadata": {},
   "outputs": [
    {
     "data": {
      "text/html": [
       "<div>\n",
       "<table border=\"1\" class=\"dataframe\">\n",
       "  <thead>\n",
       "    <tr style=\"text-align: right;\">\n",
       "      <th></th>\n",
       "      <th>ab_name_AMIKACIN</th>\n",
       "      <th>ab_name_AMPICILLIN</th>\n",
       "      <th>ab_name_AMPICILLIN/SULBACTAM</th>\n",
       "      <th>ab_name_CEFAZOLIN</th>\n",
       "      <th>ab_name_CEFEPIME</th>\n",
       "      <th>ab_name_CEFTAZIDIME</th>\n",
       "      <th>ab_name_CEFTRIAXONE</th>\n",
       "      <th>ab_name_CEFUROXIME</th>\n",
       "      <th>ab_name_CHLORAMPHENICOL</th>\n",
       "      <th>ab_name_CIPROFLOXACIN</th>\n",
       "      <th>...</th>\n",
       "      <th>org_name_STAPH AUREUS COAG +</th>\n",
       "      <th>org_name_STAPHYLOCOCCUS EPIDERMIDIS</th>\n",
       "      <th>org_name_STAPHYLOCOCCUS HOMINIS</th>\n",
       "      <th>org_name_STAPHYLOCOCCUS LUGDUNENSIS</th>\n",
       "      <th>org_name_STAPHYLOCOCCUS, COAGULASE NEGATIVE</th>\n",
       "      <th>org_name_STENOTROPHOMONAS (XANTHOMONAS) MALTOPHILIA</th>\n",
       "      <th>org_name_STREPTOCOCCUS ANGINOSUS (MILLERI) GROUP</th>\n",
       "      <th>org_name_STREPTOCOCCUS PNEUMONIAE</th>\n",
       "      <th>org_name_VIRIDANS STREPTOCOCCI</th>\n",
       "      <th>valuenum_avg</th>\n",
       "    </tr>\n",
       "  </thead>\n",
       "  <tbody>\n",
       "    <tr>\n",
       "      <th>121</th>\n",
       "      <td>0.000000</td>\n",
       "      <td>0.000000</td>\n",
       "      <td>0.000000</td>\n",
       "      <td>0.000000</td>\n",
       "      <td>0.000000</td>\n",
       "      <td>0.000000</td>\n",
       "      <td>0.000000</td>\n",
       "      <td>0.0</td>\n",
       "      <td>0.0</td>\n",
       "      <td>0.000000</td>\n",
       "      <td>...</td>\n",
       "      <td>1.000000</td>\n",
       "      <td>0.0</td>\n",
       "      <td>0.0</td>\n",
       "      <td>0</td>\n",
       "      <td>0.000000</td>\n",
       "      <td>0.0</td>\n",
       "      <td>0.0</td>\n",
       "      <td>0.000000</td>\n",
       "      <td>0</td>\n",
       "      <td>42.223256</td>\n",
       "    </tr>\n",
       "    <tr>\n",
       "      <th>498</th>\n",
       "      <td>0.000000</td>\n",
       "      <td>0.022222</td>\n",
       "      <td>0.022222</td>\n",
       "      <td>0.022222</td>\n",
       "      <td>0.088889</td>\n",
       "      <td>0.088889</td>\n",
       "      <td>0.088889</td>\n",
       "      <td>0.0</td>\n",
       "      <td>0.0</td>\n",
       "      <td>0.088889</td>\n",
       "      <td>...</td>\n",
       "      <td>0.155556</td>\n",
       "      <td>0.0</td>\n",
       "      <td>0.0</td>\n",
       "      <td>0</td>\n",
       "      <td>0.000000</td>\n",
       "      <td>0.0</td>\n",
       "      <td>0.0</td>\n",
       "      <td>0.044444</td>\n",
       "      <td>0</td>\n",
       "      <td>233.596849</td>\n",
       "    </tr>\n",
       "    <tr>\n",
       "      <th>161</th>\n",
       "      <td>0.000000</td>\n",
       "      <td>0.035714</td>\n",
       "      <td>0.035714</td>\n",
       "      <td>0.035714</td>\n",
       "      <td>0.035714</td>\n",
       "      <td>0.035714</td>\n",
       "      <td>0.035714</td>\n",
       "      <td>0.0</td>\n",
       "      <td>0.0</td>\n",
       "      <td>0.035714</td>\n",
       "      <td>...</td>\n",
       "      <td>0.535714</td>\n",
       "      <td>0.0</td>\n",
       "      <td>0.0</td>\n",
       "      <td>0</td>\n",
       "      <td>0.000000</td>\n",
       "      <td>0.0</td>\n",
       "      <td>0.0</td>\n",
       "      <td>0.000000</td>\n",
       "      <td>0</td>\n",
       "      <td>320.200094</td>\n",
       "    </tr>\n",
       "    <tr>\n",
       "      <th>512</th>\n",
       "      <td>0.076923</td>\n",
       "      <td>0.076923</td>\n",
       "      <td>0.076923</td>\n",
       "      <td>0.076923</td>\n",
       "      <td>0.076923</td>\n",
       "      <td>0.076923</td>\n",
       "      <td>0.076923</td>\n",
       "      <td>0.0</td>\n",
       "      <td>0.0</td>\n",
       "      <td>0.076923</td>\n",
       "      <td>...</td>\n",
       "      <td>0.000000</td>\n",
       "      <td>0.0</td>\n",
       "      <td>0.0</td>\n",
       "      <td>0</td>\n",
       "      <td>0.000000</td>\n",
       "      <td>0.0</td>\n",
       "      <td>0.0</td>\n",
       "      <td>0.000000</td>\n",
       "      <td>0</td>\n",
       "      <td>62.870238</td>\n",
       "    </tr>\n",
       "    <tr>\n",
       "      <th>209</th>\n",
       "      <td>0.000000</td>\n",
       "      <td>0.000000</td>\n",
       "      <td>0.000000</td>\n",
       "      <td>0.000000</td>\n",
       "      <td>0.098592</td>\n",
       "      <td>0.098592</td>\n",
       "      <td>0.000000</td>\n",
       "      <td>0.0</td>\n",
       "      <td>0.0</td>\n",
       "      <td>0.098592</td>\n",
       "      <td>...</td>\n",
       "      <td>0.084507</td>\n",
       "      <td>0.0</td>\n",
       "      <td>0.0</td>\n",
       "      <td>0</td>\n",
       "      <td>0.126761</td>\n",
       "      <td>0.0</td>\n",
       "      <td>0.0</td>\n",
       "      <td>0.000000</td>\n",
       "      <td>0</td>\n",
       "      <td>110.258445</td>\n",
       "    </tr>\n",
       "  </tbody>\n",
       "</table>\n",
       "<p>5 rows × 714 columns</p>\n",
       "</div>"
      ],
      "text/plain": [
       "     ab_name_AMIKACIN  ab_name_AMPICILLIN  ab_name_AMPICILLIN/SULBACTAM  \\\n",
       "121          0.000000            0.000000                      0.000000   \n",
       "498          0.000000            0.022222                      0.022222   \n",
       "161          0.000000            0.035714                      0.035714   \n",
       "512          0.076923            0.076923                      0.076923   \n",
       "209          0.000000            0.000000                      0.000000   \n",
       "\n",
       "     ab_name_CEFAZOLIN  ab_name_CEFEPIME  ab_name_CEFTAZIDIME  \\\n",
       "121           0.000000          0.000000             0.000000   \n",
       "498           0.022222          0.088889             0.088889   \n",
       "161           0.035714          0.035714             0.035714   \n",
       "512           0.076923          0.076923             0.076923   \n",
       "209           0.000000          0.098592             0.098592   \n",
       "\n",
       "     ab_name_CEFTRIAXONE  ab_name_CEFUROXIME  ab_name_CHLORAMPHENICOL  \\\n",
       "121             0.000000                 0.0                      0.0   \n",
       "498             0.088889                 0.0                      0.0   \n",
       "161             0.035714                 0.0                      0.0   \n",
       "512             0.076923                 0.0                      0.0   \n",
       "209             0.000000                 0.0                      0.0   \n",
       "\n",
       "     ab_name_CIPROFLOXACIN      ...       org_name_STAPH AUREUS COAG +  \\\n",
       "121               0.000000      ...                           1.000000   \n",
       "498               0.088889      ...                           0.155556   \n",
       "161               0.035714      ...                           0.535714   \n",
       "512               0.076923      ...                           0.000000   \n",
       "209               0.098592      ...                           0.084507   \n",
       "\n",
       "     org_name_STAPHYLOCOCCUS EPIDERMIDIS  org_name_STAPHYLOCOCCUS HOMINIS  \\\n",
       "121                                  0.0                              0.0   \n",
       "498                                  0.0                              0.0   \n",
       "161                                  0.0                              0.0   \n",
       "512                                  0.0                              0.0   \n",
       "209                                  0.0                              0.0   \n",
       "\n",
       "     org_name_STAPHYLOCOCCUS LUGDUNENSIS  \\\n",
       "121                                    0   \n",
       "498                                    0   \n",
       "161                                    0   \n",
       "512                                    0   \n",
       "209                                    0   \n",
       "\n",
       "     org_name_STAPHYLOCOCCUS, COAGULASE NEGATIVE  \\\n",
       "121                                     0.000000   \n",
       "498                                     0.000000   \n",
       "161                                     0.000000   \n",
       "512                                     0.000000   \n",
       "209                                     0.126761   \n",
       "\n",
       "     org_name_STENOTROPHOMONAS (XANTHOMONAS) MALTOPHILIA  \\\n",
       "121                                                0.0     \n",
       "498                                                0.0     \n",
       "161                                                0.0     \n",
       "512                                                0.0     \n",
       "209                                                0.0     \n",
       "\n",
       "     org_name_STREPTOCOCCUS ANGINOSUS (MILLERI) GROUP  \\\n",
       "121                                               0.0   \n",
       "498                                               0.0   \n",
       "161                                               0.0   \n",
       "512                                               0.0   \n",
       "209                                               0.0   \n",
       "\n",
       "     org_name_STREPTOCOCCUS PNEUMONIAE  org_name_VIRIDANS STREPTOCOCCI  \\\n",
       "121                           0.000000                               0   \n",
       "498                           0.044444                               0   \n",
       "161                           0.000000                               0   \n",
       "512                           0.000000                               0   \n",
       "209                           0.000000                               0   \n",
       "\n",
       "     valuenum_avg  \n",
       "121     42.223256  \n",
       "498    233.596849  \n",
       "161    320.200094  \n",
       "512     62.870238  \n",
       "209    110.258445  \n",
       "\n",
       "[5 rows x 714 columns]"
      ]
     },
     "execution_count": 38,
     "metadata": {},
     "output_type": "execute_result"
    }
   ],
   "source": [
    "X_train.head()"
   ]
  },
  {
   "cell_type": "code",
   "execution_count": 39,
   "metadata": {},
   "outputs": [
    {
     "data": {
      "text/plain": [
       "((621, 714), (621,))"
      ]
     },
     "execution_count": 39,
     "metadata": {},
     "output_type": "execute_result"
    }
   ],
   "source": [
    "X_train.shape, y_train.shape"
   ]
  },
  {
   "cell_type": "code",
   "execution_count": 40,
   "metadata": {},
   "outputs": [
    {
     "data": {
      "text/plain": [
       "((208, 714), (208,))"
      ]
     },
     "execution_count": 40,
     "metadata": {},
     "output_type": "execute_result"
    }
   ],
   "source": [
    "X_test.shape, y_test.shape"
   ]
  },
  {
   "cell_type": "markdown",
   "metadata": {},
   "source": [
    "-\tSupport Vector Machine:  Machine Support Vector (SVM) is a classification method that separates a sample points in different hyperplanes in multidimensional spaces, which are separated by different labels. The algorithm seeks to group the data (classify) by optimal search (minimum distance) between the hyperplanes, the resulting vectors are called support vectors .   The optimization is made over kernels (mathematical functions), in this analysis I used different methods: linear, radial basis function (rbf) and sigmoid.  I purposely avoided using the polynomial kernels, more because of parameterization problems that did not allow me to run the data with this algorithm.  "
   ]
  },
  {
   "cell_type": "code",
   "execution_count": 41,
   "metadata": {},
   "outputs": [
    {
     "name": "stdout",
     "output_type": "stream",
     "text": [
      "[ 0.72435897  0.71612903  0.70322581  0.72258065]\n",
      "Accuracy: 0.7166 (+/- 0.0166)\n",
      "             precision    recall  f1-score   support\n",
      "\n",
      "          0       0.74      1.00      0.85       154\n",
      "          1       0.00      0.00      0.00        54\n",
      "\n",
      "avg / total       0.55      0.74      0.63       208\n",
      "\n",
      "308.734375\n"
     ]
    },
    {
     "name": "stderr",
     "output_type": "stream",
     "text": [
      "C:\\Users\\pc1\\Anaconda3\\envs\\tensorflow\\lib\\site-packages\\sklearn\\metrics\\classification.py:1113: UndefinedMetricWarning: Precision and F-score are ill-defined and being set to 0.0 in labels with no predicted samples.\n",
      "  'precision', 'predicted', average, warn_for)\n"
     ]
    }
   ],
   "source": [
    "# the same model as above, only has changed the jobs\n",
    "\n",
    "clf_SVC = SVC(kernel='linear', C=1)\n",
    "scores_SVC = cross_val_score(clf_SVC, X_train, y_train, cv=4, n_jobs=-1)\n",
    "print(scores_SVC)\n",
    "print(\"Accuracy: %0.4f (+/- %0.4f)\" % (scores_SVC.mean(), scores_SVC.std() * 2))\n",
    "clf_SVC = clf_SVC.fit(X_train, y_train)\n",
    "y_predicted_SVC = clf_SVC.predict(X_test)\n",
    "\n",
    "print (metrics.classification_report(y_test, y_predicted_SVC))\n",
    "\n",
    "process = time.process_time()\n",
    "print (process)"
   ]
  },
  {
   "cell_type": "code",
   "execution_count": 42,
   "metadata": {},
   "outputs": [
    {
     "data": {
      "text/plain": [
       "<matplotlib.axes._subplots.AxesSubplot at 0x22f8aaa4278>"
      ]
     },
     "execution_count": 42,
     "metadata": {},
     "output_type": "execute_result"
    },
    {
     "data": {
      "image/png": "[encoded data removed]",
      "text/plain": [
       "<matplotlib.figure.Figure at 0x22f8aa86860>"
      ]
     },
     "metadata": {},
     "output_type": "display_data"
    }
   ],
   "source": [
    "sns.heatmap(confusion_matrix(y_test, y_predicted_SVC), annot = True, fmt = '', cmap = \"GnBu\")"
   ]
  },
  {
   "cell_type": "code",
   "execution_count": 43,
   "metadata": {},
   "outputs": [
    {
     "name": "stdout",
     "output_type": "stream",
     "text": [
      "Fitting the Support Vector Classification - kernel Radial Basis Function classifier to the training set\n",
      "[ 0.71794872  0.72258065  0.72258065  0.72258065]\n",
      "Accuracy: 0.72 (+/- 0.00)\n",
      "Best estimator found by grid search:\n",
      "SVC(C=1, cache_size=1000, class_weight='balanced', coef0=0.0,\n",
      "  decision_function_shape=None, degree=3, gamma=1, kernel='rbf',\n",
      "  max_iter=-1, probability=False, random_state=None, shrinking=True,\n",
      "  tol=0.001, verbose=False)\n",
      "             precision    recall  f1-score   support\n",
      "\n",
      "          0       0.75      0.99      0.85       154\n",
      "          1       0.50      0.04      0.07        54\n",
      "\n",
      "avg / total       0.68      0.74      0.65       208\n",
      "\n",
      "405.6875\n"
     ]
    }
   ],
   "source": [
    "print (\"Fitting the Support Vector Classification - kernel Radial Basis Function classifier to the training set\")\n",
    "\n",
    "param_grid = {\n",
    "          'C': [1e-3, 1e-2, 1, 1e3, 5e3, 1e4, 5e4, 1e5],\n",
    "          'gamma': [0.0001, 0.0005, 0.001, 0.005, 0.01, 0.1, 1],\n",
    "          }\n",
    "# for sklearn version 0.16 or prior, the class_weight parameter value is 'auto'\n",
    "clf_RBF = GridSearchCV(SVC(kernel='rbf', class_weight='balanced', cache_size=1000), param_grid)\n",
    "clf_RBF = clf_RBF.fit(X_train, y_train)\n",
    "\n",
    "scores_RBF = cross_val_score(clf_RBF, X_train, y_train, cv=4, n_jobs=-1)\n",
    "print(scores_RBF)\n",
    "print(\"Accuracy: %0.2f (+/- %0.2f)\" % (scores_RBF.mean(), scores_RBF.std() * 2))\n",
    "print (\"Best estimator found by grid search:\")\n",
    "print (clf_RBF.best_estimator_)\n",
    "\n",
    "y_predicted_RBF = clf_RBF.predict(X_test)\n",
    "\n",
    "print (metrics.classification_report(y_test, y_predicted_RBF))\n",
    "\n",
    "process = time.process_time()\n",
    "print (process)"
   ]
  },
  {
   "cell_type": "code",
   "execution_count": 44,
   "metadata": {},
   "outputs": [
    {
     "data": {
      "text/plain": [
       "<matplotlib.axes._subplots.AxesSubplot at 0x22f8b9bcc88>"
      ]
     },
     "execution_count": 44,
     "metadata": {},
     "output_type": "execute_result"
    },
    {
     "data": {
      "image/png": "[encoded data removed]",
      "text/plain": [
       "<matplotlib.figure.Figure at 0x22f8aa775f8>"
      ]
     },
     "metadata": {},
     "output_type": "display_data"
    }
   ],
   "source": [
    "sns.heatmap(confusion_matrix(y_test, y_predicted_RBF), annot = True, fmt = '', cmap = \"GnBu\")"
   ]
  },
  {
   "cell_type": "code",
   "execution_count": 45,
   "metadata": {},
   "outputs": [
    {
     "name": "stdout",
     "output_type": "stream",
     "text": [
      "Fitting the Linear Support Vector Classification - Hingue loss classifier to the training set\n",
      "[ 0.72435897  0.72258065  0.72258065  0.72258065]\n",
      "Accuracy: 0.7230 (+/- 0.0015)\n",
      "Best estimator found by grid search:\n",
      "LinearSVC(C=0.001, class_weight=None, dual=True, fit_intercept=True,\n",
      "     intercept_scaling=1, loss='hinge', max_iter=1000, multi_class='ovr',\n",
      "     penalty='l2', random_state=None, tol=0.0001, verbose=0)\n",
      "             precision    recall  f1-score   support\n",
      "\n",
      "          0       0.74      1.00      0.85       154\n",
      "          1       0.00      0.00      0.00        54\n",
      "\n",
      "avg / total       0.55      0.74      0.63       208\n",
      "\n",
      "406.53125\n"
     ]
    },
    {
     "name": "stderr",
     "output_type": "stream",
     "text": [
      "C:\\Users\\pc1\\Anaconda3\\envs\\tensorflow\\lib\\site-packages\\sklearn\\metrics\\classification.py:1113: UndefinedMetricWarning: Precision and F-score are ill-defined and being set to 0.0 in labels with no predicted samples.\n",
      "  'precision', 'predicted', average, warn_for)\n"
     ]
    }
   ],
   "source": [
    "# Mimic-iii_Model-Pulmonary.ipynb\n",
    "print (\"Fitting the Linear Support Vector Classification - Hingue loss classifier to the training set\")\n",
    "\n",
    "param_grid = {\n",
    "         'C': [1e-3, 1e-2, 1, 1e3, 5e3, 1e4, 5e4, 1e5],\n",
    "          #'gamma': [0.0001, 0.0005, 0.001, 0.005, 0.01, 0.1, 1],\n",
    "          }\n",
    "# for sklearn version 0.16 or prior, the class_weight parameter value is 'auto'\n",
    "clf_LSCV = GridSearchCV(LinearSVC(C=1, loss= 'hinge'), param_grid, n_jobs=-1)\n",
    "clf_LSCV = clf_LSCV.fit(X_train, y_train)\n",
    "\n",
    "scores_LSCV = cross_val_score(clf_LSCV, X_train, y_train, cv=4, n_jobs=-1)\n",
    "print(scores_LSCV)\n",
    "print(\"Accuracy: %0.4f (+/- %0.4f)\" % (scores_LSCV.mean(), scores_LSCV.std() * 2))\n",
    "\n",
    "print (\"Best estimator found by grid search:\")\n",
    "print (clf_LSCV.best_estimator_)\n",
    "\n",
    "y_predicted_LSCV = clf_LSCV.predict(X_test)\n",
    "\n",
    "print (metrics.classification_report(y_test, y_predicted_LSCV))\n",
    "\n",
    "process = time.process_time()\n",
    "print (process)"
   ]
  },
  {
   "cell_type": "code",
   "execution_count": 46,
   "metadata": {},
   "outputs": [
    {
     "data": {
      "text/plain": [
       "<matplotlib.axes._subplots.AxesSubplot at 0x22f8c141320>"
      ]
     },
     "execution_count": 46,
     "metadata": {},
     "output_type": "execute_result"
    },
    {
     "data": {
      "image/png": "[encoded data removed]",
      "text/plain": [
       "<matplotlib.figure.Figure at 0x22f8ab2c048>"
      ]
     },
     "metadata": {},
     "output_type": "display_data"
    }
   ],
   "source": [
    "sns.heatmap(confusion_matrix(y_test, y_predicted_LSCV), annot = True, fmt = '', cmap = \"GnBu\")"
   ]
  },
  {
   "cell_type": "markdown",
   "metadata": {},
   "source": [
    "- I was struggling a lot with this model, for that reason I will not use this for capstone project\n",
    "\n",
    "print (\"Fitting the classifier to the training set\")\n",
    "from sklearn.tree import DecisionTreeClassifier\n",
    "param_grid = {\n",
    "         'C': [1e-3, 1e-2, 1, 1e3, 5e3, 1e4, 5e4, 1e5],\n",
    "         'gamma': [0.0001, 0.0005, 0.001, 0.005, 0.01, 0.1, 1],\n",
    "         'degree': [3,4,5]\n",
    "          }\n",
    "- for sklearn version 0.16 or prior, the class_weight parameter value is 'auto'\n",
    "\n",
    "clf_poly = GridSearchCV(SVC(kernel='poly', class_weight='balanced'), param_grid, n_jobs=-1)\n",
    "clf_poly = clf_poly.fit(X_train, y_train)\n",
    "\n",
    "scores_poly = cross_val_score(clf_poly, X_train, y_train, cv=4,n_jobs=-1)\n",
    "print(scores_poly)\n",
    "print(\"Accuracy: %0.4f (+/- %0.4f)\" % (scores_poly.mean(), scores_poly.std() * 2))\n",
    "\n",
    "print (\"Best estimator found by grid search:\")\n",
    "print (clf_poly.best_estimator_)\n",
    "\n",
    "y_predicted_poly = clf_poly.predict(X_test)\n",
    "\n",
    "print (metrics.classification_report(y_test, y_predicted_poly))\n",
    "\n",
    "process = time.process_time()\n",
    "print (process)"
   ]
  },
  {
   "cell_type": "code",
   "execution_count": 47,
   "metadata": {},
   "outputs": [
    {
     "name": "stdout",
     "output_type": "stream",
     "text": [
      "Fitting the Support Vector Classification - kernel Sigmoid classifier to the training set\n",
      "[ 0.62179487  0.67096774  0.57419355  0.6       ]\n",
      "Accuracy: 0.6167 (+/- 0.0711)\n",
      "Best estimator found by grid search:\n",
      "SVC(C=1000.0, cache_size=200, class_weight='balanced', coef0=1,\n",
      "  decision_function_shape=None, degree=3, gamma=0.001, kernel='sigmoid',\n",
      "  max_iter=-1, probability=False, random_state=None, shrinking=True,\n",
      "  tol=0.001, verbose=False)\n",
      "             precision    recall  f1-score   support\n",
      "\n",
      "          0       0.72      0.68      0.70       154\n",
      "          1       0.22      0.26      0.24        54\n",
      "\n",
      "avg / total       0.59      0.57      0.58       208\n",
      "\n",
      "409.609375\n"
     ]
    }
   ],
   "source": [
    "print (\"Fitting the Support Vector Classification - kernel Sigmoid classifier to the training set\")\n",
    "\n",
    "param_grid = {\n",
    "         'C': [1e3, 1e4, 1e5],\n",
    "         'gamma': [0.0001, 0.0005, 0.001, 0.005, 0.01, 0.1, 1],\n",
    "         'coef0':[-1,0,1]\n",
    "          }\n",
    "# for sklearn version 0.16 or prior, the class_weight parameter value is 'auto'\n",
    "clf_SIGMOID = GridSearchCV(SVC(kernel='sigmoid', class_weight='balanced'), param_grid, n_jobs=-1)\n",
    "clf_SIGMOID = clf_SIGMOID.fit(X_train, y_train)\n",
    "\n",
    "scores_SIGMOID = cross_val_score(clf_SIGMOID, X_train, y_train, cv=4, n_jobs=-1)\n",
    "print(scores_SIGMOID)\n",
    "print(\"Accuracy: %0.4f (+/- %0.4f)\" % (scores_SIGMOID.mean(), scores_SIGMOID.std() * 2))\n",
    "\n",
    "print (\"Best estimator found by grid search:\")\n",
    "print (clf_SIGMOID.best_estimator_)\n",
    "\n",
    "y_predicted_SIGMOID = clf_SIGMOID.predict(X_test)\n",
    "\n",
    "print (metrics.classification_report(y_test, y_predicted_SIGMOID))\n",
    "\n",
    "process = time.process_time()\n",
    "print (process)"
   ]
  },
  {
   "cell_type": "code",
   "execution_count": 48,
   "metadata": {},
   "outputs": [
    {
     "data": {
      "text/plain": [
       "<matplotlib.axes._subplots.AxesSubplot at 0x22f9003b400>"
      ]
     },
     "execution_count": 48,
     "metadata": {},
     "output_type": "execute_result"
    },
    {
     "data": {
      "image/png": "[encoded data removed]",
      "text/plain": [
       "<matplotlib.figure.Figure at 0x22f8c141828>"
      ]
     },
     "metadata": {},
     "output_type": "display_data"
    }
   ],
   "source": [
    "sns.heatmap(confusion_matrix(y_test, y_predicted_SIGMOID), annot = True, fmt = '', cmap = \"GnBu\")"
   ]
  },
  {
   "cell_type": "markdown",
   "metadata": {},
   "source": [
    "- \tDecision Tree Classifier is a no parametric method that learns through binary decisions that when deployed are forming a decision tree.   "
   ]
  },
  {
   "cell_type": "code",
   "execution_count": 49,
   "metadata": {},
   "outputs": [
    {
     "name": "stdout",
     "output_type": "stream",
     "text": [
      "Fitting the Decision Tree Classifier to the training set\n",
      "[ 0.60897436  0.6516129   0.61935484  0.70322581]\n",
      "Accuracy: 0.6458 (+/- 0.0734)\n",
      "Best estimator found by grid search:\n",
      "DecisionTreeClassifier(class_weight='balanced', criterion='entropy',\n",
      "            max_depth=7, max_features=None, max_leaf_nodes=None,\n",
      "            min_impurity_split=1e-07, min_samples_leaf=1,\n",
      "            min_samples_split=2, min_weight_fraction_leaf=0.0,\n",
      "            presort=False, random_state=123, splitter='best')\n",
      "             precision    recall  f1-score   support\n",
      "\n",
      "          0       0.84      0.64      0.73       154\n",
      "          1       0.39      0.65      0.49        54\n",
      "\n",
      "avg / total       0.72      0.64      0.67       208\n",
      "\n",
      "410.328125\n"
     ]
    }
   ],
   "source": [
    "print (\"Fitting the Decision Tree Classifier to the training set\")\n",
    "\n",
    "param_grid = {\n",
    "         'max_depth': [2, 3, 4, 5, 6,7],\n",
    "          #'gamma': [0.0001, 0.0005, 0.001, 0.005, 0.01, 0.1, 1],\n",
    "          }\n",
    "# for sklearn version 0.16 or prior, the class_weight parameter value is 'auto'\n",
    "clf_DTC = GridSearchCV(DecisionTreeClassifier(criterion='entropy', random_state=123, \n",
    "                       class_weight='balanced'), param_grid, n_jobs=-1)\n",
    "\n",
    "clf_DTC = clf_DTC.fit(X_train, y_train)\n",
    "\n",
    "scores_DTC = cross_val_score(clf_DTC, X_train, y_train, cv=4, n_jobs=-1)\n",
    "print(scores_DTC)\n",
    "print(\"Accuracy: %0.4f (+/- %0.4f)\" % (scores_DTC.mean(), scores_DTC.std() * 2))\n",
    "\n",
    "print (\"Best estimator found by grid search:\")\n",
    "print (clf_DTC.best_estimator_)\n",
    "y_predicted_DTC = clf_DTC.predict(X_test)\n",
    "\n",
    "print (metrics.classification_report(y_test, y_predicted_DTC))\n",
    "process = time.process_time()\n",
    "print (process)\n"
   ]
  },
  {
   "cell_type": "code",
   "execution_count": 50,
   "metadata": {},
   "outputs": [
    {
     "data": {
      "text/plain": [
       "<matplotlib.axes._subplots.AxesSubplot at 0x22f94cb1be0>"
      ]
     },
     "execution_count": 50,
     "metadata": {},
     "output_type": "execute_result"
    },
    {
     "data": {
      "image/png": "[encoded data removed]",
      "text/plain": [
       "<matplotlib.figure.Figure at 0x22f8c8e3748>"
      ]
     },
     "metadata": {},
     "output_type": "display_data"
    }
   ],
   "source": [
    "sns.heatmap(confusion_matrix(y_test, y_predicted_DTC), annot = True, fmt = '', cmap = \"GnBu\")"
   ]
  },
  {
   "cell_type": "markdown",
   "metadata": {},
   "source": [
    "- \tEnsemble methods like Random Forest, Extremely Tree and Ada Boost Classifiers.  These methods “combine the predictions of several base estimators built with a given learning algorithm in order to improve generalizability / robustness over a single estimator ”.  The first two are in averaging methods, where independent estimators are used over random samples and resulting predictions are averaged, getting as result a lower variance than a single estimator.   "
   ]
  },
  {
   "cell_type": "code",
   "execution_count": 51,
   "metadata": {},
   "outputs": [
    {
     "name": "stdout",
     "output_type": "stream",
     "text": [
      "Fitting the Random Forest Classifier to the training set\n",
      "[ 0.69230769  0.67096774  0.66451613  0.61935484]\n",
      "Accuracy: 0.6618 (+/- 0.0531)\n",
      "Best estimator found by grid search:\n",
      "RandomForestClassifier(bootstrap=True, class_weight='balanced',\n",
      "            criterion='gini', max_depth=7, max_features='auto',\n",
      "            max_leaf_nodes=None, min_impurity_split=1e-07,\n",
      "            min_samples_leaf=1, min_samples_split=2,\n",
      "            min_weight_fraction_leaf=0.0, n_estimators=10, n_jobs=1,\n",
      "            oob_score=False, random_state=123, verbose=0, warm_start=False)\n",
      "             precision    recall  f1-score   support\n",
      "\n",
      "          0       0.79      0.75      0.77       154\n",
      "          1       0.38      0.44      0.41        54\n",
      "\n",
      "avg / total       0.69      0.67      0.68       208\n",
      "\n",
      "411.296875\n"
     ]
    }
   ],
   "source": [
    "print (\"Fitting the Random Forest Classifier to the training set\")\n",
    "\n",
    "param_grid = {\n",
    "         'n_estimators' :[3,5,7,10],\n",
    "         'max_depth': [2, 3, 4, 5, 6,7],\n",
    "          #'gamma': [0.0001, 0.0005, 0.001, 0.005, 0.01, 0.1, 1],\n",
    "          }\n",
    "# for sklearn version 0.16 or prior, the class_weight parameter value is 'auto'\n",
    "clf_RFC = GridSearchCV(RandomForestClassifier(min_samples_split=2, random_state=123, class_weight='balanced'), \n",
    "                       param_grid, n_jobs=-1)\n",
    "\n",
    "clf_RFC = clf_RFC.fit(X_train, y_train)\n",
    "\n",
    "scores_RFC = cross_val_score(clf_RFC, X_train, y_train, cv=4, n_jobs=-1)\n",
    "print(scores_RFC)\n",
    "print(\"Accuracy: %0.4f (+/- %0.4f)\" % (scores_RFC.mean(), scores_RFC.std() * 2))\n",
    "\n",
    "print (\"Best estimator found by grid search:\")\n",
    "print (clf_RFC.best_estimator_)\n",
    "y_predicted_RFC = clf_RFC.predict(X_test)\n",
    "\n",
    "print (metrics.classification_report(y_test, y_predicted_RFC))\n",
    "process = time.process_time()\n",
    "print (process)"
   ]
  },
  {
   "cell_type": "code",
   "execution_count": 52,
   "metadata": {},
   "outputs": [
    {
     "data": {
      "text/plain": [
       "<matplotlib.axes._subplots.AxesSubplot at 0x22f9761c898>"
      ]
     },
     "execution_count": 52,
     "metadata": {},
     "output_type": "execute_result"
    },
    {
     "data": {
      "image/png": "[encoded data removed]",
      "text/plain": [
       "<matplotlib.figure.Figure at 0x22f97d87828>"
      ]
     },
     "metadata": {},
     "output_type": "display_data"
    }
   ],
   "source": [
    "sns.heatmap(confusion_matrix(y_test, y_predicted_RFC), annot = True, fmt = '', cmap = \"GnBu\")"
   ]
  },
  {
   "cell_type": "code",
   "execution_count": 53,
   "metadata": {},
   "outputs": [
    {
     "name": "stdout",
     "output_type": "stream",
     "text": [
      "Fitting the Extremely Tree Classifier to the training set\n",
      "[ 0.72435897  0.67741935  0.63870968  0.64516129]\n",
      "Accuracy: 0.6714 (+/- 0.0678)\n",
      "Best estimator found by grid search:\n",
      "ExtraTreesClassifier(bootstrap=False, class_weight='balanced',\n",
      "           criterion='gini', max_depth=5, max_features='auto',\n",
      "           max_leaf_nodes=None, min_impurity_split=1e-07,\n",
      "           min_samples_leaf=1, min_samples_split=2,\n",
      "           min_weight_fraction_leaf=0.0, n_estimators=10, n_jobs=1,\n",
      "           oob_score=False, random_state=123, verbose=0, warm_start=False)\n",
      "             precision    recall  f1-score   support\n",
      "\n",
      "          0       0.83      0.81      0.82       154\n",
      "          1       0.48      0.52      0.50        54\n",
      "\n",
      "avg / total       0.74      0.73      0.73       208\n",
      "\n",
      "412.1875\n"
     ]
    }
   ],
   "source": [
    "print (\"Fitting the Extremely Tree Classifier to the training set\")\n",
    "\n",
    "param_grid = {\n",
    "         'n_estimators' :[3,5,10],\n",
    "         'max_depth': [2, 3, 4, 5, 6,7],\n",
    "          #'gamma': [0.0001, 0.0005, 0.001, 0.005, 0.01, 0.1, 1],\n",
    "          }\n",
    "# for sklearn version 0.16 or prior, the class_weight parameter value is 'auto'\n",
    "clf_EFC = GridSearchCV(ExtraTreesClassifier(min_samples_split=2, random_state=123, class_weight='balanced'), \n",
    "                       param_grid, n_jobs=-1)\n",
    "\n",
    "clf_EFC = clf_EFC.fit(X_train, y_train)\n",
    "\n",
    "scores_EFC = cross_val_score(clf_EFC, X_train, y_train, cv=4, n_jobs=-1)\n",
    "print(scores_EFC)\n",
    "print(\"Accuracy: %0.4f (+/- %0.4f)\" % (scores_EFC.mean(), scores_EFC.std() * 2))\n",
    "\n",
    "print (\"Best estimator found by grid search:\")\n",
    "print (clf_EFC.best_estimator_)\n",
    "y_predicted_EFC = clf_EFC.predict(X_test)\n",
    "\n",
    "print (metrics.classification_report(y_test, y_predicted_EFC))\n",
    "process = time.process_time()\n",
    "print (process)"
   ]
  },
  {
   "cell_type": "code",
   "execution_count": 54,
   "metadata": {},
   "outputs": [
    {
     "data": {
      "text/plain": [
       "<matplotlib.axes._subplots.AxesSubplot at 0x22f97db2518>"
      ]
     },
     "execution_count": 54,
     "metadata": {},
     "output_type": "execute_result"
    },
    {
     "data": {
      "image/png": "[encoded data removed]",
      "text/plain": [
       "<matplotlib.figure.Figure at 0x22f9157b5f8>"
      ]
     },
     "metadata": {},
     "output_type": "display_data"
    }
   ],
   "source": [
    "sns.heatmap(confusion_matrix(y_test, y_predicted_EFC), annot = True, fmt = '', cmap = \"GnBu\")"
   ]
  },
  {
   "cell_type": "code",
   "execution_count": 55,
   "metadata": {},
   "outputs": [
    {
     "name": "stdout",
     "output_type": "stream",
     "text": [
      "Fitting the Ada Boost Classifier to the training set\n",
      "[ 0.72435897  0.72258065  0.72258065  0.72258065]\n",
      "Accuracy: 0.7230 (+/- 0.0015)\n",
      "Best estimator found by grid search:\n",
      "AdaBoostClassifier(algorithm='SAMME.R', base_estimator=None,\n",
      "          learning_rate=0.01, n_estimators=3, random_state=123)\n",
      "             precision    recall  f1-score   support\n",
      "\n",
      "          0       0.74      1.00      0.85       154\n",
      "          1       0.00      0.00      0.00        54\n",
      "\n",
      "avg / total       0.55      0.74      0.63       208\n",
      "\n",
      "412.765625\n"
     ]
    },
    {
     "name": "stderr",
     "output_type": "stream",
     "text": [
      "C:\\Users\\pc1\\Anaconda3\\envs\\tensorflow\\lib\\site-packages\\sklearn\\metrics\\classification.py:1113: UndefinedMetricWarning: Precision and F-score are ill-defined and being set to 0.0 in labels with no predicted samples.\n",
      "  'precision', 'predicted', average, warn_for)\n"
     ]
    }
   ],
   "source": [
    "print (\"Fitting the Ada Boost Classifier to the training set\")\n",
    "\n",
    "param_grid = {\n",
    "         'n_estimators' :[3,5,10],\n",
    "         'learning_rate': [0.01],\n",
    "         #'max_depth': [2, 3, 4, 5, 6,7],\n",
    "          #'gamma': [0.0001, 0.0005, 0.001, 0.005, 0.01, 0.1, 1],\n",
    "          }\n",
    "# for sklearn version 0.16 or prior, the class_weight parameter value is 'auto'\n",
    "clf_ABC = GridSearchCV(AdaBoostClassifier(random_state=123), param_grid, n_jobs=-1)\n",
    "\n",
    "clf_ABC = clf_ABC.fit(X_train, y_train)\n",
    "\n",
    "scores_ABC = cross_val_score(clf_ABC, X_train, y_train, cv=4, n_jobs=-1)\n",
    "print(scores_ABC)\n",
    "print(\"Accuracy: %0.4f (+/- %0.4f)\" % (scores_ABC.mean(), scores_ABC.std() * 2))\n",
    "\n",
    "print (\"Best estimator found by grid search:\")\n",
    "print (clf_ABC.best_estimator_)\n",
    "y_predicted_ABC = clf_ABC.predict(X_test)\n",
    "\n",
    "print (metrics.classification_report(y_test, y_predicted_ABC))\n",
    "process = time.process_time()\n",
    "print (process)"
   ]
  },
  {
   "cell_type": "code",
   "execution_count": 56,
   "metadata": {},
   "outputs": [
    {
     "data": {
      "text/plain": [
       "<matplotlib.axes._subplots.AxesSubplot at 0x22f9b0cc4a8>"
      ]
     },
     "execution_count": 56,
     "metadata": {},
     "output_type": "execute_result"
    },
    {
     "data": {
      "image/png": "[encoded data removed]",
      "text/plain": [
       "<matplotlib.figure.Figure at 0x22f9228aa90>"
      ]
     },
     "metadata": {},
     "output_type": "display_data"
    }
   ],
   "source": [
    "sns.heatmap(confusion_matrix(y_test, y_predicted_ABC), annot = True, fmt = '', cmap = \"GnBu\")"
   ]
  },
  {
   "cell_type": "markdown",
   "metadata": {},
   "source": [
    "-\tLogistic Regression Classifier is the most traditional method applied to classification problems.  Here a logistic probability function is applied to data, and the result obtained is a probability of occurrence of the binary categorical variable"
   ]
  },
  {
   "cell_type": "code",
   "execution_count": 57,
   "metadata": {},
   "outputs": [
    {
     "name": "stdout",
     "output_type": "stream",
     "text": [
      "Fitting the Logistic Regression Classification - Hingue loss classifier to the training set\n",
      "[ 0.72435897  0.72258065  0.72258065  0.72258065]\n",
      "Accuracy: 0.7230 (+/- 0.0015)\n",
      "Best estimator found by grid search:\n",
      "LogisticRegression(C=0.001, class_weight=None, dual=False, fit_intercept=True,\n",
      "          intercept_scaling=1, max_iter=100, multi_class='ovr', n_jobs=1,\n",
      "          penalty='l2', random_state=123, solver='liblinear', tol=0.0001,\n",
      "          verbose=0, warm_start=False)\n",
      "             precision    recall  f1-score   support\n",
      "\n",
      "          0       0.74      1.00      0.85       154\n",
      "          1       0.00      0.00      0.00        54\n",
      "\n",
      "avg / total       0.55      0.74      0.63       208\n",
      "\n",
      "413.46875\n"
     ]
    },
    {
     "name": "stderr",
     "output_type": "stream",
     "text": [
      "C:\\Users\\pc1\\Anaconda3\\envs\\tensorflow\\lib\\site-packages\\sklearn\\metrics\\classification.py:1113: UndefinedMetricWarning: Precision and F-score are ill-defined and being set to 0.0 in labels with no predicted samples.\n",
      "  'precision', 'predicted', average, warn_for)\n"
     ]
    }
   ],
   "source": [
    "print (\"Fitting the Logistic Regression Classification - Hingue loss classifier to the training set\")\n",
    "\n",
    "param_grid = {\n",
    "         'C': [1e-3, 1e-2, 1, 1e3, 5e3, 1e4, 5e4, 1e5],\n",
    "          #'gamma': [0.0001, 0.0005, 0.001, 0.005, 0.01, 0.1, 1],\n",
    "          }\n",
    "# for sklearn version 0.16 or prior, the class_weight parameter value is 'auto'\n",
    "clf_LOGREG = GridSearchCV(LogisticRegression(random_state=123), param_grid, n_jobs=-1)\n",
    "clf_LOGREG= clf_LOGREG .fit(X_train, y_train)\n",
    "\n",
    "scores_LOGREG = cross_val_score(clf_LOGREG, X_train, y_train, cv=4, n_jobs=-1)\n",
    "print(scores_LOGREG)\n",
    "print(\"Accuracy: %0.4f (+/- %0.4f)\" % (scores_LOGREG.mean(), scores_LOGREG.std() * 2))\n",
    "\n",
    "print (\"Best estimator found by grid search:\")\n",
    "print (clf_LOGREG.best_estimator_)\n",
    "\n",
    "y_predicted_LOGREG = clf_LOGREG.predict(X_test)\n",
    "\n",
    "print (metrics.classification_report(y_test, y_predicted_LOGREG))\n",
    "\n",
    "process = time.process_time()\n",
    "print (process)\n"
   ]
  },
  {
   "cell_type": "code",
   "execution_count": 58,
   "metadata": {},
   "outputs": [
    {
     "data": {
      "text/plain": [
       "<matplotlib.axes._subplots.AxesSubplot at 0x22f9b68d198>"
      ]
     },
     "execution_count": 58,
     "metadata": {},
     "output_type": "execute_result"
    },
    {
     "data": {
      "image/png": "[encoded data removed]",
      "text/plain": [
       "<matplotlib.figure.Figure at 0x22f99ac12b0>"
      ]
     },
     "metadata": {},
     "output_type": "display_data"
    }
   ],
   "source": [
    "sns.heatmap(confusion_matrix(y_test, y_predicted_LOGREG), annot = True, fmt = '', cmap = \"GnBu\")"
   ]
  },
  {
   "cell_type": "code",
   "execution_count": 59,
   "metadata": {
    "collapsed": true
   },
   "outputs": [],
   "source": [
    "# Best Models\n",
    "\n",
    "clf_RBF_b = SVC(C=1, cache_size=200, class_weight='balanced', coef0=0.0,\n",
    "                decision_function_shape=None, degree=3, gamma=1, kernel='rbf',\n",
    "                max_iter=-1, probability=False, random_state=None, shrinking=True,\n",
    "                tol=0.001, verbose=False)\n",
    "\n",
    "y_predicted_RBF_b = clf_RBF_b.fit(X_train,y_train).predict(X_test)\n",
    "\n",
    "clf_LSCV_b = LinearSVC(C=0.001, class_weight=None, dual=True, fit_intercept=True,\n",
    "                       intercept_scaling=1, loss='hinge', max_iter=1000, multi_class='ovr',\n",
    "                       penalty='l2', random_state=None, tol=0.0001, verbose=0)\n",
    "\n",
    "y_predicted_LSCV_b = clf_LSCV_b.fit(X_train,y_train).predict(X_test)\n",
    "\n",
    "clf_SIGMOID_b = SVC(C=1000.0, cache_size=200, class_weight='balanced', coef0=1,\n",
    "                    decision_function_shape=None, degree=3, gamma=0.001, kernel='sigmoid',\n",
    "                    max_iter=-1, probability=False, random_state=None, shrinking=True,\n",
    "                    tol=0.001, verbose=False)\n",
    "\n",
    "y_predicted_SIGMOID_b = clf_SIGMOID_b.fit(X_train,y_train).predict(X_test)\n",
    "\n",
    "clf_DTC_b = DecisionTreeClassifier(class_weight='balanced', criterion='entropy',\n",
    "                                   max_depth=7, max_features=None, max_leaf_nodes=None,\n",
    "                                   min_impurity_split=1e-07, min_samples_leaf=1,\n",
    "                                   min_samples_split=2, min_weight_fraction_leaf=0.0,\n",
    "                                   presort=False, random_state=123, splitter='best')\n",
    "\n",
    "y_predicted_DTC_b = clf_DTC_b.fit(X_train,y_train).predict(X_test)\n",
    "\n",
    "clf_RFC_b = RandomForestClassifier(bootstrap=True, class_weight='balanced',\n",
    "                                   criterion='gini', max_depth=7, max_features='auto',\n",
    "                                   max_leaf_nodes=None, min_impurity_split=1e-07,\n",
    "                                   min_samples_leaf=1, min_samples_split=2,\n",
    "                                   min_weight_fraction_leaf=0.0, n_estimators=10, n_jobs=1,\n",
    "                                   oob_score=False, random_state=123, verbose=0, warm_start=False)\n",
    "\n",
    "y_predicted_RFC_b = clf_RFC_b.fit(X_train,y_train).predict(X_test)\n",
    "\n",
    "clf_EFC_b = ExtraTreesClassifier(bootstrap=False, class_weight='balanced',\n",
    "                                 criterion='gini', max_depth=5, max_features='auto',\n",
    "                                 max_leaf_nodes=None, min_impurity_split=1e-07,\n",
    "                                 min_samples_leaf=1, min_samples_split=2,\n",
    "                                 min_weight_fraction_leaf=0.0, n_estimators=10, n_jobs=1,\n",
    "                                 oob_score=False, random_state=123, verbose=0, warm_start=False)\n",
    "\n",
    "y_predicted_EFC_b = clf_EFC_b.fit(X_train,y_train).predict(X_test)\n",
    "\n",
    "clf_ABC_b = AdaBoostClassifier(algorithm='SAMME.R', base_estimator=None,\n",
    "                               learning_rate=0.01, n_estimators=3, random_state=123)\n",
    "\n",
    "y_predicted_ABC_b = clf_ABC_b.fit(X_train,y_train).predict(X_test)\n",
    "\n",
    "\n",
    "clf_LR_b= LogisticRegression(C=0.001, class_weight=None, dual=False, fit_intercept=True,\n",
    "                             intercept_scaling=1, max_iter=100, multi_class='ovr', n_jobs=1,\n",
    "                             penalty='l2', random_state=123, solver='liblinear', tol=0.0001,\n",
    "                             verbose=0, warm_start=False)\n",
    "\n",
    "y_predicted_LR_b = clf_LR_b.fit(X_train,y_train).predict(X_test)"
   ]
  },
  {
   "cell_type": "code",
   "execution_count": 60,
   "metadata": {},
   "outputs": [
    {
     "data": {
      "text/plain": [
       "<matplotlib.axes._subplots.AxesSubplot at 0x23004c2a1d0>"
      ]
     },
     "execution_count": 60,
     "metadata": {},
     "output_type": "execute_result"
    },
    {
     "data": {
      "image/png": "[encoded data removed]",
      "text/plain": [
       "<matplotlib.figure.Figure at 0x22f9e0f9b00>"
      ]
     },
     "metadata": {},
     "output_type": "display_data"
    }
   ],
   "source": [
    "fig, axes = plt.subplots(2,4)\n",
    "\n",
    "sns.heatmap(confusion_matrix(y_test, y_predicted_RBF_b), annot = True, fmt = '', cmap = \"GnBu\", ax=axes[0, 0])\n",
    "sns.heatmap(confusion_matrix(y_test, y_predicted_LSCV_b), annot = True, fmt = '', cmap = \"GnBu\", ax=axes[0, 1])\n",
    "sns.heatmap(confusion_matrix(y_test, y_predicted_SIGMOID_b), annot = True, fmt = '', cmap = \"GnBu\", ax=axes[0, 2])\n",
    "sns.heatmap(confusion_matrix(y_test, y_predicted_DTC_b), annot = True, fmt = '', cmap = \"GnBu\", ax=axes[0, 3])\n",
    "sns.heatmap(confusion_matrix(y_test, y_predicted_RFC_b), annot = True, fmt = '', cmap = \"GnBu\", ax=axes[1, 0])\n",
    "sns.heatmap(confusion_matrix(y_test, y_predicted_EFC_b), annot = True, fmt = '', cmap = \"GnBu\", ax=axes[1, 1])\n",
    "sns.heatmap(confusion_matrix(y_test, y_predicted_ABC_b), annot = True, fmt = '', cmap = \"GnBu\", ax=axes[1, 2])\n",
    "sns.heatmap(confusion_matrix(y_test, y_predicted_LR_b), annot = True, fmt = '', cmap = \"GnBu\", ax=axes[1, 3])"
   ]
  },
  {
   "cell_type": "markdown",
   "metadata": {},
   "source": [
    "# Ensemble voting classifier\n",
    "\n",
    "-  All models, this is not a good option, it inherits all the problems of models that do not run well "
   ]
  },
  {
   "cell_type": "code",
   "execution_count": 61,
   "metadata": {},
   "outputs": [
    {
     "name": "stdout",
     "output_type": "stream",
     "text": [
      "{'svc__dual': False, 'DTC': DecisionTreeClassifier(class_weight='balanced', criterion='entropy',\n",
      "            max_depth=7, max_features=None, max_leaf_nodes=None,\n",
      "            min_impurity_split=1e-07, min_samples_leaf=1,\n",
      "            min_samples_split=2, min_weight_fraction_leaf=0.0,\n",
      "            presort=False, random_state=123, splitter='best'), 'LSCV__penalty': 'l2', 'RFC__n_estimators': 10, 'EFC__n_estimators': 10, 'EFC__class_weight': 'balanced', 'RFC__max_depth': 7, 'sigmoid__decision_function_shape': None, 'sigmoid__probability': False, 'rbf__verbose': False, 'sigmoid__random_state': None, 'sigmoid__cache_size': 200, 'rbf__C': 1, 'rbf__tol': 0.001, 'DTC__splitter': 'best', 'ABC__base_estimator': None, 'LSCV__max_iter': 1000, 'svc__random_state': 123, 'sigmoid__tol': 0.001, 'rbf__decision_function_shape': None, 'rbf__coef0': 0.0, 'DTC__min_samples_leaf': 1, 'svc__intercept_scaling': 1, 'svc__penalty': 'l2', 'LSCV': LinearSVC(C=0.001, class_weight=None, dual=True, fit_intercept=True,\n",
      "     intercept_scaling=1, loss='hinge', max_iter=1000, multi_class='ovr',\n",
      "     penalty='l2', random_state=None, tol=0.0001, verbose=0), 'RFC__random_state': 123, 'EFC__bootstrap': False, 'sigmoid__C': 1000.0, 'n_jobs': 1, 'rbf__cache_size': 200, 'EFC__min_weight_fraction_leaf': 0.0, 'weights': None, 'EFC__oob_score': False, 'RFC__min_samples_split': 2, 'rbf': SVC(C=1, cache_size=200, class_weight='balanced', coef0=0.0,\n",
      "  decision_function_shape=None, degree=3, gamma=1, kernel='rbf',\n",
      "  max_iter=-1, probability=False, random_state=None, shrinking=True,\n",
      "  tol=0.001, verbose=False), 'voting': 'hard', 'sigmoid__kernel': 'sigmoid', 'svc__multi_class': 'ovr', 'svc__n_jobs': 1, 'estimators': [('rbf', SVC(C=1, cache_size=200, class_weight='balanced', coef0=0.0,\n",
      "  decision_function_shape=None, degree=3, gamma=1, kernel='rbf',\n",
      "  max_iter=-1, probability=False, random_state=None, shrinking=True,\n",
      "  tol=0.001, verbose=False)), ('LSCV', LinearSVC(C=0.001, class_weight=None, dual=True, fit_intercept=True,\n",
      "     intercept_scaling=1, loss='hinge', max_iter=1000, multi_class='ovr',\n",
      "     penalty='l2', random_state=None, tol=0.0001, verbose=0)), ('sigmoid', SVC(C=1000.0, cache_size=200, class_weight='balanced', coef0=1,\n",
      "  decision_function_shape=None, degree=3, gamma=0.001, kernel='sigmoid',\n",
      "  max_iter=-1, probability=False, random_state=None, shrinking=True,\n",
      "  tol=0.001, verbose=False)), ('DTC', DecisionTreeClassifier(class_weight='balanced', criterion='entropy',\n",
      "            max_depth=7, max_features=None, max_leaf_nodes=None,\n",
      "            min_impurity_split=1e-07, min_samples_leaf=1,\n",
      "            min_samples_split=2, min_weight_fraction_leaf=0.0,\n",
      "            presort=False, random_state=123, splitter='best')), ('RFC', RandomForestClassifier(bootstrap=True, class_weight='balanced',\n",
      "            criterion='gini', max_depth=7, max_features='auto',\n",
      "            max_leaf_nodes=None, min_impurity_split=1e-07,\n",
      "            min_samples_leaf=1, min_samples_split=2,\n",
      "            min_weight_fraction_leaf=0.0, n_estimators=10, n_jobs=1,\n",
      "            oob_score=False, random_state=123, verbose=0, warm_start=False)), ('EFC', ExtraTreesClassifier(bootstrap=False, class_weight='balanced',\n",
      "           criterion='gini', max_depth=5, max_features='auto',\n",
      "           max_leaf_nodes=None, min_impurity_split=1e-07,\n",
      "           min_samples_leaf=1, min_samples_split=2,\n",
      "           min_weight_fraction_leaf=0.0, n_estimators=10, n_jobs=1,\n",
      "           oob_score=False, random_state=123, verbose=0, warm_start=False)), ('ABC', AdaBoostClassifier(algorithm='SAMME.R', base_estimator=None,\n",
      "          learning_rate=0.01, n_estimators=3, random_state=123)), ('svc', LogisticRegression(C=0.001, class_weight=None, dual=False, fit_intercept=True,\n",
      "          intercept_scaling=1, max_iter=100, multi_class='ovr', n_jobs=1,\n",
      "          penalty='l2', random_state=123, solver='liblinear', tol=0.0001,\n",
      "          verbose=0, warm_start=False))], 'DTC__criterion': 'entropy', 'RFC__oob_score': False, 'DTC__max_leaf_nodes': None, 'DTC__presort': False, 'EFC__min_samples_split': 2, 'svc__solver': 'liblinear', 'sigmoid__coef0': 1, 'rbf__shrinking': True, 'svc__max_iter': 100, 'RFC__min_weight_fraction_leaf': 0.0, 'EFC__min_impurity_split': 1e-07, 'LSCV__intercept_scaling': 1, 'svc__warm_start': False, 'rbf__kernel': 'rbf', 'sigmoid__max_iter': -1, 'rbf__probability': False, 'RFC__max_leaf_nodes': None, 'LSCV__multi_class': 'ovr', 'RFC__warm_start': False, 'sigmoid__degree': 3, 'sigmoid__verbose': False, 'LSCV__fit_intercept': True, 'rbf__degree': 3, 'EFC__warm_start': False, 'LSCV__verbose': 0, 'ABC__algorithm': 'SAMME.R', 'RFC__n_jobs': 1, 'sigmoid': SVC(C=1000.0, cache_size=200, class_weight='balanced', coef0=1,\n",
      "  decision_function_shape=None, degree=3, gamma=0.001, kernel='sigmoid',\n",
      "  max_iter=-1, probability=False, random_state=None, shrinking=True,\n",
      "  tol=0.001, verbose=False), 'DTC__min_samples_split': 2, 'svc__fit_intercept': True, 'rbf__class_weight': 'balanced', 'rbf__max_iter': -1, 'ABC__random_state': 123, 'RFC__max_features': 'auto', 'LSCV__dual': True, 'EFC__random_state': 123, 'LSCV__loss': 'hinge', 'RFC__bootstrap': True, 'EFC__n_jobs': 1, 'RFC__verbose': 0, 'DTC__max_depth': 7, 'EFC__criterion': 'gini', 'ABC': AdaBoostClassifier(algorithm='SAMME.R', base_estimator=None,\n",
      "          learning_rate=0.01, n_estimators=3, random_state=123), 'RFC__criterion': 'gini', 'sigmoid__shrinking': True, 'EFC__verbose': 0, 'svc__class_weight': None, 'DTC__class_weight': 'balanced', 'RFC': RandomForestClassifier(bootstrap=True, class_weight='balanced',\n",
      "            criterion='gini', max_depth=7, max_features='auto',\n",
      "            max_leaf_nodes=None, min_impurity_split=1e-07,\n",
      "            min_samples_leaf=1, min_samples_split=2,\n",
      "            min_weight_fraction_leaf=0.0, n_estimators=10, n_jobs=1,\n",
      "            oob_score=False, random_state=123, verbose=0, warm_start=False), 'EFC__min_samples_leaf': 1, 'sigmoid__gamma': 0.001, 'LSCV__tol': 0.0001, 'DTC__max_features': None, 'RFC__min_impurity_split': 1e-07, 'EFC__max_leaf_nodes': None, 'DTC__min_weight_fraction_leaf': 0.0, 'RFC__class_weight': 'balanced', 'DTC__random_state': 123, 'DTC__min_impurity_split': 1e-07, 'ABC__learning_rate': 0.01, 'RFC__min_samples_leaf': 1, 'EFC__max_features': 'auto', 'rbf__gamma': 1, 'rbf__random_state': None, 'ABC__n_estimators': 3, 'svc__tol': 0.0001, 'svc__C': 0.001, 'LSCV__random_state': None, 'svc__verbose': 0, 'EFC__max_depth': 5, 'svc': LogisticRegression(C=0.001, class_weight=None, dual=False, fit_intercept=True,\n",
      "          intercept_scaling=1, max_iter=100, multi_class='ovr', n_jobs=1,\n",
      "          penalty='l2', random_state=123, solver='liblinear', tol=0.0001,\n",
      "          verbose=0, warm_start=False), 'LSCV__C': 0.001, 'sigmoid__class_weight': 'balanced', 'LSCV__class_weight': None, 'EFC': ExtraTreesClassifier(bootstrap=False, class_weight='balanced',\n",
      "           criterion='gini', max_depth=5, max_features='auto',\n",
      "           max_leaf_nodes=None, min_impurity_split=1e-07,\n",
      "           min_samples_leaf=1, min_samples_split=2,\n",
      "           min_weight_fraction_leaf=0.0, n_estimators=10, n_jobs=1,\n",
      "           oob_score=False, random_state=123, verbose=0, warm_start=False)}\n",
      "0.766505636071\n"
     ]
    }
   ],
   "source": [
    "eclf1 = VotingClassifier(estimators=[\n",
    "    ('rbf',clf_RBF_b), ('LSCV',clf_LSCV_b),\n",
    "    ('sigmoid',clf_SIGMOID_b), ('DTC',clf_DTC_b),\n",
    "    ('RFC',clf_RFC_b),('EFC',clf_EFC_b),\n",
    "    ('ABC',clf_ABC_b), ('svc',clf_LR_b)], \n",
    "                         voting='hard')\n",
    "eclf1 = eclf1.fit(X_train, y_train)\n",
    "y_predict_eclf1 =  eclf1.predict(X_test)\n",
    "\n",
    "print (eclf1.get_params(deep=True))\n",
    "print (eclf1.score(X_train, y_train, sample_weight=None))"
   ]
  },
  {
   "cell_type": "code",
   "execution_count": 62,
   "metadata": {},
   "outputs": [
    {
     "name": "stdout",
     "output_type": "stream",
     "text": [
      "{'rbf__scoring': None, 'DTC__estimator__splitter': 'best', 'svc__estimator': LogisticRegression(C=1.0, class_weight=None, dual=False, fit_intercept=True,\n",
      "          intercept_scaling=1, max_iter=100, multi_class='ovr', n_jobs=1,\n",
      "          penalty='l2', random_state=123, solver='liblinear', tol=0.0001,\n",
      "          verbose=0, warm_start=False), 'rbf__estimator__verbose': False, 'LSCV__estimator__verbose': 0, 'LSCV__estimator__tol': 0.0001, 'DTC__estimator__max_leaf_nodes': None, 'DTC__estimator__max_features': None, 'rbf__estimator': SVC(C=1.0, cache_size=1000, class_weight='balanced', coef0=0.0,\n",
      "  decision_function_shape=None, degree=3, gamma='auto', kernel='rbf',\n",
      "  max_iter=-1, probability=False, random_state=None, shrinking=True,\n",
      "  tol=0.001, verbose=False), 'sigmoid__refit': True, 'svc__estimator__multi_class': 'ovr', 'LSCV__estimator__multi_class': 'ovr', 'sigmoid__scoring': None, 'RFC__pre_dispatch': '2*n_jobs', 'rbf__estimator__gamma': 'auto', 'RFC__estimator__warm_start': False, 'RFC__estimator__criterion': 'gini', 'EFC__estimator__min_samples_split': 2, 'LSCV__n_jobs': -1, 'RFC__cv': None, 'sigmoid__estimator': SVC(C=1.0, cache_size=200, class_weight='balanced', coef0=0.0,\n",
      "  decision_function_shape=None, degree=3, gamma='auto', kernel='sigmoid',\n",
      "  max_iter=-1, probability=False, random_state=None, shrinking=True,\n",
      "  tol=0.001, verbose=False), 'EFC__estimator__verbose': 0, 'rbf__estimator__tol': 0.001, 'sigmoid__estimator__tol': 0.001, 'EFC__estimator__criterion': 'gini', 'LSCV': GridSearchCV(cv=None, error_score='raise',\n",
      "       estimator=LinearSVC(C=1, class_weight=None, dual=True, fit_intercept=True,\n",
      "     intercept_scaling=1, loss='hinge', max_iter=1000, multi_class='ovr',\n",
      "     penalty='l2', random_state=None, tol=0.0001, verbose=0),\n",
      "       fit_params={}, iid=True, n_jobs=-1,\n",
      "       param_grid={'C': [0.001, 0.01, 1, 1000.0, 5000.0, 10000.0, 50000.0, 100000.0]},\n",
      "       pre_dispatch='2*n_jobs', refit=True, return_train_score=True,\n",
      "       scoring=None, verbose=0), 'ABC__estimator__base_estimator': None, 'ABC__return_train_score': True, 'EFC__estimator__max_leaf_nodes': None, 'DTC__verbose': 0, 'rbf__estimator__shrinking': True, 'ABC__scoring': None, 'RFC__estimator__verbose': 0, 'rbf__estimator__class_weight': 'balanced', 'svc__fit_params': {}, 'rbf': GridSearchCV(cv=None, error_score='raise',\n",
      "       estimator=SVC(C=1.0, cache_size=1000, class_weight='balanced', coef0=0.0,\n",
      "  decision_function_shape=None, degree=3, gamma='auto', kernel='rbf',\n",
      "  max_iter=-1, probability=False, random_state=None, shrinking=True,\n",
      "  tol=0.001, verbose=False),\n",
      "       fit_params={}, iid=True, n_jobs=1,\n",
      "       param_grid={'C': [0.001, 0.01, 1, 1000.0, 5000.0, 10000.0, 50000.0, 100000.0], 'gamma': [0.0001, 0.0005, 0.001, 0.005, 0.01, 0.1, 1]},\n",
      "       pre_dispatch='2*n_jobs', refit=True, return_train_score=True,\n",
      "       scoring=None, verbose=0), 'rbf__pre_dispatch': '2*n_jobs', 'EFC__estimator__oob_score': False, 'svc__n_jobs': -1, 'LSCV__estimator__penalty': 'l2', 'EFC__scoring': None, 'DTC__estimator__random_state': 123, 'sigmoid__return_train_score': True, 'svc__return_train_score': True, 'EFC__estimator__max_features': 'auto', 'LSCV__refit': True, 'ABC__param_grid': {'n_estimators': [3, 5, 10], 'learning_rate': [0.01]}, 'sigmoid__estimator__degree': 3, 'rbf__estimator__coef0': 0.0, 'DTC__estimator__min_impurity_split': 1e-07, 'rbf__verbose': 0, 'ABC': GridSearchCV(cv=None, error_score='raise',\n",
      "       estimator=AdaBoostClassifier(algorithm='SAMME.R', base_estimator=None,\n",
      "          learning_rate=1.0, n_estimators=50, random_state=123),\n",
      "       fit_params={}, iid=True, n_jobs=-1,\n",
      "       param_grid={'n_estimators': [3, 5, 10], 'learning_rate': [0.01]},\n",
      "       pre_dispatch='2*n_jobs', refit=True, return_train_score=True,\n",
      "       scoring=None, verbose=0), 'svc__estimator__fit_intercept': True, 'svc__estimator__solver': 'liblinear', 'RFC__estimator__min_samples_leaf': 1, 'sigmoid__fit_params': {}, 'EFC__refit': True, 'LSCV__pre_dispatch': '2*n_jobs', 'RFC__estimator__n_jobs': 1, 'DTC__return_train_score': True, 'sigmoid__verbose': 0, 'RFC__estimator__min_impurity_split': 1e-07, 'EFC__estimator__min_samples_leaf': 1, 'LSCV__estimator__class_weight': None, 'sigmoid__estimator__C': 1.0, 'svc__error_score': 'raise', 'ABC__n_jobs': -1, 'svc__estimator__penalty': 'l2', 'svc__refit': True, 'svc__pre_dispatch': '2*n_jobs', 'RFC__refit': True, 'LSCV__estimator__random_state': None, 'svc__estimator__warm_start': False, 'svc__estimator__tol': 0.0001, 'svc__iid': True, 'RFC__iid': True, 'sigmoid__estimator__max_iter': -1, 'LSCV__estimator__fit_intercept': True, 'RFC__estimator__max_features': 'auto', 'rbf__estimator__kernel': 'rbf', 'RFC__verbose': 0, 'rbf__n_jobs': 1, 'rbf__estimator__decision_function_shape': None, 'DTC__refit': True, 'DTC__error_score': 'raise', 'svc__estimator__intercept_scaling': 1, 'svc__cv': None, 'LSCV__iid': True, 'EFC__error_score': 'raise', 'rbf__estimator__probability': False, 'LSCV__scoring': None, 'DTC__estimator__presort': False, 'RFC__error_score': 'raise', 'DTC__pre_dispatch': '2*n_jobs', 'LSCV__estimator': LinearSVC(C=1, class_weight=None, dual=True, fit_intercept=True,\n",
      "     intercept_scaling=1, loss='hinge', max_iter=1000, multi_class='ovr',\n",
      "     penalty='l2', random_state=None, tol=0.0001, verbose=0), 'RFC': GridSearchCV(cv=None, error_score='raise',\n",
      "       estimator=RandomForestClassifier(bootstrap=True, class_weight='balanced',\n",
      "            criterion='gini', max_depth=None, max_features='auto',\n",
      "            max_leaf_nodes=None, min_impurity_split=1e-07,\n",
      "            min_samples_leaf=1, min_samples_split=2,\n",
      "            min_weight_fraction_leaf=0.0, n_estimators=10, n_jobs=1,\n",
      "            oob_score=False, random_state=123, verbose=0, warm_start=False),\n",
      "       fit_params={}, iid=True, n_jobs=-1,\n",
      "       param_grid={'n_estimators': [3, 5, 7, 10], 'max_depth': [2, 3, 4, 5, 6, 7]},\n",
      "       pre_dispatch='2*n_jobs', refit=True, return_train_score=True,\n",
      "       scoring=None, verbose=0), 'EFC__estimator': ExtraTreesClassifier(bootstrap=False, class_weight='balanced',\n",
      "           criterion='gini', max_depth=None, max_features='auto',\n",
      "           max_leaf_nodes=None, min_impurity_split=1e-07,\n",
      "           min_samples_leaf=1, min_samples_split=2,\n",
      "           min_weight_fraction_leaf=0.0, n_estimators=10, n_jobs=1,\n",
      "           oob_score=False, random_state=123, verbose=0, warm_start=False), 'RFC__estimator': RandomForestClassifier(bootstrap=True, class_weight='balanced',\n",
      "            criterion='gini', max_depth=None, max_features='auto',\n",
      "            max_leaf_nodes=None, min_impurity_split=1e-07,\n",
      "            min_samples_leaf=1, min_samples_split=2,\n",
      "            min_weight_fraction_leaf=0.0, n_estimators=10, n_jobs=1,\n",
      "            oob_score=False, random_state=123, verbose=0, warm_start=False), 'EFC__estimator__n_jobs': 1, 'LSCV__cv': None, 'sigmoid__estimator__kernel': 'sigmoid', 'rbf__estimator__degree': 3, 'sigmoid__estimator__cache_size': 200, 'DTC__scoring': None, 'ABC__fit_params': {}, 'svc': GridSearchCV(cv=None, error_score='raise',\n",
      "       estimator=LogisticRegression(C=1.0, class_weight=None, dual=False, fit_intercept=True,\n",
      "          intercept_scaling=1, max_iter=100, multi_class='ovr', n_jobs=1,\n",
      "          penalty='l2', random_state=123, solver='liblinear', tol=0.0001,\n",
      "          verbose=0, warm_start=False),\n",
      "       fit_params={}, iid=True, n_jobs=-1,\n",
      "       param_grid={'C': [0.001, 0.01, 1, 1000.0, 5000.0, 10000.0, 50000.0, 100000.0]},\n",
      "       pre_dispatch='2*n_jobs', refit=True, return_train_score=True,\n",
      "       scoring=None, verbose=0), 'svc__estimator__dual': False, 'EFC__return_train_score': True, 'ABC__cv': None, 'RFC__estimator__n_estimators': 10, 'rbf__cv': None, 'RFC__estimator__max_leaf_nodes': None, 'sigmoid__estimator__class_weight': 'balanced', 'svc__estimator__C': 1.0, 'DTC__estimator__min_samples_leaf': 1, 'rbf__estimator__max_iter': -1, 'svc__verbose': 0, 'LSCV__estimator__C': 1, 'ABC__estimator': AdaBoostClassifier(algorithm='SAMME.R', base_estimator=None,\n",
      "          learning_rate=1.0, n_estimators=50, random_state=123), 'EFC__cv': None, 'EFC': GridSearchCV(cv=None, error_score='raise',\n",
      "       estimator=ExtraTreesClassifier(bootstrap=False, class_weight='balanced',\n",
      "           criterion='gini', max_depth=None, max_features='auto',\n",
      "           max_leaf_nodes=None, min_impurity_split=1e-07,\n",
      "           min_samples_leaf=1, min_samples_split=2,\n",
      "           min_weight_fraction_leaf=0.0, n_estimators=10, n_jobs=1,\n",
      "           oob_score=False, random_state=123, verbose=0, warm_start=False),\n",
      "       fit_params={}, iid=True, n_jobs=-1,\n",
      "       param_grid={'n_estimators': [3, 5, 10], 'max_depth': [2, 3, 4, 5, 6, 7]},\n",
      "       pre_dispatch='2*n_jobs', refit=True, return_train_score=True,\n",
      "       scoring=None, verbose=0), 'rbf__refit': True, 'EFC__iid': True, 'DTC': GridSearchCV(cv=None, error_score='raise',\n",
      "       estimator=DecisionTreeClassifier(class_weight='balanced', criterion='entropy',\n",
      "            max_depth=None, max_features=None, max_leaf_nodes=None,\n",
      "            min_impurity_split=1e-07, min_samples_leaf=1,\n",
      "            min_samples_split=2, min_weight_fraction_leaf=0.0,\n",
      "            presort=False, random_state=123, splitter='best'),\n",
      "       fit_params={}, iid=True, n_jobs=-1,\n",
      "       param_grid={'max_depth': [2, 3, 4, 5, 6, 7]},\n",
      "       pre_dispatch='2*n_jobs', refit=True, return_train_score=True,\n",
      "       scoring=None, verbose=0), 'sigmoid__pre_dispatch': '2*n_jobs', 'rbf__estimator__cache_size': 1000, 'EFC__verbose': 0, 'ABC__estimator__random_state': 123, 'RFC__estimator__oob_score': False, 'EFC__estimator__min_impurity_split': 1e-07, 'RFC__estimator__bootstrap': True, 'sigmoid__estimator__shrinking': True, 'EFC__estimator__random_state': 123, 'sigmoid__cv': None, 'LSCV__error_score': 'raise', 'svc__estimator__n_jobs': 1, 'RFC__estimator__min_samples_split': 2, 'EFC__param_grid': {'n_estimators': [3, 5, 10], 'max_depth': [2, 3, 4, 5, 6, 7]}, 'RFC__fit_params': {}, 'LSCV__param_grid': {'C': [0.001, 0.01, 1, 1000.0, 5000.0, 10000.0, 50000.0, 100000.0]}, 'rbf__estimator__C': 1.0, 'DTC__estimator': DecisionTreeClassifier(class_weight='balanced', criterion='entropy',\n",
      "            max_depth=None, max_features=None, max_leaf_nodes=None,\n",
      "            min_impurity_split=1e-07, min_samples_leaf=1,\n",
      "            min_samples_split=2, min_weight_fraction_leaf=0.0,\n",
      "            presort=False, random_state=123, splitter='best'), 'EFC__estimator__n_estimators': 10, 'rbf__return_train_score': True, 'ABC__pre_dispatch': '2*n_jobs', 'sigmoid__estimator__random_state': None, 'rbf__error_score': 'raise', 'ABC__refit': True, 'weights': None, 'DTC__estimator__class_weight': 'balanced', 'EFC__estimator__class_weight': 'balanced', 'svc__estimator__class_weight': None, 'voting': 'hard', 'ABC__estimator__learning_rate': 1.0, 'estimators': [('rbf', GridSearchCV(cv=None, error_score='raise',\n",
      "       estimator=SVC(C=1.0, cache_size=1000, class_weight='balanced', coef0=0.0,\n",
      "  decision_function_shape=None, degree=3, gamma='auto', kernel='rbf',\n",
      "  max_iter=-1, probability=False, random_state=None, shrinking=True,\n",
      "  tol=0.001, verbose=False),\n",
      "       fit_params={}, iid=True, n_jobs=1,\n",
      "       param_grid={'C': [0.001, 0.01, 1, 1000.0, 5000.0, 10000.0, 50000.0, 100000.0], 'gamma': [0.0001, 0.0005, 0.001, 0.005, 0.01, 0.1, 1]},\n",
      "       pre_dispatch='2*n_jobs', refit=True, return_train_score=True,\n",
      "       scoring=None, verbose=0)), ('LSCV', GridSearchCV(cv=None, error_score='raise',\n",
      "       estimator=LinearSVC(C=1, class_weight=None, dual=True, fit_intercept=True,\n",
      "     intercept_scaling=1, loss='hinge', max_iter=1000, multi_class='ovr',\n",
      "     penalty='l2', random_state=None, tol=0.0001, verbose=0),\n",
      "       fit_params={}, iid=True, n_jobs=-1,\n",
      "       param_grid={'C': [0.001, 0.01, 1, 1000.0, 5000.0, 10000.0, 50000.0, 100000.0]},\n",
      "       pre_dispatch='2*n_jobs', refit=True, return_train_score=True,\n",
      "       scoring=None, verbose=0)), ('sigmoid', GridSearchCV(cv=None, error_score='raise',\n",
      "       estimator=SVC(C=1.0, cache_size=200, class_weight='balanced', coef0=0.0,\n",
      "  decision_function_shape=None, degree=3, gamma='auto', kernel='sigmoid',\n",
      "  max_iter=-1, probability=False, random_state=None, shrinking=True,\n",
      "  tol=0.001, verbose=False),\n",
      "       fit_params={}, iid=True, n_jobs=-1,\n",
      "       param_grid={'C': [1000.0, 10000.0, 100000.0], 'gamma': [0.0001, 0.0005, 0.001, 0.005, 0.01, 0.1, 1], 'coef0': [-1, 0, 1]},\n",
      "       pre_dispatch='2*n_jobs', refit=True, return_train_score=True,\n",
      "       scoring=None, verbose=0)), ('DTC', GridSearchCV(cv=None, error_score='raise',\n",
      "       estimator=DecisionTreeClassifier(class_weight='balanced', criterion='entropy',\n",
      "            max_depth=None, max_features=None, max_leaf_nodes=None,\n",
      "            min_impurity_split=1e-07, min_samples_leaf=1,\n",
      "            min_samples_split=2, min_weight_fraction_leaf=0.0,\n",
      "            presort=False, random_state=123, splitter='best'),\n",
      "       fit_params={}, iid=True, n_jobs=-1,\n",
      "       param_grid={'max_depth': [2, 3, 4, 5, 6, 7]},\n",
      "       pre_dispatch='2*n_jobs', refit=True, return_train_score=True,\n",
      "       scoring=None, verbose=0)), ('RFC', GridSearchCV(cv=None, error_score='raise',\n",
      "       estimator=RandomForestClassifier(bootstrap=True, class_weight='balanced',\n",
      "            criterion='gini', max_depth=None, max_features='auto',\n",
      "            max_leaf_nodes=None, min_impurity_split=1e-07,\n",
      "            min_samples_leaf=1, min_samples_split=2,\n",
      "            min_weight_fraction_leaf=0.0, n_estimators=10, n_jobs=1,\n",
      "            oob_score=False, random_state=123, verbose=0, warm_start=False),\n",
      "       fit_params={}, iid=True, n_jobs=-1,\n",
      "       param_grid={'n_estimators': [3, 5, 7, 10], 'max_depth': [2, 3, 4, 5, 6, 7]},\n",
      "       pre_dispatch='2*n_jobs', refit=True, return_train_score=True,\n",
      "       scoring=None, verbose=0)), ('EFC', GridSearchCV(cv=None, error_score='raise',\n",
      "       estimator=ExtraTreesClassifier(bootstrap=False, class_weight='balanced',\n",
      "           criterion='gini', max_depth=None, max_features='auto',\n",
      "           max_leaf_nodes=None, min_impurity_split=1e-07,\n",
      "           min_samples_leaf=1, min_samples_split=2,\n",
      "           min_weight_fraction_leaf=0.0, n_estimators=10, n_jobs=1,\n",
      "           oob_score=False, random_state=123, verbose=0, warm_start=False),\n",
      "       fit_params={}, iid=True, n_jobs=-1,\n",
      "       param_grid={'n_estimators': [3, 5, 10], 'max_depth': [2, 3, 4, 5, 6, 7]},\n",
      "       pre_dispatch='2*n_jobs', refit=True, return_train_score=True,\n",
      "       scoring=None, verbose=0)), ('ABC', GridSearchCV(cv=None, error_score='raise',\n",
      "       estimator=AdaBoostClassifier(algorithm='SAMME.R', base_estimator=None,\n",
      "          learning_rate=1.0, n_estimators=50, random_state=123),\n",
      "       fit_params={}, iid=True, n_jobs=-1,\n",
      "       param_grid={'n_estimators': [3, 5, 10], 'learning_rate': [0.01]},\n",
      "       pre_dispatch='2*n_jobs', refit=True, return_train_score=True,\n",
      "       scoring=None, verbose=0)), ('svc', GridSearchCV(cv=None, error_score='raise',\n",
      "       estimator=LogisticRegression(C=1.0, class_weight=None, dual=False, fit_intercept=True,\n",
      "          intercept_scaling=1, max_iter=100, multi_class='ovr', n_jobs=1,\n",
      "          penalty='l2', random_state=123, solver='liblinear', tol=0.0001,\n",
      "          verbose=0, warm_start=False),\n",
      "       fit_params={}, iid=True, n_jobs=-1,\n",
      "       param_grid={'C': [0.001, 0.01, 1, 1000.0, 5000.0, 10000.0, 50000.0, 100000.0]},\n",
      "       pre_dispatch='2*n_jobs', refit=True, return_train_score=True,\n",
      "       scoring=None, verbose=0))], 'LSCV__estimator__max_iter': 1000, 'EFC__fit_params': {}, 'svc__estimator__max_iter': 100, 'EFC__estimator__max_depth': None, 'LSCV__estimator__intercept_scaling': 1, 'ABC__iid': True, 'sigmoid__estimator__probability': False, 'DTC__n_jobs': -1, 'rbf__estimator__random_state': None, 'EFC__estimator__min_weight_fraction_leaf': 0.0, 'RFC__scoring': None, 'svc__param_grid': {'C': [0.001, 0.01, 1, 1000.0, 5000.0, 10000.0, 50000.0, 100000.0]}, 'svc__estimator__random_state': 123, 'sigmoid__estimator__decision_function_shape': None, 'LSCV__return_train_score': True, 'DTC__cv': None, 'DTC__estimator__min_weight_fraction_leaf': 0.0, 'RFC__return_train_score': True, 'DTC__estimator__criterion': 'entropy', 'LSCV__fit_params': {}, 'sigmoid__error_score': 'raise', 'LSCV__verbose': 0, 'rbf__iid': True, 'svc__estimator__verbose': 0, 'n_jobs': 1, 'DTC__estimator__min_samples_split': 2, 'ABC__estimator__algorithm': 'SAMME.R', 'DTC__estimator__max_depth': None, 'RFC__estimator__max_depth': None, 'sigmoid__estimator__gamma': 'auto', 'ABC__verbose': 0, 'LSCV__estimator__loss': 'hinge', 'sigmoid__n_jobs': -1, 'sigmoid__estimator__verbose': False, 'sigmoid': GridSearchCV(cv=None, error_score='raise',\n",
      "       estimator=SVC(C=1.0, cache_size=200, class_weight='balanced', coef0=0.0,\n",
      "  decision_function_shape=None, degree=3, gamma='auto', kernel='sigmoid',\n",
      "  max_iter=-1, probability=False, random_state=None, shrinking=True,\n",
      "  tol=0.001, verbose=False),\n",
      "       fit_params={}, iid=True, n_jobs=-1,\n",
      "       param_grid={'C': [1000.0, 10000.0, 100000.0], 'gamma': [0.0001, 0.0005, 0.001, 0.005, 0.01, 0.1, 1], 'coef0': [-1, 0, 1]},\n",
      "       pre_dispatch='2*n_jobs', refit=True, return_train_score=True,\n",
      "       scoring=None, verbose=0), 'ABC__estimator__n_estimators': 50, 'DTC__fit_params': {}, 'EFC__n_jobs': -1, 'sigmoid__iid': True, 'rbf__fit_params': {}, 'RFC__estimator__class_weight': 'balanced', 'sigmoid__param_grid': {'C': [1000.0, 10000.0, 100000.0], 'gamma': [0.0001, 0.0005, 0.001, 0.005, 0.01, 0.1, 1], 'coef0': [-1, 0, 1]}, 'DTC__param_grid': {'max_depth': [2, 3, 4, 5, 6, 7]}, 'DTC__iid': True, 'LSCV__estimator__dual': True, 'ABC__error_score': 'raise', 'rbf__param_grid': {'C': [0.001, 0.01, 1, 1000.0, 5000.0, 10000.0, 50000.0, 100000.0], 'gamma': [0.0001, 0.0005, 0.001, 0.005, 0.01, 0.1, 1]}, 'RFC__estimator__min_weight_fraction_leaf': 0.0, 'svc__scoring': None, 'RFC__n_jobs': -1, 'EFC__estimator__warm_start': False, 'RFC__param_grid': {'n_estimators': [3, 5, 7, 10], 'max_depth': [2, 3, 4, 5, 6, 7]}, 'RFC__estimator__random_state': 123, 'sigmoid__estimator__coef0': 0.0, 'EFC__estimator__bootstrap': False, 'EFC__pre_dispatch': '2*n_jobs'}\n"
     ]
    },
    {
     "name": "stdout",
     "output_type": "stream",
     "text": [
      "0.766505636071\n"
     ]
    }
   ],
   "source": [
    "eclf2 = VotingClassifier(estimators=[\n",
    "    ('rbf',clf_RBF), ('LSCV',clf_LSCV),\n",
    "    ('sigmoid',clf_SIGMOID), ('DTC',clf_DTC),\n",
    "    ('RFC',clf_RFC),('EFC',clf_EFC),\n",
    "    ('ABC',clf_ABC), ('svc',clf_LOGREG)], \n",
    "                         voting='hard')\n",
    "eclf2 = eclf2.fit(X_train, y_train)\n",
    "y_predict_eclf2 =  eclf2.predict(X_test)\n",
    "\n",
    "print (eclf2.get_params(deep=True))\n",
    "print (eclf2.score(X_train, y_train, sample_weight=None))\n",
    "\n",
    "#Basically does the same that chose the best models, this function uses the best models too"
   ]
  },
  {
   "cell_type": "code",
   "execution_count": 63,
   "metadata": {
    "collapsed": true
   },
   "outputs": [],
   "source": [
    "# Source: http://scikit-learn.org/stable/auto_examples/model_selection/plot_confusion_matrix.html\n",
    "\n",
    "def plot_confusion_matrix(cm, classes,\n",
    "                          normalize=False,\n",
    "                          title='Confusion matrix',\n",
    "                          cmap=plt.cm.Blues):\n",
    "    \"\"\"\n",
    "    This function prints and plots the confusion matrix.\n",
    "    Normalization can be applied by setting `normalize=True`.\n",
    "    \"\"\"\n",
    "    plt.imshow(cm, interpolation='nearest', cmap=cmap)\n",
    "    plt.title(title)\n",
    "    plt.colorbar()\n",
    "    tick_marks = np.arange(len(classes))\n",
    "    plt.xticks(tick_marks, classes, rotation=45)\n",
    "    plt.yticks(tick_marks, classes)\n",
    "\n",
    "    if normalize:\n",
    "        cm = cm.astype('float') / cm.sum(axis=1)[:, np.newaxis]\n",
    "        print(\"Normalized confusion matrix\")\n",
    "    else:\n",
    "        print('Confusion matrix, without normalization')\n",
    "\n",
    "    print(cm)\n",
    "\n",
    "    thresh = cm.max() / 2.\n",
    "    for i, j in itertools.product(range(cm.shape[0]), range(cm.shape[1])):\n",
    "        plt.text(j, i, cm[i, j],\n",
    "                 horizontalalignment=\"center\",\n",
    "                 color=\"white\" if cm[i, j] > thresh else \"black\")\n",
    "\n",
    "    plt.tight_layout()\n",
    "    plt.ylabel('True label')\n",
    "    plt.xlabel('Predicted label')"
   ]
  },
  {
   "cell_type": "code",
   "execution_count": 64,
   "metadata": {},
   "outputs": [
    {
     "name": "stdout",
     "output_type": "stream",
     "text": [
      "Confusion matrix, without normalization\n",
      "[[152   2]\n",
      " [ 52   2]]\n",
      "Normalized confusion matrix\n",
      "[[ 0.99  0.01]\n",
      " [ 0.96  0.04]]\n"
     ]
    },
    {
     "data": {
      "image/png": "[encoded data removed]",
      "text/plain": [
       "<matplotlib.figure.Figure at 0x2300cbaa278>"
      ]
     },
     "metadata": {},
     "output_type": "display_data"
    },
    {
     "data": {
      "image/png": "[encoded data removed]",
      "text/plain": [
       "<matplotlib.figure.Figure at 0x23009090ac8>"
      ]
     },
     "metadata": {},
     "output_type": "display_data"
    }
   ],
   "source": [
    "cnf_matrix_RBF = confusion_matrix(y_test, y_predicted_RBF_b)\n",
    "np.set_printoptions(precision=2)\n",
    "\n",
    "# Plot non-normalized confusion matrix\n",
    "plt.figure()\n",
    "plot_confusion_matrix(cnf_matrix_RBF, classes= '1',\n",
    "                      title='RBF Confusion matrix, without normalization')\n",
    "\n",
    "# Plot normalized confusion matrix\n",
    "plt.figure()\n",
    "plot_confusion_matrix(cnf_matrix_RBF, classes='1', normalize=True,\n",
    "                      title='RBF Normalized confusion matrix')\n",
    "\n",
    "plt.show()"
   ]
  },
  {
   "cell_type": "code",
   "execution_count": 65,
   "metadata": {},
   "outputs": [
    {
     "name": "stdout",
     "output_type": "stream",
     "text": [
      "Confusion matrix, without normalization\n",
      "[[154   0]\n",
      " [ 54   0]]\n",
      "Normalized confusion matrix\n",
      "[[ 1.  0.]\n",
      " [ 1.  0.]]\n"
     ]
    },
    {
     "data": {
      "image/png": "[encoded data removed]",
      "text/plain": [
       "<matplotlib.figure.Figure at 0x230068526a0>"
      ]
     },
     "metadata": {},
     "output_type": "display_data"
    },
    {
     "data": {
      "image/png": "[encoded data removed]",
      "text/plain": [
       "<matplotlib.figure.Figure at 0x23011386860>"
      ]
     },
     "metadata": {},
     "output_type": "display_data"
    }
   ],
   "source": [
    "cnf_matrix_LSCV = confusion_matrix(y_test, y_predicted_LSCV_b)\n",
    "np.set_printoptions(precision=2)\n",
    "\n",
    "# Plot non-normalized confusion matrix\n",
    "plt.figure()\n",
    "plot_confusion_matrix(cnf_matrix_LSCV, classes='1',\n",
    "                      title='LSCV Confusion matrix, without normalization')\n",
    "\n",
    "# Plot normalized confusion matrix\n",
    "plt.figure()\n",
    "plot_confusion_matrix(cnf_matrix_LSCV, classes='1', normalize=True,\n",
    "                      title='LSCV Normalized confusion matrix')\n",
    "\n",
    "plt.show()"
   ]
  },
  {
   "cell_type": "code",
   "execution_count": 66,
   "metadata": {},
   "outputs": [
    {
     "name": "stdout",
     "output_type": "stream",
     "text": [
      "Confusion matrix, without normalization\n",
      "[[104  50]\n",
      " [ 40  14]]\n",
      "Normalized confusion matrix\n",
      "[[ 0.68  0.32]\n",
      " [ 0.74  0.26]]\n"
     ]
    },
    {
     "data": {
      "image/png": "[encoded data removed]",
      "text/plain": [
       "<matplotlib.figure.Figure at 0x230088da710>"
      ]
     },
     "metadata": {},
     "output_type": "display_data"
    },
    {
     "data": {
      "image/png": "[encoded data removed]",
      "text/plain": [
       "<matplotlib.figure.Figure at 0x23014c2a828>"
      ]
     },
     "metadata": {},
     "output_type": "display_data"
    }
   ],
   "source": [
    "cnf_matrix_SIGMOID = confusion_matrix(y_test, y_predicted_SIGMOID_b)\n",
    "np.set_printoptions(precision=2)\n",
    "\n",
    "# Plot non-normalized confusion matrix\n",
    "plt.figure()\n",
    "plot_confusion_matrix(cnf_matrix_SIGMOID, classes='1',\n",
    "                      title='SIGMOID Confusion matrix, without normalization')\n",
    "\n",
    "# Plot normalized confusion matrix\n",
    "plt.figure()\n",
    "plot_confusion_matrix(cnf_matrix_SIGMOID, classes='1', normalize=True,\n",
    "                      title='SIGMOID Normalized confusion matrix')\n",
    "\n",
    "plt.show()"
   ]
  },
  {
   "cell_type": "code",
   "execution_count": 67,
   "metadata": {},
   "outputs": [
    {
     "name": "stdout",
     "output_type": "stream",
     "text": [
      "Confusion matrix, without normalization\n",
      "[[99 55]\n",
      " [19 35]]\n",
      "Normalized confusion matrix\n",
      "[[ 0.64  0.36]\n",
      " [ 0.35  0.65]]\n"
     ]
    },
    {
     "data": {
      "image/png": "[encoded data removed]",
      "text/plain": [
       "<matplotlib.figure.Figure at 0x23006852358>"
      ]
     },
     "metadata": {},
     "output_type": "display_data"
    },
    {
     "data": {
      "image/png": "[encoded data removed]",
      "text/plain": [
       "<matplotlib.figure.Figure at 0x22fad17fe48>"
      ]
     },
     "metadata": {},
     "output_type": "display_data"
    }
   ],
   "source": [
    "cnf_matrix_DTC = confusion_matrix(y_test, y_predicted_DTC_b)\n",
    "np.set_printoptions(precision=2)\n",
    "\n",
    "# Plot non-normalized confusion matrix\n",
    "plt.figure()\n",
    "plot_confusion_matrix(cnf_matrix_DTC, classes='1',\n",
    "                      title='DTC Confusion matrix, without normalization')\n",
    "\n",
    "# Plot normalized confusion matrix\n",
    "plt.figure()\n",
    "plot_confusion_matrix(cnf_matrix_DTC, classes='1', normalize=True,\n",
    "                      title='DTC Normalized confusion matrix')\n",
    "\n",
    "plt.show()"
   ]
  },
  {
   "cell_type": "code",
   "execution_count": 68,
   "metadata": {
    "scrolled": true
   },
   "outputs": [
    {
     "name": "stdout",
     "output_type": "stream",
     "text": [
      "Confusion matrix, without normalization\n",
      "[[115  39]\n",
      " [ 30  24]]\n",
      "Normalized confusion matrix\n",
      "[[ 0.75  0.25]\n",
      " [ 0.56  0.44]]\n"
     ]
    },
    {
     "data": {
      "image/png": "[encoded data removed]",
      "text/plain": [
       "<matplotlib.figure.Figure at 0x22f88604438>"
      ]
     },
     "metadata": {},
     "output_type": "display_data"
    },
    {
     "data": {
      "image/png": "[encoded data removed]",
      "text/plain": [
       "<matplotlib.figure.Figure at 0x22fd8c97550>"
      ]
     },
     "metadata": {},
     "output_type": "display_data"
    }
   ],
   "source": [
    "cnf_matrix_RFC = confusion_matrix(y_test, y_predicted_RFC_b)\n",
    "np.set_printoptions(precision=2)\n",
    "\n",
    "# Plot non-normalized confusion matrix\n",
    "plt.figure()\n",
    "plot_confusion_matrix(cnf_matrix_RFC, classes='1',\n",
    "                      title='RFC Confusion matrix, without normalization')\n",
    "\n",
    "# Plot normalized confusion matrix\n",
    "plt.figure()\n",
    "plot_confusion_matrix(cnf_matrix_RFC, classes='1', normalize=True,\n",
    "                      title='RFC Normalized confusion matrix')\n",
    "\n",
    "plt.show()"
   ]
  },
  {
   "cell_type": "code",
   "execution_count": 69,
   "metadata": {},
   "outputs": [
    {
     "name": "stdout",
     "output_type": "stream",
     "text": [
      "Confusion matrix, without normalization\n",
      "[[124  30]\n",
      " [ 26  28]]\n",
      "Normalized confusion matrix\n",
      "[[ 0.81  0.19]\n",
      " [ 0.48  0.52]]\n"
     ]
    },
    {
     "data": {
      "image/png": "[encoded data removed]",
      "text/plain": [
       "<matplotlib.figure.Figure at 0x22f9cd44e10>"
      ]
     },
     "metadata": {},
     "output_type": "display_data"
    },
    {
     "data": {
      "image/png": "[encoded data removed]",
      "text/plain": [
       "<matplotlib.figure.Figure at 0x22fd9787908>"
      ]
     },
     "metadata": {},
     "output_type": "display_data"
    }
   ],
   "source": [
    "cnf_matrix_EFC = confusion_matrix(y_test, y_predicted_EFC_b)\n",
    "np.set_printoptions(precision=2)\n",
    "\n",
    "# Plot non-normalized confusion matrix\n",
    "plt.figure()\n",
    "plot_confusion_matrix(cnf_matrix_EFC, classes='1',\n",
    "                      title='EFC Confusion matrix, without normalization')\n",
    "\n",
    "# Plot normalized confusion matrix\n",
    "plt.figure()\n",
    "plot_confusion_matrix(cnf_matrix_EFC, classes='1', normalize=True,\n",
    "                      title='EFC Normalized confusion matrix')\n",
    "\n",
    "plt.show()"
   ]
  },
  {
   "cell_type": "code",
   "execution_count": 70,
   "metadata": {},
   "outputs": [
    {
     "name": "stdout",
     "output_type": "stream",
     "text": [
      "Confusion matrix, without normalization\n",
      "[[154   0]\n",
      " [ 54   0]]\n",
      "Normalized confusion matrix\n",
      "[[ 1.  0.]\n",
      " [ 1.  0.]]\n"
     ]
    },
    {
     "data": {
      "image/png": "[encoded data removed]",
      "text/plain": [
       "<matplotlib.figure.Figure at 0x22f9ccb94a8>"
      ]
     },
     "metadata": {},
     "output_type": "display_data"
    },
    {
     "data": {
      "image/png": "[encoded data removed]",
      "text/plain": [
       "<matplotlib.figure.Figure at 0x22fda88b8d0>"
      ]
     },
     "metadata": {},
     "output_type": "display_data"
    }
   ],
   "source": [
    "cnf_matrix_ABC = confusion_matrix(y_test, y_predicted_ABC_b)\n",
    "np.set_printoptions(precision=2)\n",
    "\n",
    "# Plot non-normalized confusion matrix\n",
    "plt.figure()\n",
    "plot_confusion_matrix(cnf_matrix_ABC, classes='1',\n",
    "                      title='ABC Confusion matrix, without normalization')\n",
    "\n",
    "# Plot normalized confusion matrix\n",
    "plt.figure()\n",
    "plot_confusion_matrix(cnf_matrix_ABC, classes='1', normalize=True,\n",
    "                      title='ABC Normalized confusion matrix')\n",
    "\n",
    "plt.show()"
   ]
  },
  {
   "cell_type": "code",
   "execution_count": 71,
   "metadata": {},
   "outputs": [
    {
     "name": "stdout",
     "output_type": "stream",
     "text": [
      "Confusion matrix, without normalization\n",
      "[[154   0]\n",
      " [ 54   0]]\n",
      "Normalized confusion matrix\n",
      "[[ 1.  0.]\n",
      " [ 1.  0.]]\n"
     ]
    },
    {
     "data": {
      "image/png": "[encoded data removed]",
      "text/plain": [
       "<matplotlib.figure.Figure at 0x230059769e8>"
      ]
     },
     "metadata": {},
     "output_type": "display_data"
    },
    {
     "data": {
      "image/png": "[encoded data removed]",
      "text/plain": [
       "<matplotlib.figure.Figure at 0x2300acf5978>"
      ]
     },
     "metadata": {},
     "output_type": "display_data"
    }
   ],
   "source": [
    "cnf_matrix_LR = confusion_matrix(y_test, y_predicted_LR_b)\n",
    "np.set_printoptions(precision=2)\n",
    "\n",
    "# Plot non-normalized confusion matrix\n",
    "plt.figure()\n",
    "plot_confusion_matrix(cnf_matrix_LR, classes='1',\n",
    "                      title='LR Confusion matrix, without normalization')\n",
    "\n",
    "# Plot normalized confusion matrix\n",
    "plt.figure()\n",
    "plot_confusion_matrix(cnf_matrix_LR, classes='1', normalize=True,\n",
    "                      title='LR Normalized confusion matrix')\n",
    "\n",
    "plt.show()"
   ]
  },
  {
   "cell_type": "markdown",
   "metadata": {},
   "source": [
    "The following ensemble model only aggregate five models:"
   ]
  },
  {
   "cell_type": "code",
   "execution_count": 72,
   "metadata": {},
   "outputs": [
    {
     "name": "stdout",
     "output_type": "stream",
     "text": [
      "{'rbf__refit': True, 'EFC__iid': True, 'DTC': GridSearchCV(cv=None, error_score='raise',\n",
      "       estimator=DecisionTreeClassifier(class_weight='balanced', criterion='entropy',\n",
      "            max_depth=None, max_features=None, max_leaf_nodes=None,\n",
      "            min_impurity_split=1e-07, min_samples_leaf=1,\n",
      "            min_samples_split=2, min_weight_fraction_leaf=0.0,\n",
      "            presort=False, random_state=123, splitter='best'),\n",
      "       fit_params={}, iid=True, n_jobs=-1,\n",
      "       param_grid={'max_depth': [2, 3, 4, 5, 6, 7]},\n",
      "       pre_dispatch='2*n_jobs', refit=True, return_train_score=True,\n",
      "       scoring=None, verbose=0), 'DTC__estimator__splitter': 'best', 'rbf__estimator__cache_size': 1000, 'rbf__estimator__kernel': 'rbf', 'DTC__estimator__max_leaf_nodes': None, 'DTC__estimator__max_features': None, 'rbf__estimator': SVC(C=1.0, cache_size=1000, class_weight='balanced', coef0=0.0,\n",
      "  decision_function_shape=None, degree=3, gamma='auto', kernel='rbf',\n",
      "  max_iter=-1, probability=False, random_state=None, shrinking=True,\n",
      "  tol=0.001, verbose=False), 'sigmoid__refit': True, 'RFC__estimator__oob_score': False, 'EFC__estimator__min_impurity_split': 1e-07, 'sigmoid__scoring': None, 'sigmoid__estimator__shrinking': True, 'rbf__estimator__gamma': 'auto', 'RFC__error_score': 'raise', 'sigmoid__cv': None, 'RFC__estimator__warm_start': False, 'EFC__param_grid': {'n_estimators': [3, 5, 10], 'max_depth': [2, 3, 4, 5, 6, 7]}, 'RFC__estimator__verbose': 0, 'RFC__estimator__criterion': 'gini', 'EFC__estimator__min_samples_split': 2, 'EFC__n_jobs': -1, 'RFC__cv': None, 'RFC__estimator__min_samples_split': 2, 'EFC__scoring': None, 'EFC__estimator__random_state': 123, 'DTC__estimator__presort': False, 'RFC__fit_params': {}, 'EFC__estimator__verbose': 0, 'rbf__estimator__C': 1.0, 'DTC__estimator': DecisionTreeClassifier(class_weight='balanced', criterion='entropy',\n",
      "            max_depth=None, max_features=None, max_leaf_nodes=None,\n",
      "            min_impurity_split=1e-07, min_samples_leaf=1,\n",
      "            min_samples_split=2, min_weight_fraction_leaf=0.0,\n",
      "            presort=False, random_state=123, splitter='best'), 'sigmoid__estimator__tol': 0.001, 'EFC__estimator__n_estimators': 10, 'rbf__return_train_score': True, 'EFC__error_score': 'raise', 'rbf__estimator__tol': 0.001, 'EFC__estimator__max_leaf_nodes': None, 'rbf__estimator__verbose': False, 'DTC__verbose': 0, 'rbf__error_score': 'raise', 'EFC__return_train_score': True, 'rbf__estimator__shrinking': True, 'weights': None, 'rbf__estimator__class_weight': 'balanced', 'DTC__estimator__class_weight': 'balanced', 'EFC__estimator__class_weight': 'balanced', 'rbf': GridSearchCV(cv=None, error_score='raise',\n",
      "       estimator=SVC(C=1.0, cache_size=1000, class_weight='balanced', coef0=0.0,\n",
      "  decision_function_shape=None, degree=3, gamma='auto', kernel='rbf',\n",
      "  max_iter=-1, probability=False, random_state=None, shrinking=True,\n",
      "  tol=0.001, verbose=False),\n",
      "       fit_params={}, iid=True, n_jobs=1,\n",
      "       param_grid={'C': [0.001, 0.01, 1, 1000.0, 5000.0, 10000.0, 50000.0, 100000.0], 'gamma': [0.0001, 0.0005, 0.001, 0.005, 0.01, 0.1, 1]},\n",
      "       pre_dispatch='2*n_jobs', refit=True, return_train_score=True,\n",
      "       scoring=None, verbose=0), 'EFC__pre_dispatch': '2*n_jobs', 'rbf__pre_dispatch': '2*n_jobs', 'voting': 'hard', 'estimators': [('rbf', GridSearchCV(cv=None, error_score='raise',\n",
      "       estimator=SVC(C=1.0, cache_size=1000, class_weight='balanced', coef0=0.0,\n",
      "  decision_function_shape=None, degree=3, gamma='auto', kernel='rbf',\n",
      "  max_iter=-1, probability=False, random_state=None, shrinking=True,\n",
      "  tol=0.001, verbose=False),\n",
      "       fit_params={}, iid=True, n_jobs=1,\n",
      "       param_grid={'C': [0.001, 0.01, 1, 1000.0, 5000.0, 10000.0, 50000.0, 100000.0], 'gamma': [0.0001, 0.0005, 0.001, 0.005, 0.01, 0.1, 1]},\n",
      "       pre_dispatch='2*n_jobs', refit=True, return_train_score=True,\n",
      "       scoring=None, verbose=0)), ('sigmoid', GridSearchCV(cv=None, error_score='raise',\n",
      "       estimator=SVC(C=1.0, cache_size=200, class_weight='balanced', coef0=0.0,\n",
      "  decision_function_shape=None, degree=3, gamma='auto', kernel='sigmoid',\n",
      "  max_iter=-1, probability=False, random_state=None, shrinking=True,\n",
      "  tol=0.001, verbose=False),\n",
      "       fit_params={}, iid=True, n_jobs=-1,\n",
      "       param_grid={'C': [1000.0, 10000.0, 100000.0], 'gamma': [0.0001, 0.0005, 0.001, 0.005, 0.01, 0.1, 1], 'coef0': [-1, 0, 1]},\n",
      "       pre_dispatch='2*n_jobs', refit=True, return_train_score=True,\n",
      "       scoring=None, verbose=0)), ('DTC', GridSearchCV(cv=None, error_score='raise',\n",
      "       estimator=DecisionTreeClassifier(class_weight='balanced', criterion='entropy',\n",
      "            max_depth=None, max_features=None, max_leaf_nodes=None,\n",
      "            min_impurity_split=1e-07, min_samples_leaf=1,\n",
      "            min_samples_split=2, min_weight_fraction_leaf=0.0,\n",
      "            presort=False, random_state=123, splitter='best'),\n",
      "       fit_params={}, iid=True, n_jobs=-1,\n",
      "       param_grid={'max_depth': [2, 3, 4, 5, 6, 7]},\n",
      "       pre_dispatch='2*n_jobs', refit=True, return_train_score=True,\n",
      "       scoring=None, verbose=0)), ('RFC', GridSearchCV(cv=None, error_score='raise',\n",
      "       estimator=RandomForestClassifier(bootstrap=True, class_weight='balanced',\n",
      "            criterion='gini', max_depth=None, max_features='auto',\n",
      "            max_leaf_nodes=None, min_impurity_split=1e-07,\n",
      "            min_samples_leaf=1, min_samples_split=2,\n",
      "            min_weight_fraction_leaf=0.0, n_estimators=10, n_jobs=1,\n",
      "            oob_score=False, random_state=123, verbose=0, warm_start=False),\n",
      "       fit_params={}, iid=True, n_jobs=-1,\n",
      "       param_grid={'n_estimators': [3, 5, 7, 10], 'max_depth': [2, 3, 4, 5, 6, 7]},\n",
      "       pre_dispatch='2*n_jobs', refit=True, return_train_score=True,\n",
      "       scoring=None, verbose=0)), ('EFC', GridSearchCV(cv=None, error_score='raise',\n",
      "       estimator=ExtraTreesClassifier(bootstrap=False, class_weight='balanced',\n",
      "           criterion='gini', max_depth=None, max_features='auto',\n",
      "           max_leaf_nodes=None, min_impurity_split=1e-07,\n",
      "           min_samples_leaf=1, min_samples_split=2,\n",
      "           min_weight_fraction_leaf=0.0, n_estimators=10, n_jobs=1,\n",
      "           oob_score=False, random_state=123, verbose=0, warm_start=False),\n",
      "       fit_params={}, iid=True, n_jobs=-1,\n",
      "       param_grid={'n_estimators': [3, 5, 10], 'max_depth': [2, 3, 4, 5, 6, 7]},\n",
      "       pre_dispatch='2*n_jobs', refit=True, return_train_score=True,\n",
      "       scoring=None, verbose=0))], 'EFC__estimator__criterion': 'gini', 'rbf__fit_params': {}, 'EFC__fit_params': {}, 'sigmoid__return_train_score': True, 'rbf__estimator__random_state': None, 'EFC__estimator__max_features': 'auto', 'sigmoid__estimator__probability': False, 'DTC__n_jobs': -1, 'sigmoid__estimator__degree': 3, 'rbf__estimator__coef0': 0.0, 'DTC__estimator__min_impurity_split': 1e-07, 'rbf__verbose': 0, 'sigmoid__estimator__verbose': False, 'RFC__scoring': None, 'RFC__estimator__min_weight_fraction_leaf': 0.0, 'RFC__estimator__min_samples_leaf': 1, 'sigmoid__estimator__random_state': None, 'sigmoid__estimator__decision_function_shape': None, 'RFC__estimator__n_jobs': 1, 'DTC__return_train_score': True, 'sigmoid__verbose': 0, 'RFC__estimator__min_impurity_split': 1e-07, 'EFC__estimator__min_samples_leaf': 1, 'RFC__estimator__max_features': 'auto', 'DTC__estimator__min_weight_fraction_leaf': 0.0, 'RFC__return_train_score': True, 'DTC__estimator__criterion': 'entropy', 'EFC__estimator__min_weight_fraction_leaf': 0.0, 'EFC__refit': True, 'sigmoid__error_score': 'raise', 'EFC__estimator__max_depth': None, 'sigmoid': GridSearchCV(cv=None, error_score='raise',\n",
      "       estimator=SVC(C=1.0, cache_size=200, class_weight='balanced', coef0=0.0,\n",
      "  decision_function_shape=None, degree=3, gamma='auto', kernel='sigmoid',\n",
      "  max_iter=-1, probability=False, random_state=None, shrinking=True,\n",
      "  tol=0.001, verbose=False),\n",
      "       fit_params={}, iid=True, n_jobs=-1,\n",
      "       param_grid={'C': [1000.0, 10000.0, 100000.0], 'gamma': [0.0001, 0.0005, 0.001, 0.005, 0.01, 0.1, 1], 'coef0': [-1, 0, 1]},\n",
      "       pre_dispatch='2*n_jobs', refit=True, return_train_score=True,\n",
      "       scoring=None, verbose=0), 'RFC__refit': True, 'rbf__iid': True, 'n_jobs': 1, 'RFC__estimator__bootstrap': True, 'DTC__estimator__min_samples_split': 2, 'RFC__pre_dispatch': '2*n_jobs', 'RFC__estimator__class_weight': 'balanced', 'sigmoid__param_grid': {'C': [1000.0, 10000.0, 100000.0], 'gamma': [0.0001, 0.0005, 0.001, 0.005, 0.01, 0.1, 1], 'coef0': [-1, 0, 1]}, 'sigmoid__estimator__max_iter': -1, 'rbf__scoring': None, 'DTC__estimator__max_depth': None, 'RFC__estimator__max_depth': None, 'rbf__n_jobs': 1, 'EFC__verbose': 0, 'sigmoid__estimator': SVC(C=1.0, cache_size=200, class_weight='balanced', coef0=0.0,\n",
      "  decision_function_shape=None, degree=3, gamma='auto', kernel='sigmoid',\n",
      "  max_iter=-1, probability=False, random_state=None, shrinking=True,\n",
      "  tol=0.001, verbose=False), 'rbf__estimator__decision_function_shape': None, 'DTC__refit': True, 'DTC__error_score': 'raise', 'RFC__verbose': 0, 'rbf__estimator__probability': False, 'sigmoid__n_jobs': -1, 'sigmoid__estimator__gamma': 'auto', 'sigmoid__fit_params': {}, 'DTC__pre_dispatch': '2*n_jobs', 'sigmoid__estimator__C': 1.0, 'DTC__fit_params': {}, 'sigmoid__estimator__kernel': 'sigmoid', 'EFC__estimator': ExtraTreesClassifier(bootstrap=False, class_weight='balanced',\n",
      "           criterion='gini', max_depth=None, max_features='auto',\n",
      "           max_leaf_nodes=None, min_impurity_split=1e-07,\n",
      "           min_samples_leaf=1, min_samples_split=2,\n",
      "           min_weight_fraction_leaf=0.0, n_estimators=10, n_jobs=1,\n",
      "           oob_score=False, random_state=123, verbose=0, warm_start=False), 'sigmoid__iid': True, 'RFC__estimator': RandomForestClassifier(bootstrap=True, class_weight='balanced',\n",
      "            criterion='gini', max_depth=None, max_features='auto',\n",
      "            max_leaf_nodes=None, min_impurity_split=1e-07,\n",
      "            min_samples_leaf=1, min_samples_split=2,\n",
      "            min_weight_fraction_leaf=0.0, n_estimators=10, n_jobs=1,\n",
      "            oob_score=False, random_state=123, verbose=0, warm_start=False), 'EFC__estimator__n_jobs': 1, 'RFC': GridSearchCV(cv=None, error_score='raise',\n",
      "       estimator=RandomForestClassifier(bootstrap=True, class_weight='balanced',\n",
      "            criterion='gini', max_depth=None, max_features='auto',\n",
      "            max_leaf_nodes=None, min_impurity_split=1e-07,\n",
      "            min_samples_leaf=1, min_samples_split=2,\n",
      "            min_weight_fraction_leaf=0.0, n_estimators=10, n_jobs=1,\n",
      "            oob_score=False, random_state=123, verbose=0, warm_start=False),\n",
      "       fit_params={}, iid=True, n_jobs=-1,\n",
      "       param_grid={'n_estimators': [3, 5, 7, 10], 'max_depth': [2, 3, 4, 5, 6, 7]},\n",
      "       pre_dispatch='2*n_jobs', refit=True, return_train_score=True,\n",
      "       scoring=None, verbose=0), 'rbf__estimator__degree': 3, 'sigmoid__estimator__cache_size': 200, 'DTC__scoring': None, 'RFC__iid': True, 'sigmoid__pre_dispatch': '2*n_jobs', 'DTC__param_grid': {'max_depth': [2, 3, 4, 5, 6, 7]}, 'DTC__iid': True, 'RFC__estimator__n_estimators': 10, 'rbf__cv': None, 'RFC__estimator__max_leaf_nodes': None, 'sigmoid__estimator__class_weight': 'balanced', 'rbf__param_grid': {'C': [0.001, 0.01, 1, 1000.0, 5000.0, 10000.0, 50000.0, 100000.0], 'gamma': [0.0001, 0.0005, 0.001, 0.005, 0.01, 0.1, 1]}, 'DTC__estimator__random_state': 123, 'RFC__n_jobs': -1, 'EFC__estimator__warm_start': False, 'DTC__estimator__min_samples_leaf': 1, 'RFC__param_grid': {'n_estimators': [3, 5, 7, 10], 'max_depth': [2, 3, 4, 5, 6, 7]}, 'EFC__estimator__oob_score': False, 'rbf__estimator__max_iter': -1, 'RFC__estimator__random_state': 123, 'sigmoid__estimator__coef0': 0.0, 'EFC__estimator__bootstrap': False, 'DTC__cv': None, 'EFC__cv': None, 'EFC': GridSearchCV(cv=None, error_score='raise',\n",
      "       estimator=ExtraTreesClassifier(bootstrap=False, class_weight='balanced',\n",
      "           criterion='gini', max_depth=None, max_features='auto',\n",
      "           max_leaf_nodes=None, min_impurity_split=1e-07,\n",
      "           min_samples_leaf=1, min_samples_split=2,\n",
      "           min_weight_fraction_leaf=0.0, n_estimators=10, n_jobs=1,\n",
      "           oob_score=False, random_state=123, verbose=0, warm_start=False),\n",
      "       fit_params={}, iid=True, n_jobs=-1,\n",
      "       param_grid={'n_estimators': [3, 5, 10], 'max_depth': [2, 3, 4, 5, 6, 7]},\n",
      "       pre_dispatch='2*n_jobs', refit=True, return_train_score=True,\n",
      "       scoring=None, verbose=0)}\n"
     ]
    },
    {
     "name": "stdout",
     "output_type": "stream",
     "text": [
      "0.92270531401\n"
     ]
    }
   ],
   "source": [
    "eclf3 = VotingClassifier(estimators=[\n",
    "    ('rbf',clf_RBF), ('sigmoid',clf_SIGMOID), ('DTC',clf_DTC),\n",
    "    ('RFC',clf_RFC),('EFC',clf_EFC)], \n",
    "                         voting='hard')\n",
    "eclf3 = eclf3.fit(X_train, y_train)\n",
    "y_predict_eclf3 =  eclf3.predict(X_test)\n",
    "\n",
    "print (eclf3.get_params(deep=True))\n",
    "print (eclf3.score(X_train, y_train, sample_weight=None))"
   ]
  },
  {
   "cell_type": "code",
   "execution_count": 73,
   "metadata": {},
   "outputs": [
    {
     "name": "stdout",
     "output_type": "stream",
     "text": [
      "[0 0 0 0 0 0 0 0 0 0 0 0 0 0 0 0 0 0 0 1 0 0 0 0 0 0 0 0 0 1 0 0 0 0 0 0 1\n",
      " 0 0 0 0 1 1 0 0 0 0 0 0 1 0 1 1 0 0 0 0 0 0 0 0 0 0 0 0 0 0 0 1 1 0 0 1 0\n",
      " 0 0 0 1 0 0 0 0 0 0 0 0 0 0 0 0 0 1 0 0 0 1 0 0 0 0 0 0 0 0 0 0 0 1 1 0 1\n",
      " 0 0 0 0 0 0 0 0 0 1 0 0 0 0 0 1 1 0 0 0 1 1 1 1 0 0 0 0 0 0 0 0 0 1 0 0 1\n",
      " 0 1 1 1 0 0 0 0 0 0 0 0 0 0 0 1 0 0 0 0 0 1 0 1 0 1 0 0 0 0 0 0 1 1 0 1 0\n",
      " 1 0 0 0 0 0 1 1 1 0 0 0 1 0 1 0 0 0 0 0 0 0 0]\n"
     ]
    }
   ],
   "source": [
    "print(y_predict_eclf3)"
   ]
  },
  {
   "cell_type": "code",
   "execution_count": 74,
   "metadata": {},
   "outputs": [
    {
     "name": "stdout",
     "output_type": "stream",
     "text": [
      "[ 0.74  0.74  0.67  0.71]\n",
      "Accuracy: 0.7149 (+/- 0.0564)\n",
      "             precision    recall  f1-score   support\n",
      "\n",
      "          0       0.81      0.88      0.84       154\n",
      "          1       0.55      0.43      0.48        54\n",
      "\n",
      "avg / total       0.74      0.76      0.75       208\n",
      "\n"
     ]
    }
   ],
   "source": [
    "scores_eclf3 = cross_val_score(eclf3 , X_train, y_train, cv=4, n_jobs=-1)\n",
    "print(scores_eclf3 )\n",
    "print(\"Accuracy: %0.4f (+/- %0.4f)\" % (scores_eclf3.mean(), scores_eclf3.std() * 2))\n",
    "\n",
    "print (metrics.classification_report(y_test, y_predict_eclf3))"
   ]
  },
  {
   "cell_type": "code",
   "execution_count": 75,
   "metadata": {},
   "outputs": [
    {
     "name": "stdout",
     "output_type": "stream",
     "text": [
      "Confusion matrix, without normalization\n",
      "[[135  19]\n",
      " [ 31  23]]\n",
      "Normalized confusion matrix\n",
      "[[ 0.88  0.12]\n",
      " [ 0.57  0.43]]\n"
     ]
    },
    {
     "data": {
      "image/png": "[encoded data removed]",
      "text/plain": [
       "<matplotlib.figure.Figure at 0x2300c61bcf8>"
      ]
     },
     "metadata": {},
     "output_type": "display_data"
    },
    {
     "data": {
      "image/png": "[encoded data removed]",
      "text/plain": [
       "<matplotlib.figure.Figure at 0x230088d1588>"
      ]
     },
     "metadata": {},
     "output_type": "display_data"
    }
   ],
   "source": [
    "cnf_matrix_eclf3 = confusion_matrix(y_test, y_predict_eclf3)\n",
    "np.set_printoptions(precision=2)\n",
    "\n",
    "# Plot non-normalized confusion matrix\n",
    "plt.figure()\n",
    "plot_confusion_matrix(cnf_matrix_eclf3, classes='1',\n",
    "                      title='ECLF Confusion matrix, without normalization')\n",
    "\n",
    "# Plot normalized confusion matrix\n",
    "plt.figure()\n",
    "plot_confusion_matrix(cnf_matrix_eclf3, classes='1', normalize=True,\n",
    "                      title='ECLF Normalized confusion matrix')\n",
    "\n",
    "plt.show()"
   ]
  },
  {
   "cell_type": "markdown",
   "metadata": {},
   "source": [
    "This ensemble voting model aggregates decision tree and the extremely tree models:"
   ]
  },
  {
   "cell_type": "code",
   "execution_count": 76,
   "metadata": {},
   "outputs": [
    {
     "name": "stdout",
     "output_type": "stream",
     "text": [
      "{'DTC__return_train_score': True, 'EFC__iid': True, 'DTC': GridSearchCV(cv=None, error_score='raise',\n",
      "       estimator=DecisionTreeClassifier(class_weight='balanced', criterion='entropy',\n",
      "            max_depth=None, max_features=None, max_leaf_nodes=None,\n",
      "            min_impurity_split=1e-07, min_samples_leaf=1,\n",
      "            min_samples_split=2, min_weight_fraction_leaf=0.0,\n",
      "            presort=False, random_state=123, splitter='best'),\n",
      "       fit_params={}, iid=True, n_jobs=-1,\n",
      "       param_grid={'max_depth': [2, 3, 4, 5, 6, 7]},\n",
      "       pre_dispatch='2*n_jobs', refit=True, return_train_score=True,\n",
      "       scoring=None, verbose=0), 'EFC__estimator__min_samples_leaf': 1, 'DTC__estimator__splitter': 'best', 'DTC__estimator__min_weight_fraction_leaf': 0.0, 'DTC__estimator__criterion': 'entropy', 'EFC__refit': True, 'DTC__estimator__max_leaf_nodes': None, 'DTC__estimator__max_features': None, 'EFC__estimator__min_weight_fraction_leaf': 0.0, 'EFC__estimator__random_state': 123, 'EFC__estimator__min_impurity_split': 1e-07, 'DTC__verbose': 0, 'DTC__error_score': 'raise', 'DTC__estimator__min_samples_split': 2, 'EFC__pre_dispatch': '2*n_jobs', 'EFC__estimator': ExtraTreesClassifier(bootstrap=False, class_weight='balanced',\n",
      "           criterion='gini', max_depth=None, max_features='auto',\n",
      "           max_leaf_nodes=None, min_impurity_split=1e-07,\n",
      "           min_samples_leaf=1, min_samples_split=2,\n",
      "           min_weight_fraction_leaf=0.0, n_estimators=10, n_jobs=1,\n",
      "           oob_score=False, random_state=123, verbose=0, warm_start=False), 'EFC__estimator__min_samples_split': 2, 'DTC__estimator__max_depth': None, 'EFC__scoring': None, 'EFC__param_grid': {'n_estimators': [3, 5, 10], 'max_depth': [2, 3, 4, 5, 6, 7]}, 'EFC__estimator__verbose': 0, 'DTC__refit': True, 'DTC__estimator': DecisionTreeClassifier(class_weight='balanced', criterion='entropy',\n",
      "            max_depth=None, max_features=None, max_leaf_nodes=None,\n",
      "            min_impurity_split=1e-07, min_samples_leaf=1,\n",
      "            min_samples_split=2, min_weight_fraction_leaf=0.0,\n",
      "            presort=False, random_state=123, splitter='best'), 'EFC__estimator__n_estimators': 10, 'EFC__error_score': 'raise', 'DTC__estimator__presort': False, 'DTC__pre_dispatch': '2*n_jobs', 'EFC__estimator__max_leaf_nodes': None, 'DTC__fit_params': {}, 'EFC__n_jobs': -1, 'n_jobs': 1, 'EFC__estimator__n_jobs': 1, 'weights': None, 'DTC__estimator__class_weight': 'balanced', 'EFC__estimator__class_weight': 'balanced', 'DTC__scoring': None, 'voting': 'hard', 'DTC__param_grid': {'max_depth': [2, 3, 4, 5, 6, 7]}, 'DTC__iid': True, 'estimators': [('DTC', GridSearchCV(cv=None, error_score='raise',\n",
      "       estimator=DecisionTreeClassifier(class_weight='balanced', criterion='entropy',\n",
      "            max_depth=None, max_features=None, max_leaf_nodes=None,\n",
      "            min_impurity_split=1e-07, min_samples_leaf=1,\n",
      "            min_samples_split=2, min_weight_fraction_leaf=0.0,\n",
      "            presort=False, random_state=123, splitter='best'),\n",
      "       fit_params={}, iid=True, n_jobs=-1,\n",
      "       param_grid={'max_depth': [2, 3, 4, 5, 6, 7]},\n",
      "       pre_dispatch='2*n_jobs', refit=True, return_train_score=True,\n",
      "       scoring=None, verbose=0)), ('EFC', GridSearchCV(cv=None, error_score='raise',\n",
      "       estimator=ExtraTreesClassifier(bootstrap=False, class_weight='balanced',\n",
      "           criterion='gini', max_depth=None, max_features='auto',\n",
      "           max_leaf_nodes=None, min_impurity_split=1e-07,\n",
      "           min_samples_leaf=1, min_samples_split=2,\n",
      "           min_weight_fraction_leaf=0.0, n_estimators=10, n_jobs=1,\n",
      "           oob_score=False, random_state=123, verbose=0, warm_start=False),\n",
      "       fit_params={}, iid=True, n_jobs=-1,\n",
      "       param_grid={'n_estimators': [3, 5, 10], 'max_depth': [2, 3, 4, 5, 6, 7]},\n",
      "       pre_dispatch='2*n_jobs', refit=True, return_train_score=True,\n",
      "       scoring=None, verbose=0))], 'EFC__estimator__criterion': 'gini', 'EFC__verbose': 0, 'EFC__fit_params': {}, 'EFC__estimator__max_depth': None, 'DTC__estimator__random_state': 123, 'EFC__estimator__max_features': 'auto', 'DTC__n_jobs': -1, 'EFC__estimator__warm_start': False, 'DTC__estimator__min_samples_leaf': 1, 'DTC__estimator__min_impurity_split': 1e-07, 'EFC__estimator__oob_score': False, 'EFC__return_train_score': True, 'EFC__estimator__bootstrap': False, 'DTC__cv': None, 'EFC__cv': None, 'EFC': GridSearchCV(cv=None, error_score='raise',\n",
      "       estimator=ExtraTreesClassifier(bootstrap=False, class_weight='balanced',\n",
      "           criterion='gini', max_depth=None, max_features='auto',\n",
      "           max_leaf_nodes=None, min_impurity_split=1e-07,\n",
      "           min_samples_leaf=1, min_samples_split=2,\n",
      "           min_weight_fraction_leaf=0.0, n_estimators=10, n_jobs=1,\n",
      "           oob_score=False, random_state=123, verbose=0, warm_start=False),\n",
      "       fit_params={}, iid=True, n_jobs=-1,\n",
      "       param_grid={'n_estimators': [3, 5, 10], 'max_depth': [2, 3, 4, 5, 6, 7]},\n",
      "       pre_dispatch='2*n_jobs', refit=True, return_train_score=True,\n",
      "       scoring=None, verbose=0)}\n",
      "0.840579710145\n"
     ]
    }
   ],
   "source": [
    "eclf4 = VotingClassifier(estimators=[\n",
    "    ('DTC',clf_DTC), ('EFC',clf_EFC)], \n",
    "                         voting='hard')\n",
    "eclf4 = eclf4.fit(X_train, y_train)\n",
    "y_predict_eclf4 =  eclf4.predict(X_test)\n",
    "\n",
    "print (eclf4.get_params(deep=True))\n",
    "print (eclf4.score(X_train, y_train, sample_weight=None))"
   ]
  },
  {
   "cell_type": "code",
   "execution_count": 77,
   "metadata": {},
   "outputs": [
    {
     "name": "stdout",
     "output_type": "stream",
     "text": [
      "[ 0.74  0.72  0.67  0.72]\n",
      "Accuracy: 0.7133 (+/- 0.0529)\n",
      "             precision    recall  f1-score   support\n",
      "\n",
      "          0       0.82      0.86      0.84       154\n",
      "          1       0.54      0.48      0.51        54\n",
      "\n",
      "avg / total       0.75      0.76      0.75       208\n",
      "\n"
     ]
    }
   ],
   "source": [
    "scores_eclf4 = cross_val_score(eclf4 , X_train, y_train, cv=4, n_jobs=-1)\n",
    "print(scores_eclf4 )\n",
    "print(\"Accuracy: %0.4f (+/- %0.4f)\" % (scores_eclf4.mean(), scores_eclf4.std() * 2))\n",
    "\n",
    "print (metrics.classification_report(y_test, y_predict_eclf4))"
   ]
  },
  {
   "cell_type": "code",
   "execution_count": 78,
   "metadata": {},
   "outputs": [
    {
     "name": "stdout",
     "output_type": "stream",
     "text": [
      "Confusion matrix, without normalization\n",
      "[[132  22]\n",
      " [ 28  26]]\n",
      "Normalized confusion matrix\n",
      "[[ 0.86  0.14]\n",
      " [ 0.52  0.48]]\n"
     ]
    },
    {
     "data": {
      "image/png": "[encoded data removed]",
      "text/plain": [
       "<matplotlib.figure.Figure at 0x230072f1dd8>"
      ]
     },
     "metadata": {},
     "output_type": "display_data"
    },
    {
     "data": {
      "image/png": "[encoded data removed]",
      "text/plain": [
       "<matplotlib.figure.Figure at 0x23004bf8438>"
      ]
     },
     "metadata": {},
     "output_type": "display_data"
    }
   ],
   "source": [
    "cnf_matrix_eclf4 = confusion_matrix(y_test, y_predict_eclf4)\n",
    "np.set_printoptions(precision=2)\n",
    "\n",
    "# Plot non-normalized confusion matrix\n",
    "plt.figure()\n",
    "plot_confusion_matrix(cnf_matrix_eclf4, classes='1',\n",
    "                      title='ECLF Confusion matrix, without normalization')\n",
    "\n",
    "# Plot normalized confusion matrix\n",
    "plt.figure()\n",
    "plot_confusion_matrix(cnf_matrix_eclf4, classes='1', normalize=True,\n",
    "                      title='ECLF Normalized confusion matrix')\n",
    "\n",
    "plt.show()"
   ]
  },
  {
   "cell_type": "markdown",
   "metadata": {},
   "source": [
    "The best model found here is the ensemble model with the decision tree and the extremely tree, even though the ensemble model with five aggregate methods shows a slightly better score, applying the principle of Occam's razor make the simplest better.  At this time, the resulting model can accurately predict the deaths given a series of medical examinations, as proposed in the hypothesis. While accuracy is not the best (76%), I think it may be a good start for future investigations of interdisciplinary teams in ICU forecasting diseases. "
   ]
  },
  {
   "cell_type": "markdown",
   "metadata": {},
   "source": [
    "From the forest model is possible to find how features weights in the results, such weights are called importance.  As you can see only 129 features are important to the model, the rest has no weights.  As you can expect, the antibiotic sensitivity are the most important feature (together weights 57% of importance) and AMIKACIN antibiotic the most important feature of the sample.  Every feature from age group weight 0.97% in average, followed by category feature which everyone weights less than 1%."
   ]
  },
  {
   "cell_type": "code",
   "execution_count": 88,
   "metadata": {},
   "outputs": [
    {
     "name": "stdout",
     "output_type": "stream",
     "text": [
      "Feature ranking:\n",
      "1. feature 240 (0.053948)\n",
      "2. feature 273 (0.034461)\n",
      "3. feature 237 (0.030208)\n",
      "4. feature 427 (0.029493)\n",
      "5. feature 416 (0.029326)\n",
      "6. feature 37 (0.027816)\n",
      "7. feature 517 (0.025309)\n",
      "8. feature 118 (0.024947)\n",
      "9. feature 16 (0.023853)\n",
      "10. feature 658 (0.020297)\n",
      "11. feature 186 (0.019731)\n",
      "12. feature 480 (0.019372)\n",
      "13. feature 488 (0.016219)\n",
      "14. feature 588 (0.015917)\n",
      "15. feature 414 (0.015770)\n",
      "16. feature 29 (0.015359)\n",
      "17. feature 470 (0.015139)\n",
      "18. feature 293 (0.014874)\n",
      "19. feature 238 (0.014657)\n",
      "20. feature 187 (0.014469)\n",
      "21. feature 197 (0.014247)\n",
      "22. feature 223 (0.014117)\n",
      "23. feature 23 (0.013355)\n",
      "24. feature 523 (0.013277)\n",
      "25. feature 259 (0.012357)\n",
      "26. feature 98 (0.011632)\n",
      "27. feature 128 (0.011117)\n",
      "28. feature 6 (0.010978)\n",
      "29. feature 123 (0.010387)\n",
      "30. feature 359 (0.010151)\n",
      "31. feature 243 (0.009812)\n",
      "32. feature 563 (0.009535)\n",
      "33. feature 713 (0.009299)\n",
      "34. feature 566 (0.008907)\n",
      "35. feature 508 (0.008858)\n",
      "36. feature 546 (0.008840)\n",
      "37. feature 328 (0.008714)\n",
      "38. feature 412 (0.008675)\n",
      "39. feature 346 (0.008508)\n",
      "40. feature 163 (0.008166)\n",
      "41. feature 428 (0.008068)\n",
      "42. feature 459 (0.007914)\n",
      "43. feature 144 (0.007468)\n",
      "44. feature 18 (0.007330)\n",
      "45. feature 530 (0.007282)\n",
      "46. feature 711 (0.007215)\n",
      "47. feature 49 (0.007207)\n",
      "48. feature 415 (0.007053)\n",
      "49. feature 246 (0.006948)\n",
      "50. feature 389 (0.006639)\n",
      "51. feature 309 (0.006631)\n",
      "52. feature 120 (0.006131)\n",
      "53. feature 682 (0.005969)\n",
      "54. feature 452 (0.005954)\n",
      "55. feature 516 (0.005870)\n",
      "56. feature 27 (0.005821)\n",
      "57. feature 62 (0.005820)\n",
      "58. feature 507 (0.005810)\n",
      "59. feature 225 (0.005809)\n",
      "60. feature 614 (0.005741)\n",
      "61. feature 311 (0.005737)\n",
      "62. feature 210 (0.005710)\n",
      "63. feature 360 (0.005488)\n",
      "64. feature 362 (0.005475)\n",
      "65. feature 361 (0.005153)\n",
      "66. feature 235 (0.004983)\n",
      "67. feature 68 (0.004954)\n",
      "68. feature 47 (0.004836)\n",
      "69. feature 162 (0.004677)\n",
      "70. feature 460 (0.004515)\n",
      "71. feature 149 (0.004456)\n",
      "72. feature 217 (0.004441)\n",
      "73. feature 241 (0.004309)\n",
      "74. feature 301 (0.004247)\n",
      "75. feature 78 (0.004204)\n",
      "76. feature 348 (0.004070)\n",
      "77. feature 396 (0.003932)\n",
      "78. feature 22 (0.003912)\n",
      "79. feature 474 (0.003893)\n",
      "80. feature 473 (0.003785)\n",
      "81. feature 288 (0.003740)\n",
      "82. feature 97 (0.003711)\n",
      "83. feature 189 (0.003569)\n",
      "84. feature 398 (0.003358)\n",
      "85. feature 376 (0.003353)\n",
      "86. feature 199 (0.003266)\n",
      "87. feature 506 (0.003146)\n",
      "88. feature 145 (0.003080)\n",
      "89. feature 289 (0.003072)\n",
      "90. feature 340 (0.002948)\n",
      "91. feature 3 (0.002851)\n",
      "92. feature 590 (0.002843)\n",
      "93. feature 703 (0.002832)\n",
      "94. feature 544 (0.002771)\n",
      "95. feature 253 (0.002704)\n",
      "96. feature 528 (0.002636)\n",
      "97. feature 567 (0.002572)\n",
      "98. feature 441 (0.002536)\n",
      "99. feature 550 (0.002472)\n",
      "100. feature 142 (0.002460)\n",
      "101. feature 370 (0.002403)\n",
      "102. feature 514 (0.002313)\n",
      "103. feature 59 (0.002259)\n",
      "104. feature 600 (0.002252)\n",
      "105. feature 76 (0.002185)\n",
      "106. feature 165 (0.002180)\n",
      "107. feature 454 (0.002058)\n",
      "108. feature 433 (0.002022)\n",
      "109. feature 312 (0.002015)\n",
      "110. feature 229 (0.001942)\n",
      "111. feature 298 (0.001920)\n",
      "112. feature 461 (0.001873)\n",
      "113. feature 109 (0.001870)\n",
      "114. feature 292 (0.001703)\n",
      "115. feature 205 (0.001697)\n",
      "116. feature 640 (0.001673)\n",
      "117. feature 19 (0.001461)\n",
      "118. feature 5 (0.001449)\n",
      "119. feature 708 (0.001426)\n",
      "120. feature 531 (0.001416)\n",
      "121. feature 75 (0.001401)\n",
      "122. feature 515 (0.001080)\n",
      "123. feature 245 (0.000541)\n",
      "124. feature 599 (0.000374)\n",
      "125. feature 538 (0.000362)\n",
      "126. feature 294 (0.000252)\n",
      "127. feature 571 (0.000169)\n",
      "128. feature 317 (0.000116)\n",
      "129. feature 453 (0.000112)\n"
     ]
    },
    {
     "data": {
      "image/png": "[encoded data removed]",
      "text/plain": [
       "<matplotlib.figure.Figure at 0x22fdf16d710>"
      ]
     },
     "metadata": {},
     "output_type": "display_data"
    }
   ],
   "source": [
    "# Code source:  http://scikit-learn.org/stable/auto_examples/ensemble/plot_forest_importances.html\n",
    "from sklearn.datasets import make_classification\n",
    "forest = clf_EFC_b\n",
    "\n",
    "forest.fit(X_train, y_train)\n",
    "feature_names = X_train.columns\n",
    "importances = forest.feature_importances_\n",
    "std = np.std([tree.feature_importances_ for tree in forest.estimators_],\n",
    "             axis=0)\n",
    "indices = np.argsort(importances)[::-1]\n",
    "\n",
    "# Print the feature ranking\n",
    "print(\"Feature ranking:\")\n",
    "\n",
    "for f in range(X_train.shape[1]):\n",
    "    if importances[indices[f]]>0:\n",
    "        print(\"%d. feature %d (%f)\" % (f + 1, indices[f], importances[indices[f]]))\n",
    "\n",
    "\n",
    "#plt.xticks(range(heart_train.shape[1]), )        \n",
    "        \n",
    "        \n",
    "# Plot the feature importances of the forest\n",
    "plt.figure()\n",
    "plt.title(\"Feature importances\")\n",
    "plt.bar(range(X_train.shape[1]), importances[indices],\n",
    "       color=\"r\", yerr=std[indices], align=\"center\")\n",
    "plt.xticks(range(X_train.shape[1]), feature_names)\n",
    "plt.xlim([-1, X_train.shape[1]])\n",
    "plt.show()"
   ]
  },
  {
   "cell_type": "code",
   "execution_count": 108,
   "metadata": {},
   "outputs": [
    {
     "name": "stdout",
     "output_type": "stream",
     "text": [
      "                                               Feature  Importance\n",
      "0                                     ab_name_AMIKACIN    0.053948\n",
      "1                                   ab_name_AMPICILLIN    0.034461\n",
      "2                         ab_name_AMPICILLIN/SULBACTAM    0.030208\n",
      "3                                    ab_name_CEFAZOLIN    0.029493\n",
      "4                                     ab_name_CEFEPIME    0.029326\n",
      "5                                  ab_name_CEFTAZIDIME    0.027816\n",
      "6                                  ab_name_CEFTRIAXONE    0.025309\n",
      "7                                   ab_name_CEFUROXIME    0.024947\n",
      "8                              ab_name_CHLORAMPHENICOL    0.023853\n",
      "9                                ab_name_CIPROFLOXACIN    0.020297\n",
      "10                                 ab_name_CLINDAMYCIN    0.019731\n",
      "11                                  ab_name_DAPTOMYCIN    0.019372\n",
      "12                                ab_name_ERYTHROMYCIN    0.016219\n",
      "13                                  ab_name_GENTAMICIN    0.015917\n",
      "14                                    ab_name_IMIPENEM    0.015770\n",
      "15                                ab_name_LEVOFLOXACIN    0.015359\n",
      "16                                   ab_name_LINEZOLID    0.015139\n",
      "17                                   ab_name_MEROPENEM    0.014874\n",
      "18                              ab_name_NITROFURANTOIN    0.014657\n",
      "19                                   ab_name_OXACILLIN    0.014469\n",
      "20                                  ab_name_PENICILLIN    0.014247\n",
      "21                                ab_name_PENICILLIN G    0.014117\n",
      "22                                ab_name_PIPERACILLIN    0.013355\n",
      "23                           ab_name_PIPERACILLIN/TAZO    0.013277\n",
      "24                                    ab_name_RIFAMPIN    0.012357\n",
      "25                                ab_name_TETRACYCLINE    0.011632\n",
      "26                                  ab_name_TOBRAMYCIN    0.011117\n",
      "27                          ab_name_TRIMETHOPRIM/SULFA    0.010978\n",
      "28                                  ab_name_VANCOMYCIN    0.010387\n",
      "29                                     age_group_adult    0.010151\n",
      "30                                   age_group_elderly    0.009812\n",
      "31                                   age_group_neonate    0.009535\n",
      "32                                age_group_oldest old    0.009299\n",
      "33                                        category_ABG    0.008907\n",
      "34                                      category_ABG'S    0.008858\n",
      "35                                      category_ABG's    0.008840\n",
      "36                    category_Access Lines - Invasive    0.008714\n",
      "37                           category_Adm History/FHPA    0.008675\n",
      "38                                     category_Alarms    0.008508\n",
      "39                                category_Blood Gases    0.008166\n",
      "40                                        category_CSF    0.008068\n",
      "41                category_Cardiovascular (Pacer Data)    0.007914\n",
      "42                                  category_Chemistry    0.007468\n",
      "43                                      category_Coags    0.007330\n",
      "44                                   category_Dialysis    0.007282\n",
      "45                                 category_Drug Level    0.007215\n",
      "46                                 category_Drug level    0.007207\n",
      "47                                    category_Enzymes    0.007053\n",
      "48                                      category_GI/GU    0.006948\n",
      "49                                    category_General    0.006639\n",
      "50                                 category_Hematology    0.006631\n",
      "51                                  category_Heme/Coag    0.006131\n",
      "52                               category_Hemodynamics    0.005969\n",
      "53                                       category_IABP    0.005954\n",
      "54                                       category_Labs    0.005870\n",
      "55                                 category_Mixed VBGs    0.005821\n",
      "56                         category_Mixed Venous Gases    0.005820\n",
      "57                                      category_NICOM    0.005810\n",
      "58                                     category_OB-GYN    0.005809\n",
      "59                                   category_OT Notes    0.005741\n",
      "60                                 category_Other ABGs    0.005737\n",
      "61                              category_Pain/Sedation    0.005710\n",
      "62                                      category_PiCCO    0.005488\n",
      "63                                category_Quick Admit    0.005475\n",
      "64                                category_Respiratory    0.005153\n",
      "65                        category_Routine Vital Signs    0.004983\n",
      "66                         category_Scores - APACHE II    0.004954\n",
      "67                     category_Scores - APACHE IV (2)    0.004836\n",
      "68                          category_Skin - Impairment    0.004677\n",
      "69                                 category_Treatments    0.004515\n",
      "70                                      category_Urine    0.004456\n",
      "71                                      category_VBG'S    0.004441\n",
      "72                                      category_VBG's    0.004309\n",
      "73                                 category_Venous ABG    0.004247\n",
      "74                                            gender_F    0.004204\n",
      "75                                            gender_M    0.004070\n",
      "76                                    interpretation_I    0.003932\n",
      "77                                    interpretation_P    0.003912\n",
      "78                                    interpretation_R    0.003893\n",
      "79                                    interpretation_S    0.003785\n",
      "80                                  label_ABG CHLOIRDE    0.003740\n",
      "81                                 label_ABG POTASSIUM    0.003711\n",
      "82                                 label_ABG Potassium    0.003569\n",
      "83                                    label_ABG SODIUM    0.003358\n",
      "84                                label_ABI Ankle BP L    0.003353\n",
      "85                                label_ABI Ankle BP R    0.003266\n",
      "86                             label_ABI Brachial BP L    0.003146\n",
      "87                             label_ABI Brachial BP R    0.003080\n",
      "88                                           label_ACT    0.003072\n",
      "89                                 label_ACT (102-142)    0.002948\n",
      "90                                           label_ALT    0.002851\n",
      "91                                     label_APACHE II    0.002843\n",
      "92                      label_APACHE II PDR - Adjusted    0.002832\n",
      "93               label_APACHE II Predecited Death Rate    0.002771\n",
      "94                                     label_APACHEIII    0.002704\n",
      "95                                           label_APS    0.002636\n",
      "96                              label_ART BP Diastolic    0.002572\n",
      "97                               label_ART BP Systolic    0.002536\n",
      "98                                   label_ART BP mean    0.002472\n",
      "99               label_ART Blood Pressure Alarm - High    0.002460\n",
      "100               label_ART Blood Pressure Alarm - Low    0.002403\n",
      "101                             label_ART Lumen Volume    0.002313\n",
      "102                                          label_AST    0.002259\n",
      "103                                        label_ATC %    0.002252\n",
      "104                           label_AaDO2ApacheIIValue    0.002185\n",
      "105                              label_Access Pressure    0.002180\n",
      "106                      label_Activated Clotting Time    0.002058\n",
      "107      label_Activity HR - Aerobic Activity Response    0.002022\n",
      "108               label_Activity HR - Aerobic Capacity    0.002015\n",
      "109           label_Activity O2 Sat - Aerobic Capacity    0.001942\n",
      "110  label_Activity O2 sat - Aerobic Activity Response    0.001920\n",
      "111      label_Activity RR - Aerobic Activity Response    0.001873\n",
      "112               label_Activity RR - Aerobic Capacity    0.001870\n",
      "113                        label_Admission Weight (Kg)    0.001703\n",
      "114                      label_Admission Weight (lbs.)    0.001697\n",
      "115                             label_AgeApacheIIScore    0.001673\n",
      "116                             label_AgeApacheIIValue    0.001461\n",
      "117                            label_AgeScore_ApacheIV    0.001449\n",
      "118                                      label_Albumin    0.001426\n",
      "119                           label_Albumin  (3.9-4.8)    0.001416\n",
      "120                               label_Albumin (>3.2)    0.001401\n",
      "121                        label_AlbuminScore_ApacheIV    0.001080\n",
      "122                             label_Albumin_ApacheIV    0.000541\n",
      "123                               label_Alk. Phosphate    0.000374\n",
      "124                         label_Alkaline Phosphatase    0.000362\n",
      "125                           label_Alkaline Phosphate    0.000252\n",
      "126                             label_Alsius Bath Temp    0.000169\n",
      "127                                      label_Ammonia    0.000116\n",
      "128                                      label_Amylase    0.000112\n"
     ]
    }
   ],
   "source": [
    "from sklearn.datasets import make_classification\n",
    "forest = clf_EFC_b\n",
    "\n",
    "forest.fit(X_train, y_train)\n",
    "feature_names = X_train.columns\n",
    "importances = forest.feature_importances_\n",
    "std = np.std([tree.feature_importances_ for tree in forest.estimators_],\n",
    "             axis=0)\n",
    "indices = np.argsort(importances)[::-1]\n",
    "\n",
    "\n",
    "impor = []\n",
    "for f in range(X_train.shape[1]):\n",
    "    if importances[indices[f]]>0:\n",
    "        impor.append({'Feature': feature_names[f] , 'Importance': importances[indices[f]]})\n",
    "\n",
    "        \n",
    "\n",
    "feature_importance = pd.DataFrame(impor).sort_values('Importance',ascending = False)\n",
    "print(feature_importance.to_string())"
   ]
  },
  {
   "cell_type": "code",
   "execution_count": 103,
   "metadata": {},
   "outputs": [
    {
     "name": "stdout",
     "output_type": "stream",
     "text": [
      "<class 'pandas.core.frame.DataFrame'>\n",
      "RangeIndex: 129 entries, 0 to 128\n",
      "Data columns (total 2 columns):\n",
      "Feature       129 non-null object\n",
      "Importance    129 non-null float64\n",
      "dtypes: float64(1), object(1)\n",
      "memory usage: 2.1+ KB\n"
     ]
    }
   ],
   "source": [
    "feature_importance.info()"
   ]
  },
  {
   "cell_type": "code",
   "execution_count": 105,
   "metadata": {},
   "outputs": [
    {
     "data": {
      "text/plain": [
       "1.0"
      ]
     },
     "execution_count": 105,
     "metadata": {},
     "output_type": "execute_result"
    }
   ],
   "source": [
    "feature_importance['Importance'].sum()"
   ]
  },
  {
   "cell_type": "code",
   "execution_count": 122,
   "metadata": {},
   "outputs": [
    {
     "data": {
      "text/html": [
       "<div>\n",
       "<table border=\"1\" class=\"dataframe\">\n",
       "  <thead>\n",
       "    <tr style=\"text-align: right;\">\n",
       "      <th></th>\n",
       "      <th>Feature</th>\n",
       "      <th>Importance</th>\n",
       "    </tr>\n",
       "  </thead>\n",
       "  <tbody>\n",
       "    <tr>\n",
       "      <th>0</th>\n",
       "      <td>ab_name_AMIKACIN</td>\n",
       "      <td>0.053948</td>\n",
       "    </tr>\n",
       "    <tr>\n",
       "      <th>1</th>\n",
       "      <td>ab_name_AMPICILLIN</td>\n",
       "      <td>0.034461</td>\n",
       "    </tr>\n",
       "    <tr>\n",
       "      <th>2</th>\n",
       "      <td>ab_name_AMPICILLIN/SULBACTAM</td>\n",
       "      <td>0.030208</td>\n",
       "    </tr>\n",
       "    <tr>\n",
       "      <th>3</th>\n",
       "      <td>ab_name_CEFAZOLIN</td>\n",
       "      <td>0.029493</td>\n",
       "    </tr>\n",
       "    <tr>\n",
       "      <th>4</th>\n",
       "      <td>ab_name_CEFEPIME</td>\n",
       "      <td>0.029326</td>\n",
       "    </tr>\n",
       "    <tr>\n",
       "      <th>5</th>\n",
       "      <td>ab_name_CEFTAZIDIME</td>\n",
       "      <td>0.027816</td>\n",
       "    </tr>\n",
       "    <tr>\n",
       "      <th>6</th>\n",
       "      <td>ab_name_CEFTRIAXONE</td>\n",
       "      <td>0.025309</td>\n",
       "    </tr>\n",
       "    <tr>\n",
       "      <th>7</th>\n",
       "      <td>ab_name_CEFUROXIME</td>\n",
       "      <td>0.024947</td>\n",
       "    </tr>\n",
       "    <tr>\n",
       "      <th>8</th>\n",
       "      <td>ab_name_CHLORAMPHENICOL</td>\n",
       "      <td>0.023853</td>\n",
       "    </tr>\n",
       "    <tr>\n",
       "      <th>9</th>\n",
       "      <td>ab_name_CIPROFLOXACIN</td>\n",
       "      <td>0.020297</td>\n",
       "    </tr>\n",
       "    <tr>\n",
       "      <th>10</th>\n",
       "      <td>ab_name_CLINDAMYCIN</td>\n",
       "      <td>0.019731</td>\n",
       "    </tr>\n",
       "    <tr>\n",
       "      <th>11</th>\n",
       "      <td>ab_name_DAPTOMYCIN</td>\n",
       "      <td>0.019372</td>\n",
       "    </tr>\n",
       "    <tr>\n",
       "      <th>12</th>\n",
       "      <td>ab_name_ERYTHROMYCIN</td>\n",
       "      <td>0.016219</td>\n",
       "    </tr>\n",
       "    <tr>\n",
       "      <th>13</th>\n",
       "      <td>ab_name_GENTAMICIN</td>\n",
       "      <td>0.015917</td>\n",
       "    </tr>\n",
       "    <tr>\n",
       "      <th>14</th>\n",
       "      <td>ab_name_IMIPENEM</td>\n",
       "      <td>0.015770</td>\n",
       "    </tr>\n",
       "    <tr>\n",
       "      <th>15</th>\n",
       "      <td>ab_name_LEVOFLOXACIN</td>\n",
       "      <td>0.015359</td>\n",
       "    </tr>\n",
       "    <tr>\n",
       "      <th>16</th>\n",
       "      <td>ab_name_LINEZOLID</td>\n",
       "      <td>0.015139</td>\n",
       "    </tr>\n",
       "    <tr>\n",
       "      <th>17</th>\n",
       "      <td>ab_name_MEROPENEM</td>\n",
       "      <td>0.014874</td>\n",
       "    </tr>\n",
       "    <tr>\n",
       "      <th>18</th>\n",
       "      <td>ab_name_NITROFURANTOIN</td>\n",
       "      <td>0.014657</td>\n",
       "    </tr>\n",
       "    <tr>\n",
       "      <th>19</th>\n",
       "      <td>ab_name_OXACILLIN</td>\n",
       "      <td>0.014469</td>\n",
       "    </tr>\n",
       "    <tr>\n",
       "      <th>20</th>\n",
       "      <td>ab_name_PENICILLIN</td>\n",
       "      <td>0.014247</td>\n",
       "    </tr>\n",
       "    <tr>\n",
       "      <th>21</th>\n",
       "      <td>ab_name_PENICILLIN G</td>\n",
       "      <td>0.014117</td>\n",
       "    </tr>\n",
       "    <tr>\n",
       "      <th>22</th>\n",
       "      <td>ab_name_PIPERACILLIN</td>\n",
       "      <td>0.013355</td>\n",
       "    </tr>\n",
       "    <tr>\n",
       "      <th>23</th>\n",
       "      <td>ab_name_PIPERACILLIN/TAZO</td>\n",
       "      <td>0.013277</td>\n",
       "    </tr>\n",
       "    <tr>\n",
       "      <th>24</th>\n",
       "      <td>ab_name_RIFAMPIN</td>\n",
       "      <td>0.012357</td>\n",
       "    </tr>\n",
       "    <tr>\n",
       "      <th>25</th>\n",
       "      <td>ab_name_TETRACYCLINE</td>\n",
       "      <td>0.011632</td>\n",
       "    </tr>\n",
       "    <tr>\n",
       "      <th>26</th>\n",
       "      <td>ab_name_TOBRAMYCIN</td>\n",
       "      <td>0.011117</td>\n",
       "    </tr>\n",
       "    <tr>\n",
       "      <th>27</th>\n",
       "      <td>ab_name_TRIMETHOPRIM/SULFA</td>\n",
       "      <td>0.010978</td>\n",
       "    </tr>\n",
       "    <tr>\n",
       "      <th>28</th>\n",
       "      <td>ab_name_VANCOMYCIN</td>\n",
       "      <td>0.010387</td>\n",
       "    </tr>\n",
       "    <tr>\n",
       "      <th>29</th>\n",
       "      <td>age_group_adult</td>\n",
       "      <td>0.010151</td>\n",
       "    </tr>\n",
       "    <tr>\n",
       "      <th>30</th>\n",
       "      <td>age_group_elderly</td>\n",
       "      <td>0.009812</td>\n",
       "    </tr>\n",
       "    <tr>\n",
       "      <th>31</th>\n",
       "      <td>age_group_neonate</td>\n",
       "      <td>0.009535</td>\n",
       "    </tr>\n",
       "    <tr>\n",
       "      <th>32</th>\n",
       "      <td>age_group_oldest old</td>\n",
       "      <td>0.009299</td>\n",
       "    </tr>\n",
       "  </tbody>\n",
       "</table>\n",
       "</div>"
      ],
      "text/plain": [
       "                         Feature  Importance\n",
       "0               ab_name_AMIKACIN    0.053948\n",
       "1             ab_name_AMPICILLIN    0.034461\n",
       "2   ab_name_AMPICILLIN/SULBACTAM    0.030208\n",
       "3              ab_name_CEFAZOLIN    0.029493\n",
       "4               ab_name_CEFEPIME    0.029326\n",
       "5            ab_name_CEFTAZIDIME    0.027816\n",
       "6            ab_name_CEFTRIAXONE    0.025309\n",
       "7             ab_name_CEFUROXIME    0.024947\n",
       "8        ab_name_CHLORAMPHENICOL    0.023853\n",
       "9          ab_name_CIPROFLOXACIN    0.020297\n",
       "10           ab_name_CLINDAMYCIN    0.019731\n",
       "11            ab_name_DAPTOMYCIN    0.019372\n",
       "12          ab_name_ERYTHROMYCIN    0.016219\n",
       "13            ab_name_GENTAMICIN    0.015917\n",
       "14              ab_name_IMIPENEM    0.015770\n",
       "15          ab_name_LEVOFLOXACIN    0.015359\n",
       "16             ab_name_LINEZOLID    0.015139\n",
       "17             ab_name_MEROPENEM    0.014874\n",
       "18        ab_name_NITROFURANTOIN    0.014657\n",
       "19             ab_name_OXACILLIN    0.014469\n",
       "20            ab_name_PENICILLIN    0.014247\n",
       "21          ab_name_PENICILLIN G    0.014117\n",
       "22          ab_name_PIPERACILLIN    0.013355\n",
       "23     ab_name_PIPERACILLIN/TAZO    0.013277\n",
       "24              ab_name_RIFAMPIN    0.012357\n",
       "25          ab_name_TETRACYCLINE    0.011632\n",
       "26            ab_name_TOBRAMYCIN    0.011117\n",
       "27    ab_name_TRIMETHOPRIM/SULFA    0.010978\n",
       "28            ab_name_VANCOMYCIN    0.010387\n",
       "29               age_group_adult    0.010151\n",
       "30             age_group_elderly    0.009812\n",
       "31             age_group_neonate    0.009535\n",
       "32          age_group_oldest old    0.009299"
      ]
     },
     "execution_count": 122,
     "metadata": {},
     "output_type": "execute_result"
    }
   ],
   "source": [
    "#surveys_df[surveys_df.year == 2002]\n",
    "more_important= feature_importance[feature_importance.Importance >= 0.009]\n",
    "more_important"
   ]
  },
  {
   "cell_type": "code",
   "execution_count": 127,
   "metadata": {},
   "outputs": [
    {
     "data": {
      "text/plain": [
       "<matplotlib.axes._subplots.AxesSubplot at 0x22fe1057d30>"
      ]
     },
     "execution_count": 127,
     "metadata": {},
     "output_type": "execute_result"
    },
    {
     "data": {
      "image/png": "[encoded data removed]",
      "text/plain": [
       "<matplotlib.figure.Figure at 0x22fdfffae80>"
      ]
     },
     "metadata": {},
     "output_type": "display_data"
    }
   ],
   "source": [
    "more_important.plot(kind='bar')"
   ]
  },
  {
   "cell_type": "code",
   "execution_count": null,
   "metadata": {
    "collapsed": true
   },
   "outputs": [],
   "source": []
  }
 ],
 "metadata": {
  "kernelspec": {
   "display_name": "Python 3",
   "language": "python",
   "name": "python3"
  },
  "language_info": {
   "codemirror_mode": {
    "name": "ipython",
    "version": 3
   },
   "file_extension": ".py",
   "mimetype": "text/x-python",
   "name": "python",
   "nbconvert_exporter": "python",
   "pygments_lexer": "ipython3",
   "version": "3.5.3"
  }
 },
 "nbformat": 4,
 "nbformat_minor": 2
}
