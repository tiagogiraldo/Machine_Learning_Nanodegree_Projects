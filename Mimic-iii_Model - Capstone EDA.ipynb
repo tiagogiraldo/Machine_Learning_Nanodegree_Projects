{
 "cells": [
  {
   "cell_type": "markdown",
   "metadata": {},
   "source": [
    "## EDA"
   ]
  },
  {
   "cell_type": "markdown",
   "metadata": {},
   "source": [
    "The data source for this analysis is database MIMIC-III  (Medical Information Mart for Intensive Care III) developed by MIT.   The database also provides different kind of records of approximately 49,000 patients admitted to Beth Israel Deaconess Medical Center Intensive Care Unit (ICU) recorded between 2001 and 2012.   The records from this database contain demographic characteristics such as age, gender, religion, language and ethnicity.  In the database are also the records of diagnoses, events and test results, originated by patients during their stay in the ICU."
   ]
  },
  {
   "cell_type": "code",
   "execution_count": 1,
   "metadata": {
    "collapsed": true
   },
   "outputs": [],
   "source": [
    "import numpy as np\n",
    "import pandas as pd\n",
    "import datetime\n",
    "import scipy as sp\n",
    "import seaborn as sns\n",
    "import matplotlib.pyplot as plt\n",
    "%matplotlib inline\n",
    "import psycopg2\n",
    "import time\n",
    "import itertools\n",
    "from pandas.io.sql import read_sql\n",
    "from sklearn import svm\n",
    "from sklearn.model_selection import train_test_split\n",
    "from sklearn.model_selection import cross_val_score\n",
    "from sklearn.model_selection import GridSearchCV\n",
    "from sklearn.preprocessing import PolynomialFeatures\n",
    "from sklearn.metrics import confusion_matrix\n"
   ]
  },
  {
   "cell_type": "markdown",
   "metadata": {},
   "source": [
    "Given the limitations of the hardware, I was forced to restrict the data for the analysis (the detail of how the data selection was made will be explained below).  \n",
    "The intensive care unit is a department of the hospitals where people treat life-threatening and require continuous monitoring of doctors, nurses and specialized equipment to monitor your condition and try to prevent his death .\n",
    "The MIMIC III database used for this study contains the historical records of 58,976 admissions to the ICU of the Beth Israel Deaconess Medical Center between 2001 and 2012.  There were 46,520 people  admitted in total to this ICU during this period.  From this people, there are 1,424 who were admitted several times, but lately they died \n"
   ]
  },
  {
   "cell_type": "code",
   "execution_count": 2,
   "metadata": {},
   "outputs": [
    {
     "name": "stdout",
     "output_type": "stream",
     "text": [
      "3.328125\n"
     ]
    }
   ],
   "source": [
    "conn=psycopg2.connect(\n",
    "    dbname='mimic',\n",
    "    user='postgres',\n",
    "    host='localhost',\n",
    "    port=5432,\n",
    "    password= 123\n",
    ")\n",
    "cur = conn.cursor()\n",
    "process = time.process_time()\n",
    "print (process)"
   ]
  },
  {
   "cell_type": "code",
   "execution_count": 3,
   "metadata": {},
   "outputs": [
    {
     "name": "stdout",
     "output_type": "stream",
     "text": [
      "<class 'pandas.core.frame.DataFrame'>\n",
      "RangeIndex: 829 entries, 0 to 828\n",
      "Data columns (total 5 columns):\n",
      "subject_id              829 non-null int64\n",
      "gender                  829 non-null object\n",
      "hospital_expire_flag    829 non-null int64\n",
      "last_admit_age          829 non-null float64\n",
      "age_group               829 non-null object\n",
      "dtypes: float64(1), int64(2), object(2)\n",
      "memory usage: 32.5+ KB\n",
      "None\n",
      "3.765625\n"
     ]
    }
   ],
   "source": [
    "sql_ea = \"select distinct subject_ID, gender, hospital_expire_flag,last_admit_age, age_group from mimiciii.pneumonia\"\n",
    "\n",
    "patients_ea= read_sql(sql_ea, conn, coerce_float=True, params=None)\n",
    "print (patients_ea.info())\n",
    "process = time.process_time()\n",
    "print (process)"
   ]
  },
  {
   "cell_type": "code",
   "execution_count": 4,
   "metadata": {},
   "outputs": [
    {
     "data": {
      "text/html": [
       "<div>\n",
       "<table border=\"1\" class=\"dataframe\">\n",
       "  <thead>\n",
       "    <tr style=\"text-align: right;\">\n",
       "      <th></th>\n",
       "      <th>subject_id</th>\n",
       "      <th>gender</th>\n",
       "      <th>hospital_expire_flag</th>\n",
       "      <th>last_admit_age</th>\n",
       "      <th>age_group</th>\n",
       "    </tr>\n",
       "  </thead>\n",
       "  <tbody>\n",
       "    <tr>\n",
       "      <th>0</th>\n",
       "      <td>59777</td>\n",
       "      <td>F</td>\n",
       "      <td>0</td>\n",
       "      <td>67.23</td>\n",
       "      <td>elderly</td>\n",
       "    </tr>\n",
       "    <tr>\n",
       "      <th>1</th>\n",
       "      <td>54904</td>\n",
       "      <td>F</td>\n",
       "      <td>0</td>\n",
       "      <td>24.32</td>\n",
       "      <td>adult</td>\n",
       "    </tr>\n",
       "    <tr>\n",
       "      <th>2</th>\n",
       "      <td>59373</td>\n",
       "      <td>M</td>\n",
       "      <td>0</td>\n",
       "      <td>33.77</td>\n",
       "      <td>adult</td>\n",
       "    </tr>\n",
       "    <tr>\n",
       "      <th>3</th>\n",
       "      <td>65176</td>\n",
       "      <td>M</td>\n",
       "      <td>0</td>\n",
       "      <td>35.63</td>\n",
       "      <td>adult</td>\n",
       "    </tr>\n",
       "    <tr>\n",
       "      <th>4</th>\n",
       "      <td>55935</td>\n",
       "      <td>F</td>\n",
       "      <td>1</td>\n",
       "      <td>58.33</td>\n",
       "      <td>adult</td>\n",
       "    </tr>\n",
       "  </tbody>\n",
       "</table>\n",
       "</div>"
      ],
      "text/plain": [
       "   subject_id gender  hospital_expire_flag  last_admit_age age_group\n",
       "0       59777      F                     0           67.23   elderly\n",
       "1       54904      F                     0           24.32     adult\n",
       "2       59373      M                     0           33.77     adult\n",
       "3       65176      M                     0           35.63     adult\n",
       "4       55935      F                     1           58.33     adult"
      ]
     },
     "execution_count": 4,
     "metadata": {},
     "output_type": "execute_result"
    }
   ],
   "source": [
    "patients_ea.head()"
   ]
  },
  {
   "cell_type": "code",
   "execution_count": 5,
   "metadata": {
    "collapsed": true
   },
   "outputs": [],
   "source": [
    "row_index = patients_ea.last_admit_age >= 300\n",
    "patients_ea.loc[row_index , 'last_admit_age' ] = 91.4  #https://mimic.physionet.org/mimictables/patients/"
   ]
  },
  {
   "cell_type": "code",
   "execution_count": 6,
   "metadata": {},
   "outputs": [
    {
     "data": {
      "text/html": [
       "<div>\n",
       "<table border=\"1\" class=\"dataframe\">\n",
       "  <thead>\n",
       "    <tr style=\"text-align: right;\">\n",
       "      <th></th>\n",
       "      <th>subject_id</th>\n",
       "      <th>gender</th>\n",
       "      <th>hospital_expire_flag</th>\n",
       "      <th>last_admit_age</th>\n",
       "      <th>age_group</th>\n",
       "    </tr>\n",
       "  </thead>\n",
       "  <tbody>\n",
       "    <tr>\n",
       "      <th>0</th>\n",
       "      <td>59777</td>\n",
       "      <td>F</td>\n",
       "      <td>0</td>\n",
       "      <td>67.23</td>\n",
       "      <td>elderly</td>\n",
       "    </tr>\n",
       "    <tr>\n",
       "      <th>1</th>\n",
       "      <td>54904</td>\n",
       "      <td>F</td>\n",
       "      <td>0</td>\n",
       "      <td>24.32</td>\n",
       "      <td>adult</td>\n",
       "    </tr>\n",
       "    <tr>\n",
       "      <th>2</th>\n",
       "      <td>59373</td>\n",
       "      <td>M</td>\n",
       "      <td>0</td>\n",
       "      <td>33.77</td>\n",
       "      <td>adult</td>\n",
       "    </tr>\n",
       "    <tr>\n",
       "      <th>3</th>\n",
       "      <td>65176</td>\n",
       "      <td>M</td>\n",
       "      <td>0</td>\n",
       "      <td>35.63</td>\n",
       "      <td>adult</td>\n",
       "    </tr>\n",
       "    <tr>\n",
       "      <th>4</th>\n",
       "      <td>55935</td>\n",
       "      <td>F</td>\n",
       "      <td>1</td>\n",
       "      <td>58.33</td>\n",
       "      <td>adult</td>\n",
       "    </tr>\n",
       "    <tr>\n",
       "      <th>5</th>\n",
       "      <td>1754</td>\n",
       "      <td>F</td>\n",
       "      <td>0</td>\n",
       "      <td>51.13</td>\n",
       "      <td>adult</td>\n",
       "    </tr>\n",
       "    <tr>\n",
       "      <th>6</th>\n",
       "      <td>95280</td>\n",
       "      <td>F</td>\n",
       "      <td>1</td>\n",
       "      <td>85.43</td>\n",
       "      <td>oldest old</td>\n",
       "    </tr>\n",
       "    <tr>\n",
       "      <th>7</th>\n",
       "      <td>83920</td>\n",
       "      <td>F</td>\n",
       "      <td>0</td>\n",
       "      <td>45.71</td>\n",
       "      <td>adult</td>\n",
       "    </tr>\n",
       "    <tr>\n",
       "      <th>8</th>\n",
       "      <td>68235</td>\n",
       "      <td>F</td>\n",
       "      <td>0</td>\n",
       "      <td>53.26</td>\n",
       "      <td>adult</td>\n",
       "    </tr>\n",
       "    <tr>\n",
       "      <th>9</th>\n",
       "      <td>72107</td>\n",
       "      <td>M</td>\n",
       "      <td>0</td>\n",
       "      <td>83.42</td>\n",
       "      <td>elderly</td>\n",
       "    </tr>\n",
       "    <tr>\n",
       "      <th>10</th>\n",
       "      <td>83643</td>\n",
       "      <td>F</td>\n",
       "      <td>0</td>\n",
       "      <td>91.40</td>\n",
       "      <td>oldest old</td>\n",
       "    </tr>\n",
       "    <tr>\n",
       "      <th>11</th>\n",
       "      <td>88953</td>\n",
       "      <td>M</td>\n",
       "      <td>0</td>\n",
       "      <td>43.38</td>\n",
       "      <td>adult</td>\n",
       "    </tr>\n",
       "    <tr>\n",
       "      <th>12</th>\n",
       "      <td>43150</td>\n",
       "      <td>F</td>\n",
       "      <td>0</td>\n",
       "      <td>61.66</td>\n",
       "      <td>adult</td>\n",
       "    </tr>\n",
       "    <tr>\n",
       "      <th>13</th>\n",
       "      <td>71059</td>\n",
       "      <td>M</td>\n",
       "      <td>0</td>\n",
       "      <td>53.48</td>\n",
       "      <td>adult</td>\n",
       "    </tr>\n",
       "    <tr>\n",
       "      <th>14</th>\n",
       "      <td>40013</td>\n",
       "      <td>F</td>\n",
       "      <td>0</td>\n",
       "      <td>59.39</td>\n",
       "      <td>adult</td>\n",
       "    </tr>\n",
       "    <tr>\n",
       "      <th>15</th>\n",
       "      <td>71837</td>\n",
       "      <td>F</td>\n",
       "      <td>1</td>\n",
       "      <td>75.54</td>\n",
       "      <td>elderly</td>\n",
       "    </tr>\n",
       "    <tr>\n",
       "      <th>16</th>\n",
       "      <td>69649</td>\n",
       "      <td>M</td>\n",
       "      <td>0</td>\n",
       "      <td>46.73</td>\n",
       "      <td>adult</td>\n",
       "    </tr>\n",
       "    <tr>\n",
       "      <th>17</th>\n",
       "      <td>94057</td>\n",
       "      <td>M</td>\n",
       "      <td>1</td>\n",
       "      <td>85.60</td>\n",
       "      <td>oldest old</td>\n",
       "    </tr>\n",
       "    <tr>\n",
       "      <th>18</th>\n",
       "      <td>64929</td>\n",
       "      <td>M</td>\n",
       "      <td>0</td>\n",
       "      <td>40.35</td>\n",
       "      <td>adult</td>\n",
       "    </tr>\n",
       "    <tr>\n",
       "      <th>19</th>\n",
       "      <td>64101</td>\n",
       "      <td>F</td>\n",
       "      <td>0</td>\n",
       "      <td>56.76</td>\n",
       "      <td>adult</td>\n",
       "    </tr>\n",
       "    <tr>\n",
       "      <th>20</th>\n",
       "      <td>72455</td>\n",
       "      <td>M</td>\n",
       "      <td>0</td>\n",
       "      <td>51.48</td>\n",
       "      <td>adult</td>\n",
       "    </tr>\n",
       "    <tr>\n",
       "      <th>21</th>\n",
       "      <td>76896</td>\n",
       "      <td>F</td>\n",
       "      <td>1</td>\n",
       "      <td>76.72</td>\n",
       "      <td>elderly</td>\n",
       "    </tr>\n",
       "    <tr>\n",
       "      <th>22</th>\n",
       "      <td>79894</td>\n",
       "      <td>M</td>\n",
       "      <td>1</td>\n",
       "      <td>68.66</td>\n",
       "      <td>elderly</td>\n",
       "    </tr>\n",
       "    <tr>\n",
       "      <th>23</th>\n",
       "      <td>1003</td>\n",
       "      <td>M</td>\n",
       "      <td>0</td>\n",
       "      <td>20.79</td>\n",
       "      <td>adult</td>\n",
       "    </tr>\n",
       "    <tr>\n",
       "      <th>24</th>\n",
       "      <td>63935</td>\n",
       "      <td>M</td>\n",
       "      <td>1</td>\n",
       "      <td>75.41</td>\n",
       "      <td>elderly</td>\n",
       "    </tr>\n",
       "    <tr>\n",
       "      <th>25</th>\n",
       "      <td>69548</td>\n",
       "      <td>M</td>\n",
       "      <td>0</td>\n",
       "      <td>81.42</td>\n",
       "      <td>elderly</td>\n",
       "    </tr>\n",
       "    <tr>\n",
       "      <th>26</th>\n",
       "      <td>46656</td>\n",
       "      <td>M</td>\n",
       "      <td>0</td>\n",
       "      <td>64.88</td>\n",
       "      <td>adult</td>\n",
       "    </tr>\n",
       "    <tr>\n",
       "      <th>27</th>\n",
       "      <td>78518</td>\n",
       "      <td>F</td>\n",
       "      <td>0</td>\n",
       "      <td>79.88</td>\n",
       "      <td>elderly</td>\n",
       "    </tr>\n",
       "    <tr>\n",
       "      <th>28</th>\n",
       "      <td>55849</td>\n",
       "      <td>M</td>\n",
       "      <td>0</td>\n",
       "      <td>86.49</td>\n",
       "      <td>oldest old</td>\n",
       "    </tr>\n",
       "    <tr>\n",
       "      <th>29</th>\n",
       "      <td>4527</td>\n",
       "      <td>M</td>\n",
       "      <td>1</td>\n",
       "      <td>56.91</td>\n",
       "      <td>adult</td>\n",
       "    </tr>\n",
       "  </tbody>\n",
       "</table>\n",
       "</div>"
      ],
      "text/plain": [
       "    subject_id gender  hospital_expire_flag  last_admit_age   age_group\n",
       "0        59777      F                     0           67.23     elderly\n",
       "1        54904      F                     0           24.32       adult\n",
       "2        59373      M                     0           33.77       adult\n",
       "3        65176      M                     0           35.63       adult\n",
       "4        55935      F                     1           58.33       adult\n",
       "5         1754      F                     0           51.13       adult\n",
       "6        95280      F                     1           85.43  oldest old\n",
       "7        83920      F                     0           45.71       adult\n",
       "8        68235      F                     0           53.26       adult\n",
       "9        72107      M                     0           83.42     elderly\n",
       "10       83643      F                     0           91.40  oldest old\n",
       "11       88953      M                     0           43.38       adult\n",
       "12       43150      F                     0           61.66       adult\n",
       "13       71059      M                     0           53.48       adult\n",
       "14       40013      F                     0           59.39       adult\n",
       "15       71837      F                     1           75.54     elderly\n",
       "16       69649      M                     0           46.73       adult\n",
       "17       94057      M                     1           85.60  oldest old\n",
       "18       64929      M                     0           40.35       adult\n",
       "19       64101      F                     0           56.76       adult\n",
       "20       72455      M                     0           51.48       adult\n",
       "21       76896      F                     1           76.72     elderly\n",
       "22       79894      M                     1           68.66     elderly\n",
       "23        1003      M                     0           20.79       adult\n",
       "24       63935      M                     1           75.41     elderly\n",
       "25       69548      M                     0           81.42     elderly\n",
       "26       46656      M                     0           64.88       adult\n",
       "27       78518      F                     0           79.88     elderly\n",
       "28       55849      M                     0           86.49  oldest old\n",
       "29        4527      M                     1           56.91       adult"
      ]
     },
     "execution_count": 6,
     "metadata": {},
     "output_type": "execute_result"
    }
   ],
   "source": [
    "patients_ea.head(30)"
   ]
  },
  {
   "cell_type": "code",
   "execution_count": 7,
   "metadata": {},
   "outputs": [
    {
     "data": {
      "text/plain": [
       "<matplotlib.axes._subplots.AxesSubplot at 0x2169a41e860>"
      ]
     },
     "execution_count": 7,
     "metadata": {},
     "output_type": "execute_result"
    },
    {
     "data": {
      "image/png": "[encoded data removed]",
      "text/plain": [
       "<matplotlib.figure.Figure at 0x2169a41efd0>"
      ]
     },
     "metadata": {},
     "output_type": "display_data"
    }
   ],
   "source": [
    "patients_ea.age_group.value_counts().plot(kind='bar')"
   ]
  },
  {
   "cell_type": "code",
   "execution_count": 8,
   "metadata": {},
   "outputs": [
    {
     "data": {
      "text/plain": [
       "<matplotlib.axes._subplots.AxesSubplot at 0x2169a813a20>"
      ]
     },
     "execution_count": 8,
     "metadata": {},
     "output_type": "execute_result"
    },
    {
     "data": {
      "image/png": "[encoded data removed]",
      "text/plain": [
       "<matplotlib.figure.Figure at 0x2169a828fd0>"
      ]
     },
     "metadata": {},
     "output_type": "display_data"
    }
   ],
   "source": [
    "gender_tab = pd.crosstab(index = patients_ea[\"gender\"],  # Make a crosstab\n",
    "                              columns=\"age_group\")      # Name the count column\n",
    "\n",
    "gender_tab.plot.bar()"
   ]
  },
  {
   "cell_type": "code",
   "execution_count": 9,
   "metadata": {},
   "outputs": [
    {
     "name": "stdout",
     "output_type": "stream",
     "text": [
      "summary col_0\n",
      "age_group    829\n",
      "dtype: int64 \n",
      "\n",
      "shape (2, 1) \n",
      "\n"
     ]
    },
    {
     "data": {
      "text/html": [
       "<div>\n",
       "<table border=\"1\" class=\"dataframe\">\n",
       "  <thead>\n",
       "    <tr style=\"text-align: right;\">\n",
       "      <th>col_0</th>\n",
       "      <th>age_group</th>\n",
       "    </tr>\n",
       "    <tr>\n",
       "      <th>gender</th>\n",
       "      <th></th>\n",
       "    </tr>\n",
       "  </thead>\n",
       "  <tbody>\n",
       "    <tr>\n",
       "      <th>F</th>\n",
       "      <td>346</td>\n",
       "    </tr>\n",
       "    <tr>\n",
       "      <th>M</th>\n",
       "      <td>483</td>\n",
       "    </tr>\n",
       "  </tbody>\n",
       "</table>\n",
       "</div>"
      ],
      "text/plain": [
       "col_0   age_group\n",
       "gender           \n",
       "F             346\n",
       "M             483"
      ]
     },
     "execution_count": 9,
     "metadata": {},
     "output_type": "execute_result"
    }
   ],
   "source": [
    "print ('summary', gender_tab.sum(), \"\\n\")   # Sum the counts\n",
    "\n",
    "print ('shape', gender_tab.shape, \"\\n\")   # Check number of rows and cols\n",
    "\n",
    "gender_tab.iloc[:]          # Slice rows 1-6"
   ]
  },
  {
   "cell_type": "code",
   "execution_count": 10,
   "metadata": {},
   "outputs": [
    {
     "data": {
      "text/html": [
       "<div>\n",
       "<table border=\"1\" class=\"dataframe\">\n",
       "  <thead>\n",
       "    <tr style=\"text-align: right;\">\n",
       "      <th>col_0</th>\n",
       "      <th>age_group</th>\n",
       "    </tr>\n",
       "    <tr>\n",
       "      <th>gender</th>\n",
       "      <th></th>\n",
       "    </tr>\n",
       "  </thead>\n",
       "  <tbody>\n",
       "    <tr>\n",
       "      <th>F</th>\n",
       "      <td>0.41737</td>\n",
       "    </tr>\n",
       "    <tr>\n",
       "      <th>M</th>\n",
       "      <td>0.58263</td>\n",
       "    </tr>\n",
       "  </tbody>\n",
       "</table>\n",
       "</div>"
      ],
      "text/plain": [
       "col_0   age_group\n",
       "gender           \n",
       "F         0.41737\n",
       "M         0.58263"
      ]
     },
     "execution_count": 10,
     "metadata": {},
     "output_type": "execute_result"
    }
   ],
   "source": [
    "gender_tab/gender_tab.sum()"
   ]
  },
  {
   "cell_type": "code",
   "execution_count": 11,
   "metadata": {},
   "outputs": [
    {
     "data": {
      "text/plain": [
       "<matplotlib.axes._subplots.AxesSubplot at 0x2169a8ef208>"
      ]
     },
     "execution_count": 11,
     "metadata": {},
     "output_type": "execute_result"
    },
    {
     "data": {
      "image/png": "[encoded data removed]",
      "text/plain": [
       "<matplotlib.figure.Figure at 0x2169a91c9b0>"
      ]
     },
     "metadata": {},
     "output_type": "display_data"
    }
   ],
   "source": [
    "desease_tab = pd.crosstab(index = patients_ea[\"hospital_expire_flag\"],  # Make a crosstab\n",
    "                              columns=\"age_group\")      # Name the count column\n",
    "\n",
    "desease_tab.plot.bar()"
   ]
  },
  {
   "cell_type": "code",
   "execution_count": 12,
   "metadata": {},
   "outputs": [
    {
     "name": "stdout",
     "output_type": "stream",
     "text": [
      "summary col_0\n",
      "age_group    829\n",
      "dtype: int64 \n",
      "\n",
      "shape (2, 1) \n",
      "\n"
     ]
    },
    {
     "data": {
      "text/html": [
       "<div>\n",
       "<table border=\"1\" class=\"dataframe\">\n",
       "  <thead>\n",
       "    <tr style=\"text-align: right;\">\n",
       "      <th>col_0</th>\n",
       "      <th>age_group</th>\n",
       "    </tr>\n",
       "    <tr>\n",
       "      <th>hospital_expire_flag</th>\n",
       "      <th></th>\n",
       "    </tr>\n",
       "  </thead>\n",
       "  <tbody>\n",
       "    <tr>\n",
       "      <th>0</th>\n",
       "      <td>603</td>\n",
       "    </tr>\n",
       "    <tr>\n",
       "      <th>1</th>\n",
       "      <td>226</td>\n",
       "    </tr>\n",
       "  </tbody>\n",
       "</table>\n",
       "</div>"
      ],
      "text/plain": [
       "col_0                 age_group\n",
       "hospital_expire_flag           \n",
       "0                           603\n",
       "1                           226"
      ]
     },
     "execution_count": 12,
     "metadata": {},
     "output_type": "execute_result"
    }
   ],
   "source": [
    "print ('summary', desease_tab.sum(), \"\\n\")   # Sum the counts\n",
    "\n",
    "print ('shape', desease_tab.shape, \"\\n\")   # Check number of rows and cols\n",
    "\n",
    "desease_tab.iloc[:]    "
   ]
  },
  {
   "cell_type": "code",
   "execution_count": 13,
   "metadata": {},
   "outputs": [
    {
     "data": {
      "text/html": [
       "<div>\n",
       "<table border=\"1\" class=\"dataframe\">\n",
       "  <thead>\n",
       "    <tr style=\"text-align: right;\">\n",
       "      <th>col_0</th>\n",
       "      <th>age_group</th>\n",
       "    </tr>\n",
       "    <tr>\n",
       "      <th>hospital_expire_flag</th>\n",
       "      <th></th>\n",
       "    </tr>\n",
       "  </thead>\n",
       "  <tbody>\n",
       "    <tr>\n",
       "      <th>0</th>\n",
       "      <td>0.727382</td>\n",
       "    </tr>\n",
       "    <tr>\n",
       "      <th>1</th>\n",
       "      <td>0.272618</td>\n",
       "    </tr>\n",
       "  </tbody>\n",
       "</table>\n",
       "</div>"
      ],
      "text/plain": [
       "col_0                 age_group\n",
       "hospital_expire_flag           \n",
       "0                      0.727382\n",
       "1                      0.272618"
      ]
     },
     "execution_count": 13,
     "metadata": {},
     "output_type": "execute_result"
    }
   ],
   "source": [
    "desease_tab/desease_tab.sum()"
   ]
  },
  {
   "cell_type": "code",
   "execution_count": 14,
   "metadata": {},
   "outputs": [
    {
     "data": {
      "text/plain": [
       "<matplotlib.axes._subplots.AxesSubplot at 0x2169a934eb8>"
      ]
     },
     "execution_count": 14,
     "metadata": {},
     "output_type": "execute_result"
    },
    {
     "data": {
      "image/png": "[encoded data removed]",
      "text/plain": [
       "<matplotlib.figure.Figure at 0x2169a984da0>"
      ]
     },
     "metadata": {},
     "output_type": "display_data"
    }
   ],
   "source": [
    "age_group_tab = pd.crosstab(index = patients_ea[\"age_group\"],  # Make a crosstab\n",
    "                              columns=\"age_group\")      # Name the count column\n",
    "\n",
    "age_group_tab.plot.bar()"
   ]
  },
  {
   "cell_type": "code",
   "execution_count": 15,
   "metadata": {},
   "outputs": [
    {
     "name": "stdout",
     "output_type": "stream",
     "text": [
      "summary col_0\n",
      "age_group    829\n",
      "dtype: int64 \n",
      "\n",
      "shape (4, 1) \n",
      "\n"
     ]
    },
    {
     "data": {
      "text/html": [
       "<div>\n",
       "<table border=\"1\" class=\"dataframe\">\n",
       "  <thead>\n",
       "    <tr style=\"text-align: right;\">\n",
       "      <th>col_0</th>\n",
       "      <th>age_group</th>\n",
       "    </tr>\n",
       "    <tr>\n",
       "      <th>gender</th>\n",
       "      <th></th>\n",
       "    </tr>\n",
       "  </thead>\n",
       "  <tbody>\n",
       "    <tr>\n",
       "      <th>F</th>\n",
       "      <td>346</td>\n",
       "    </tr>\n",
       "    <tr>\n",
       "      <th>M</th>\n",
       "      <td>483</td>\n",
       "    </tr>\n",
       "  </tbody>\n",
       "</table>\n",
       "</div>"
      ],
      "text/plain": [
       "col_0   age_group\n",
       "gender           \n",
       "F             346\n",
       "M             483"
      ]
     },
     "execution_count": 15,
     "metadata": {},
     "output_type": "execute_result"
    }
   ],
   "source": [
    "print ('summary', age_group_tab.sum(), \"\\n\")   # Sum the counts\n",
    "\n",
    "print ('shape', age_group_tab.shape, \"\\n\")   # Check number of rows and cols\n",
    "\n",
    "gender_tab.iloc[:]          # Slice rows 1-6"
   ]
  },
  {
   "cell_type": "code",
   "execution_count": 16,
   "metadata": {},
   "outputs": [
    {
     "data": {
      "text/html": [
       "<div>\n",
       "<table border=\"1\" class=\"dataframe\">\n",
       "  <thead>\n",
       "    <tr style=\"text-align: right;\">\n",
       "      <th>col_0</th>\n",
       "      <th>age_group</th>\n",
       "    </tr>\n",
       "    <tr>\n",
       "      <th>age_group</th>\n",
       "      <th></th>\n",
       "    </tr>\n",
       "  </thead>\n",
       "  <tbody>\n",
       "    <tr>\n",
       "      <th>adult</th>\n",
       "      <td>386</td>\n",
       "    </tr>\n",
       "    <tr>\n",
       "      <th>elderly</th>\n",
       "      <td>356</td>\n",
       "    </tr>\n",
       "    <tr>\n",
       "      <th>neonate</th>\n",
       "      <td>3</td>\n",
       "    </tr>\n",
       "    <tr>\n",
       "      <th>oldest old</th>\n",
       "      <td>84</td>\n",
       "    </tr>\n",
       "  </tbody>\n",
       "</table>\n",
       "</div>"
      ],
      "text/plain": [
       "col_0       age_group\n",
       "age_group            \n",
       "adult             386\n",
       "elderly           356\n",
       "neonate             3\n",
       "oldest old         84"
      ]
     },
     "execution_count": 16,
     "metadata": {},
     "output_type": "execute_result"
    }
   ],
   "source": [
    "age_group_tab"
   ]
  },
  {
   "cell_type": "code",
   "execution_count": 17,
   "metadata": {},
   "outputs": [
    {
     "data": {
      "text/html": [
       "<div>\n",
       "<table border=\"1\" class=\"dataframe\">\n",
       "  <thead>\n",
       "    <tr style=\"text-align: right;\">\n",
       "      <th>col_0</th>\n",
       "      <th>age_group</th>\n",
       "    </tr>\n",
       "    <tr>\n",
       "      <th>age_group</th>\n",
       "      <th></th>\n",
       "    </tr>\n",
       "  </thead>\n",
       "  <tbody>\n",
       "    <tr>\n",
       "      <th>adult</th>\n",
       "      <td>0.465621</td>\n",
       "    </tr>\n",
       "    <tr>\n",
       "      <th>elderly</th>\n",
       "      <td>0.429433</td>\n",
       "    </tr>\n",
       "    <tr>\n",
       "      <th>neonate</th>\n",
       "      <td>0.003619</td>\n",
       "    </tr>\n",
       "    <tr>\n",
       "      <th>oldest old</th>\n",
       "      <td>0.101327</td>\n",
       "    </tr>\n",
       "  </tbody>\n",
       "</table>\n",
       "</div>"
      ],
      "text/plain": [
       "col_0       age_group\n",
       "age_group            \n",
       "adult        0.465621\n",
       "elderly      0.429433\n",
       "neonate      0.003619\n",
       "oldest old   0.101327"
      ]
     },
     "execution_count": 17,
     "metadata": {},
     "output_type": "execute_result"
    }
   ],
   "source": [
    "\n",
    "age_group_tab/age_group_tab.sum()"
   ]
  },
  {
   "cell_type": "code",
   "execution_count": 18,
   "metadata": {},
   "outputs": [
    {
     "data": {
      "text/html": [
       "<div>\n",
       "<table border=\"1\" class=\"dataframe\">\n",
       "  <thead>\n",
       "    <tr style=\"text-align: right;\">\n",
       "      <th></th>\n",
       "      <th>subject_id</th>\n",
       "      <th>gender</th>\n",
       "      <th>hospital_expire_flag</th>\n",
       "      <th>last_admit_age</th>\n",
       "      <th>age_group</th>\n",
       "    </tr>\n",
       "  </thead>\n",
       "  <tbody>\n",
       "  </tbody>\n",
       "</table>\n",
       "</div>"
      ],
      "text/plain": [
       "Empty DataFrame\n",
       "Columns: [subject_id, gender, hospital_expire_flag, last_admit_age, age_group]\n",
       "Index: []"
      ]
     },
     "execution_count": 18,
     "metadata": {},
     "output_type": "execute_result"
    }
   ],
   "source": [
    "patients_ea.query('last_admit_age > 0  and last_admit_age <= 18') "
   ]
  },
  {
   "cell_type": "code",
   "execution_count": 19,
   "metadata": {},
   "outputs": [
    {
     "data": {
      "text/html": [
       "<div>\n",
       "<table border=\"1\" class=\"dataframe\">\n",
       "  <thead>\n",
       "    <tr style=\"text-align: right;\">\n",
       "      <th></th>\n",
       "      <th>subject_id</th>\n",
       "      <th>gender</th>\n",
       "      <th>hospital_expire_flag</th>\n",
       "      <th>last_admit_age</th>\n",
       "      <th>age_group</th>\n",
       "    </tr>\n",
       "  </thead>\n",
       "  <tbody>\n",
       "    <tr>\n",
       "      <th>23</th>\n",
       "      <td>1003</td>\n",
       "      <td>M</td>\n",
       "      <td>0</td>\n",
       "      <td>20.79</td>\n",
       "      <td>adult</td>\n",
       "    </tr>\n",
       "    <tr>\n",
       "      <th>55</th>\n",
       "      <td>87119</td>\n",
       "      <td>M</td>\n",
       "      <td>0</td>\n",
       "      <td>19.64</td>\n",
       "      <td>adult</td>\n",
       "    </tr>\n",
       "    <tr>\n",
       "      <th>119</th>\n",
       "      <td>3158</td>\n",
       "      <td>M</td>\n",
       "      <td>0</td>\n",
       "      <td>20.10</td>\n",
       "      <td>adult</td>\n",
       "    </tr>\n",
       "    <tr>\n",
       "      <th>216</th>\n",
       "      <td>47591</td>\n",
       "      <td>M</td>\n",
       "      <td>0</td>\n",
       "      <td>18.48</td>\n",
       "      <td>adult</td>\n",
       "    </tr>\n",
       "    <tr>\n",
       "      <th>325</th>\n",
       "      <td>60139</td>\n",
       "      <td>F</td>\n",
       "      <td>0</td>\n",
       "      <td>19.64</td>\n",
       "      <td>adult</td>\n",
       "    </tr>\n",
       "    <tr>\n",
       "      <th>411</th>\n",
       "      <td>2111</td>\n",
       "      <td>M</td>\n",
       "      <td>0</td>\n",
       "      <td>18.95</td>\n",
       "      <td>adult</td>\n",
       "    </tr>\n",
       "    <tr>\n",
       "      <th>558</th>\n",
       "      <td>2317</td>\n",
       "      <td>M</td>\n",
       "      <td>0</td>\n",
       "      <td>20.64</td>\n",
       "      <td>adult</td>\n",
       "    </tr>\n",
       "    <tr>\n",
       "      <th>594</th>\n",
       "      <td>5881</td>\n",
       "      <td>F</td>\n",
       "      <td>0</td>\n",
       "      <td>19.68</td>\n",
       "      <td>adult</td>\n",
       "    </tr>\n",
       "    <tr>\n",
       "      <th>603</th>\n",
       "      <td>96562</td>\n",
       "      <td>M</td>\n",
       "      <td>0</td>\n",
       "      <td>19.17</td>\n",
       "      <td>adult</td>\n",
       "    </tr>\n",
       "    <tr>\n",
       "      <th>769</th>\n",
       "      <td>82309</td>\n",
       "      <td>M</td>\n",
       "      <td>0</td>\n",
       "      <td>20.66</td>\n",
       "      <td>adult</td>\n",
       "    </tr>\n",
       "    <tr>\n",
       "      <th>799</th>\n",
       "      <td>54923</td>\n",
       "      <td>M</td>\n",
       "      <td>0</td>\n",
       "      <td>19.04</td>\n",
       "      <td>adult</td>\n",
       "    </tr>\n",
       "  </tbody>\n",
       "</table>\n",
       "</div>"
      ],
      "text/plain": [
       "     subject_id gender  hospital_expire_flag  last_admit_age age_group\n",
       "23         1003      M                     0           20.79     adult\n",
       "55        87119      M                     0           19.64     adult\n",
       "119        3158      M                     0           20.10     adult\n",
       "216       47591      M                     0           18.48     adult\n",
       "325       60139      F                     0           19.64     adult\n",
       "411        2111      M                     0           18.95     adult\n",
       "558        2317      M                     0           20.64     adult\n",
       "594        5881      F                     0           19.68     adult\n",
       "603       96562      M                     0           19.17     adult\n",
       "769       82309      M                     0           20.66     adult\n",
       "799       54923      M                     0           19.04     adult"
      ]
     },
     "execution_count": 19,
     "metadata": {},
     "output_type": "execute_result"
    }
   ],
   "source": [
    "patients_ea.query('last_admit_age > 18  and last_admit_age <= 21') "
   ]
  },
  {
   "cell_type": "code",
   "execution_count": 20,
   "metadata": {},
   "outputs": [
    {
     "data": {
      "text/plain": [
       "subject_id              11\n",
       "gender                  11\n",
       "hospital_expire_flag    11\n",
       "last_admit_age          11\n",
       "age_group               11\n",
       "dtype: int64"
      ]
     },
     "execution_count": 20,
     "metadata": {},
     "output_type": "execute_result"
    }
   ],
   "source": [
    "patients_ea.query('last_admit_age > 18  and last_admit_age <= 21').count()"
   ]
  },
  {
   "cell_type": "code",
   "execution_count": 21,
   "metadata": {},
   "outputs": [
    {
     "data": {
      "text/plain": [
       "subject_id              0\n",
       "gender                  0\n",
       "hospital_expire_flag    0\n",
       "last_admit_age          0\n",
       "age_group               0\n",
       "dtype: int64"
      ]
     },
     "execution_count": 21,
     "metadata": {},
     "output_type": "execute_result"
    }
   ],
   "source": [
    "patients_ea.query('last_admit_age > 0  and last_admit_age <= 18') .count()"
   ]
  },
  {
   "cell_type": "code",
   "execution_count": 22,
   "metadata": {
    "collapsed": true
   },
   "outputs": [],
   "source": [
    "patients_ea[\"gender\"] = patients_ea[\"gender\"] .astype('category')\n",
    "patients_ea[\"age_group\"] = patients_ea[\"age_group\"] .astype('category')\n",
    "patients_ea[\"hospital_expire_flag\"] = patients_ea[\"hospital_expire_flag\"] .astype('category')"
   ]
  },
  {
   "cell_type": "code",
   "execution_count": 23,
   "metadata": {},
   "outputs": [
    {
     "data": {
      "text/plain": [
       "<matplotlib.axes._subplots.AxesSubplot at 0x2169aa084a8>"
      ]
     },
     "execution_count": 23,
     "metadata": {},
     "output_type": "execute_result"
    },
    {
     "data": {
      "image/png": "[encoded data removed]",
      "text/plain": [
       "<matplotlib.figure.Figure at 0x2169a9bd240>"
      ]
     },
     "metadata": {},
     "output_type": "display_data"
    }
   ],
   "source": [
    "patients_ea.gender.value_counts().plot(kind='bar')"
   ]
  },
  {
   "cell_type": "code",
   "execution_count": 24,
   "metadata": {},
   "outputs": [
    {
     "data": {
      "text/plain": [
       "M    483\n",
       "F    346\n",
       "Name: gender, dtype: int64"
      ]
     },
     "execution_count": 24,
     "metadata": {},
     "output_type": "execute_result"
    }
   ],
   "source": [
    "patients_ea.gender.value_counts()"
   ]
  },
  {
   "cell_type": "code",
   "execution_count": 25,
   "metadata": {},
   "outputs": [
    {
     "name": "stdout",
     "output_type": "stream",
     "text": [
      "Masculine % 58.26296743063932 %\n",
      "\n",
      "Femenine % 41.73703256936068 %\n",
      "\n"
     ]
    }
   ],
   "source": [
    "n_sample = patients_ea.subject_id.count() \n",
    "\n",
    "Masculine, Femenine = patients_ea.gender.value_counts()\n",
    "print ('Masculine % {0} %\\n'.format(Masculine / n_sample * 100.00))\n",
    "print ('Femenine % {0} %\\n'.format(Femenine / n_sample * 100.00))"
   ]
  },
  {
   "cell_type": "code",
   "execution_count": 26,
   "metadata": {},
   "outputs": [
    {
     "data": {
      "text/plain": [
       "<matplotlib.axes._subplots.AxesSubplot at 0x2169aa9dda0>"
      ]
     },
     "execution_count": 26,
     "metadata": {},
     "output_type": "execute_result"
    },
    {
     "data": {
      "image/png": "[encoded data removed]",
      "text/plain": [
       "<matplotlib.figure.Figure at 0x2169aaab630>"
      ]
     },
     "metadata": {},
     "output_type": "display_data"
    }
   ],
   "source": [
    "patients_ea.hospital_expire_flag.value_counts().plot(kind='bar')"
   ]
  },
  {
   "cell_type": "code",
   "execution_count": 27,
   "metadata": {},
   "outputs": [
    {
     "data": {
      "text/plain": [
       "<matplotlib.axes._subplots.AxesSubplot at 0x2169ab07160>"
      ]
     },
     "execution_count": 27,
     "metadata": {},
     "output_type": "execute_result"
    },
    {
     "data": {
      "image/png": "[encoded data removed]",
      "text/plain": [
       "<matplotlib.figure.Figure at 0x2169ab0d8d0>"
      ]
     },
     "metadata": {},
     "output_type": "display_data"
    }
   ],
   "source": [
    "patients_ea['last_admit_age'].plot.box()"
   ]
  },
  {
   "cell_type": "code",
   "execution_count": 28,
   "metadata": {},
   "outputs": [
    {
     "data": {
      "text/plain": [
       "count    829.000000\n",
       "mean      64.200651\n",
       "std       17.736999\n",
       "min        0.000000\n",
       "25%       53.110000\n",
       "50%       66.550000\n",
       "75%       78.210000\n",
       "max       91.400000\n",
       "Name: last_admit_age, dtype: float64"
      ]
     },
     "execution_count": 28,
     "metadata": {},
     "output_type": "execute_result"
    }
   ],
   "source": [
    "patients_ea['last_admit_age'].describe()"
   ]
  },
  {
   "cell_type": "code",
   "execution_count": 29,
   "metadata": {},
   "outputs": [
    {
     "data": {
      "image/png": "[encoded data removed]",
      "text/plain": [
       "<matplotlib.figure.Figure at 0x2169ab2d828>"
      ]
     },
     "metadata": {},
     "output_type": "display_data"
    }
   ],
   "source": [
    "H,X1 = np.histogram( patients_ea['last_admit_age'], bins = 5, normed = True )\n",
    "dx = X1[1] - X1[0]\n",
    "F1 = np.cumsum(H)*dx\n",
    "\n",
    "\n",
    "plt.plot(X1[1:], F1)\n",
    "plt.show()"
   ]
  },
  {
   "cell_type": "code",
   "execution_count": 30,
   "metadata": {},
   "outputs": [
    {
     "data": {
      "image/png": "[encoded data removed]",
      "text/plain": [
       "<matplotlib.figure.Figure at 0x2169bbbbd68>"
      ]
     },
     "metadata": {},
     "output_type": "display_data"
    }
   ],
   "source": [
    "sns.set(style=\"ticks\")\n",
    "\n",
    "x = patients_ea['last_admit_age']\n",
    "\n",
    "f, (ax_box, ax_hist) = plt.subplots(2, sharex=True, \n",
    "                                    gridspec_kw={\"height_ratios\": (.15, .85)})\n",
    "\n",
    "sns.boxplot(x, ax=ax_box)\n",
    "sns.distplot(x, ax=ax_hist)\n",
    "\n",
    "\n",
    "ax_box.set(yticks=[])\n",
    "sns.despine(ax=ax_hist)\n",
    "sns.despine(ax=ax_box, left=True)"
   ]
  },
  {
   "cell_type": "code",
   "execution_count": 31,
   "metadata": {},
   "outputs": [
    {
     "name": "stdout",
     "output_type": "stream",
     "text": [
      "count    829.000000\n",
      "mean      64.200651\n",
      "std       17.736999\n",
      "min        0.000000\n",
      "25%       53.110000\n",
      "50%       66.550000\n",
      "75%       78.210000\n",
      "max       91.400000\n",
      "Name: last_admit_age, dtype: float64\n",
      "Average Age of Patients with Pneumonia 17.7369988668\n",
      "Maximum Age of Patients with Pneumonia 91.4\n",
      "Minimum Age of Patients with Pneumonia  0.0\n",
      "Standard Deviation Age of Patients with Pneumonia  17.7369988668\n"
     ]
    },
    {
     "data": {
      "image/png": "[encoded data removed]",
      "text/plain": [
       "<matplotlib.figure.Figure at 0x2169bd00a58>"
      ]
     },
     "metadata": {},
     "output_type": "display_data"
    },
    {
     "data": {
      "image/png": "[encoded data removed]",
      "text/plain": [
       "<matplotlib.figure.Figure at 0x2169bd5c9b0>"
      ]
     },
     "metadata": {},
     "output_type": "display_data"
    }
   ],
   "source": [
    "plt.subplot(212)\n",
    "H,X1 = np.histogram( patients_ea['last_admit_age'], bins = 10, normed = True )\n",
    "dx = X1[1] - X1[0]\n",
    "F1 = np.cumsum(H)*dx\n",
    "\n",
    "\n",
    "plt.plot(X1[1:], F1)\n",
    "plt.ylabel('Cumulative Percentage [%]')\n",
    "plt.title('Age of Patients with Pneumonia')\n",
    "\n",
    "\n",
    "sns.set(style=\"ticks\")\n",
    "\n",
    "print(x.describe())\n",
    "\n",
    "x = patients_ea['last_admit_age']\n",
    "mean_x = patients_ea['last_admit_age'].mean()\n",
    "max_x = mean_x = patients_ea['last_admit_age'].max()\n",
    "min_x = mean_x = patients_ea['last_admit_age'].min()\n",
    "sd_x = mean_x = patients_ea['last_admit_age'].std()\n",
    "\n",
    "print (\"Average Age of Patients with Pneumonia\", mean_x)\n",
    "print (\"Maximum Age of Patients with Pneumonia\", max_x)\n",
    "print (\"Minimum Age of Patients with Pneumonia \", min_x)\n",
    "print (\"Standard Deviation Age of Patients with Pneumonia \", sd_x)\n",
    "\n",
    "f, (ax_box, ax_hist) = plt.subplots(2, sharex=True, \n",
    "                                    gridspec_kw={\"height_ratios\": (.15, .85)})\n",
    "\n",
    "sns.boxplot(x, ax=ax_box)\n",
    "sns.distplot(x, ax=ax_hist)\n",
    "\n",
    "ax_box.set(yticks=[])\n",
    "sns.despine(ax=ax_hist)\n",
    "sns.despine(ax=ax_box, left=True)\n",
    "plt.show()"
   ]
  },
  {
   "cell_type": "markdown",
   "metadata": {},
   "source": [
    "The adult population is 46.6% or 386 persons, followed by elderly group which has 42.9% or 356 and oldest old group with 10.1% or 84 persons, and as I said above, the middle group doesn’t have any person, and the neonate population is represented by 0.4% or 3 persons.   The sample consists of 42% women and 58% men, it is 346 and 483 persons respectively.   \n",
    "\n",
    "The sample has a mean of 64.20 years and a standard deviation of 17.74 years, where the 75% has more than 53 years, this is showing more vulnerable population with pneumonia in ICU is a middle age person or older.  The above empirical distribution is showing a negative asymmetry with shape skewed to left side"
   ]
  },
  {
   "cell_type": "code",
   "execution_count": 32,
   "metadata": {},
   "outputs": [
    {
     "data": {
      "image/png": "[encoded data removed]",
      "text/plain": [
       "<matplotlib.figure.Figure at 0x2169bccd5f8>"
      ]
     },
     "metadata": {},
     "output_type": "display_data"
    },
    {
     "data": {
      "image/png": "[encoded data removed]",
      "text/plain": [
       "<matplotlib.figure.Figure at 0x2169bd00b38>"
      ]
     },
     "metadata": {},
     "output_type": "display_data"
    }
   ],
   "source": [
    "plt.subplot(211)\n",
    "H,X1 = np.histogram( patients_ea['last_admit_age'], bins = 5, normed = True )\n",
    "dx = X1[1] - X1[0]\n",
    "F1 = np.cumsum(H)*dx\n",
    "\n",
    "\n",
    "plt.plot(X1[1:], F1)\n",
    "plt.ylabel('Cumulative Percentage [%]')\n",
    "plt.title('Patients With Pneumonia Age Cumulative Distribution')\n",
    "\n",
    "\n",
    "sns.set(style=\"ticks\")\n",
    "\n",
    "x = patients_ea['last_admit_age']\n",
    "\n",
    "f, (ax_box, ax_hist) = plt.subplots(2, sharex=True, \n",
    "                                    gridspec_kw={\"height_ratios\": (.2, .85)})\n",
    "\n",
    "plt.suptitle('Age Of Patients With Pneumonia Boxplot & Distribution')\n",
    "plt.ylabel('Percentage [%]')\n",
    "\n",
    "\n",
    "sns.boxplot(x, ax=ax_box).set_title('Age Of Patients With Pneumonia Boxplot')\n",
    "sns.distplot(x, ax=ax_hist).set_title('Age Of Patients With Pneumonia Empiric Distribution')\n",
    "\n",
    "\n",
    "sns.despine(ax=ax_hist)\n",
    "sns.despine(ax=ax_box, left=True)\n",
    "\n",
    "\n",
    "plt.show()"
   ]
  },
  {
   "cell_type": "code",
   "execution_count": 33,
   "metadata": {},
   "outputs": [
    {
     "data": {
      "image/png": "[encoded data removed]",
      "text/plain": [
       "<matplotlib.figure.Figure at 0x2169a98f9b0>"
      ]
     },
     "metadata": {},
     "output_type": "display_data"
    }
   ],
   "source": [
    "p_map = {'M':0,'F':1}\n",
    "\n",
    "patients_map = patients_ea.applymap(lambda s: p_map.get(s) if s in p_map else s)\n",
    "\n",
    "sns.jointplot(x=\"gender\", y=\"last_admit_age\", data=patients_map, kind=\"kde\");"
   ]
  },
  {
   "cell_type": "code",
   "execution_count": 34,
   "metadata": {},
   "outputs": [
    {
     "data": {
      "image/png": "[encoded data removed]",
      "text/plain": [
       "<matplotlib.figure.Figure at 0x2169be70f98>"
      ]
     },
     "metadata": {},
     "output_type": "display_data"
    }
   ],
   "source": [
    "sns.jointplot(x=\"hospital_expire_flag\", y=\"last_admit_age\", data=patients_map, kind=\"kde\");"
   ]
  },
  {
   "cell_type": "markdown",
   "metadata": {},
   "source": [
    "the bivariate distributions between age (last_admit_age) and gender, and age (last_admit_age) and decease (hospital_expire_flag).  The left graph, show the gender distribution (Masculine = 0, Feminine = 1) vs. age. This graph shows a higher dispersion in men, and higher concentration in women, it is interesting, is that men are more prone to acquire acute pneumonia being admitted the ICU.   The following graph shows the relationship between age and deaths (Alive = 0, Deceased = 1), showing a similar distribution, but in this case the people most likely to die in the ICU are those who are in the elderly group.\n",
    "\n",
    "The neonate group of patients has no deaths in this sample, all of deaths in this sample are more related to adult people, with higher concentration in people that are 60 years or older.  This relationship must be collected by the model given the assumptions formulated by the hypothesis."
   ]
  },
  {
   "cell_type": "code",
   "execution_count": 35,
   "metadata": {},
   "outputs": [
    {
     "data": {
      "text/html": [
       "<div>\n",
       "<table border=\"1\" class=\"dataframe\">\n",
       "  <thead>\n",
       "    <tr style=\"text-align: right;\">\n",
       "      <th></th>\n",
       "      <th>subject_id</th>\n",
       "      <th>gender</th>\n",
       "      <th>hospital_expire_flag</th>\n",
       "      <th>last_admit_age</th>\n",
       "      <th>age_group</th>\n",
       "      <th>Quantity</th>\n",
       "    </tr>\n",
       "  </thead>\n",
       "  <tbody>\n",
       "    <tr>\n",
       "      <th>0</th>\n",
       "      <td>59777</td>\n",
       "      <td>F</td>\n",
       "      <td>0</td>\n",
       "      <td>67.23</td>\n",
       "      <td>elderly</td>\n",
       "      <td>1</td>\n",
       "    </tr>\n",
       "    <tr>\n",
       "      <th>1</th>\n",
       "      <td>54904</td>\n",
       "      <td>F</td>\n",
       "      <td>0</td>\n",
       "      <td>24.32</td>\n",
       "      <td>adult</td>\n",
       "      <td>1</td>\n",
       "    </tr>\n",
       "    <tr>\n",
       "      <th>2</th>\n",
       "      <td>59373</td>\n",
       "      <td>M</td>\n",
       "      <td>0</td>\n",
       "      <td>33.77</td>\n",
       "      <td>adult</td>\n",
       "      <td>1</td>\n",
       "    </tr>\n",
       "    <tr>\n",
       "      <th>3</th>\n",
       "      <td>65176</td>\n",
       "      <td>M</td>\n",
       "      <td>0</td>\n",
       "      <td>35.63</td>\n",
       "      <td>adult</td>\n",
       "      <td>1</td>\n",
       "    </tr>\n",
       "    <tr>\n",
       "      <th>4</th>\n",
       "      <td>55935</td>\n",
       "      <td>F</td>\n",
       "      <td>1</td>\n",
       "      <td>58.33</td>\n",
       "      <td>adult</td>\n",
       "      <td>1</td>\n",
       "    </tr>\n",
       "    <tr>\n",
       "      <th>5</th>\n",
       "      <td>1754</td>\n",
       "      <td>F</td>\n",
       "      <td>0</td>\n",
       "      <td>51.13</td>\n",
       "      <td>adult</td>\n",
       "      <td>1</td>\n",
       "    </tr>\n",
       "    <tr>\n",
       "      <th>6</th>\n",
       "      <td>95280</td>\n",
       "      <td>F</td>\n",
       "      <td>1</td>\n",
       "      <td>85.43</td>\n",
       "      <td>oldest old</td>\n",
       "      <td>1</td>\n",
       "    </tr>\n",
       "    <tr>\n",
       "      <th>7</th>\n",
       "      <td>83920</td>\n",
       "      <td>F</td>\n",
       "      <td>0</td>\n",
       "      <td>45.71</td>\n",
       "      <td>adult</td>\n",
       "      <td>1</td>\n",
       "    </tr>\n",
       "    <tr>\n",
       "      <th>8</th>\n",
       "      <td>68235</td>\n",
       "      <td>F</td>\n",
       "      <td>0</td>\n",
       "      <td>53.26</td>\n",
       "      <td>adult</td>\n",
       "      <td>1</td>\n",
       "    </tr>\n",
       "    <tr>\n",
       "      <th>9</th>\n",
       "      <td>72107</td>\n",
       "      <td>M</td>\n",
       "      <td>0</td>\n",
       "      <td>83.42</td>\n",
       "      <td>elderly</td>\n",
       "      <td>1</td>\n",
       "    </tr>\n",
       "    <tr>\n",
       "      <th>10</th>\n",
       "      <td>83643</td>\n",
       "      <td>F</td>\n",
       "      <td>0</td>\n",
       "      <td>91.40</td>\n",
       "      <td>oldest old</td>\n",
       "      <td>1</td>\n",
       "    </tr>\n",
       "    <tr>\n",
       "      <th>11</th>\n",
       "      <td>88953</td>\n",
       "      <td>M</td>\n",
       "      <td>0</td>\n",
       "      <td>43.38</td>\n",
       "      <td>adult</td>\n",
       "      <td>1</td>\n",
       "    </tr>\n",
       "    <tr>\n",
       "      <th>12</th>\n",
       "      <td>43150</td>\n",
       "      <td>F</td>\n",
       "      <td>0</td>\n",
       "      <td>61.66</td>\n",
       "      <td>adult</td>\n",
       "      <td>1</td>\n",
       "    </tr>\n",
       "    <tr>\n",
       "      <th>13</th>\n",
       "      <td>71059</td>\n",
       "      <td>M</td>\n",
       "      <td>0</td>\n",
       "      <td>53.48</td>\n",
       "      <td>adult</td>\n",
       "      <td>1</td>\n",
       "    </tr>\n",
       "    <tr>\n",
       "      <th>14</th>\n",
       "      <td>40013</td>\n",
       "      <td>F</td>\n",
       "      <td>0</td>\n",
       "      <td>59.39</td>\n",
       "      <td>adult</td>\n",
       "      <td>1</td>\n",
       "    </tr>\n",
       "    <tr>\n",
       "      <th>15</th>\n",
       "      <td>71837</td>\n",
       "      <td>F</td>\n",
       "      <td>1</td>\n",
       "      <td>75.54</td>\n",
       "      <td>elderly</td>\n",
       "      <td>1</td>\n",
       "    </tr>\n",
       "    <tr>\n",
       "      <th>16</th>\n",
       "      <td>69649</td>\n",
       "      <td>M</td>\n",
       "      <td>0</td>\n",
       "      <td>46.73</td>\n",
       "      <td>adult</td>\n",
       "      <td>1</td>\n",
       "    </tr>\n",
       "    <tr>\n",
       "      <th>17</th>\n",
       "      <td>94057</td>\n",
       "      <td>M</td>\n",
       "      <td>1</td>\n",
       "      <td>85.60</td>\n",
       "      <td>oldest old</td>\n",
       "      <td>1</td>\n",
       "    </tr>\n",
       "    <tr>\n",
       "      <th>18</th>\n",
       "      <td>64929</td>\n",
       "      <td>M</td>\n",
       "      <td>0</td>\n",
       "      <td>40.35</td>\n",
       "      <td>adult</td>\n",
       "      <td>1</td>\n",
       "    </tr>\n",
       "    <tr>\n",
       "      <th>19</th>\n",
       "      <td>64101</td>\n",
       "      <td>F</td>\n",
       "      <td>0</td>\n",
       "      <td>56.76</td>\n",
       "      <td>adult</td>\n",
       "      <td>1</td>\n",
       "    </tr>\n",
       "  </tbody>\n",
       "</table>\n",
       "</div>"
      ],
      "text/plain": [
       "    subject_id gender hospital_expire_flag  last_admit_age   age_group  \\\n",
       "0        59777      F                    0           67.23     elderly   \n",
       "1        54904      F                    0           24.32       adult   \n",
       "2        59373      M                    0           33.77       adult   \n",
       "3        65176      M                    0           35.63       adult   \n",
       "4        55935      F                    1           58.33       adult   \n",
       "5         1754      F                    0           51.13       adult   \n",
       "6        95280      F                    1           85.43  oldest old   \n",
       "7        83920      F                    0           45.71       adult   \n",
       "8        68235      F                    0           53.26       adult   \n",
       "9        72107      M                    0           83.42     elderly   \n",
       "10       83643      F                    0           91.40  oldest old   \n",
       "11       88953      M                    0           43.38       adult   \n",
       "12       43150      F                    0           61.66       adult   \n",
       "13       71059      M                    0           53.48       adult   \n",
       "14       40013      F                    0           59.39       adult   \n",
       "15       71837      F                    1           75.54     elderly   \n",
       "16       69649      M                    0           46.73       adult   \n",
       "17       94057      M                    1           85.60  oldest old   \n",
       "18       64929      M                    0           40.35       adult   \n",
       "19       64101      F                    0           56.76       adult   \n",
       "\n",
       "    Quantity  \n",
       "0          1  \n",
       "1          1  \n",
       "2          1  \n",
       "3          1  \n",
       "4          1  \n",
       "5          1  \n",
       "6          1  \n",
       "7          1  \n",
       "8          1  \n",
       "9          1  \n",
       "10         1  \n",
       "11         1  \n",
       "12         1  \n",
       "13         1  \n",
       "14         1  \n",
       "15         1  \n",
       "16         1  \n",
       "17         1  \n",
       "18         1  \n",
       "19         1  "
      ]
     },
     "execution_count": 35,
     "metadata": {},
     "output_type": "execute_result"
    }
   ],
   "source": [
    "patients_ea['Quantity'] = 1 \n",
    "patients_ea.head(20)"
   ]
  },
  {
   "cell_type": "code",
   "execution_count": 36,
   "metadata": {},
   "outputs": [
    {
     "data": {
      "image/png": "[encoded data removed]",
      "text/plain": [
       "<matplotlib.figure.Figure at 0x2169bdfe518>"
      ]
     },
     "metadata": {},
     "output_type": "display_data"
    }
   ],
   "source": [
    "ax = patients_ea.age_group.value_counts().plot(kind='bar')\n",
    "\n",
    "ax.set_ylabel('Frequency')\n",
    "ax.set_xlabel('Group')\n",
    "\n",
    "ax.set_title('Pneumonia patients grouped by age')\n",
    "\n",
    "plt.show()"
   ]
  },
  {
   "cell_type": "code",
   "execution_count": 37,
   "metadata": {
    "collapsed": true
   },
   "outputs": [],
   "source": [
    "patients_pv = patients_ea.iloc[:,1:6]"
   ]
  },
  {
   "cell_type": "code",
   "execution_count": 38,
   "metadata": {},
   "outputs": [
    {
     "data": {
      "text/html": [
       "<div>\n",
       "<table border=\"1\" class=\"dataframe\">\n",
       "  <thead>\n",
       "    <tr style=\"text-align: right;\">\n",
       "      <th></th>\n",
       "      <th>gender</th>\n",
       "      <th>hospital_expire_flag</th>\n",
       "      <th>last_admit_age</th>\n",
       "      <th>age_group</th>\n",
       "      <th>Quantity</th>\n",
       "    </tr>\n",
       "  </thead>\n",
       "  <tbody>\n",
       "    <tr>\n",
       "      <th>0</th>\n",
       "      <td>F</td>\n",
       "      <td>0</td>\n",
       "      <td>67.23</td>\n",
       "      <td>elderly</td>\n",
       "      <td>1</td>\n",
       "    </tr>\n",
       "    <tr>\n",
       "      <th>1</th>\n",
       "      <td>F</td>\n",
       "      <td>0</td>\n",
       "      <td>24.32</td>\n",
       "      <td>adult</td>\n",
       "      <td>1</td>\n",
       "    </tr>\n",
       "    <tr>\n",
       "      <th>2</th>\n",
       "      <td>M</td>\n",
       "      <td>0</td>\n",
       "      <td>33.77</td>\n",
       "      <td>adult</td>\n",
       "      <td>1</td>\n",
       "    </tr>\n",
       "    <tr>\n",
       "      <th>3</th>\n",
       "      <td>M</td>\n",
       "      <td>0</td>\n",
       "      <td>35.63</td>\n",
       "      <td>adult</td>\n",
       "      <td>1</td>\n",
       "    </tr>\n",
       "    <tr>\n",
       "      <th>4</th>\n",
       "      <td>F</td>\n",
       "      <td>1</td>\n",
       "      <td>58.33</td>\n",
       "      <td>adult</td>\n",
       "      <td>1</td>\n",
       "    </tr>\n",
       "    <tr>\n",
       "      <th>5</th>\n",
       "      <td>F</td>\n",
       "      <td>0</td>\n",
       "      <td>51.13</td>\n",
       "      <td>adult</td>\n",
       "      <td>1</td>\n",
       "    </tr>\n",
       "    <tr>\n",
       "      <th>6</th>\n",
       "      <td>F</td>\n",
       "      <td>1</td>\n",
       "      <td>85.43</td>\n",
       "      <td>oldest old</td>\n",
       "      <td>1</td>\n",
       "    </tr>\n",
       "    <tr>\n",
       "      <th>7</th>\n",
       "      <td>F</td>\n",
       "      <td>0</td>\n",
       "      <td>45.71</td>\n",
       "      <td>adult</td>\n",
       "      <td>1</td>\n",
       "    </tr>\n",
       "    <tr>\n",
       "      <th>8</th>\n",
       "      <td>F</td>\n",
       "      <td>0</td>\n",
       "      <td>53.26</td>\n",
       "      <td>adult</td>\n",
       "      <td>1</td>\n",
       "    </tr>\n",
       "    <tr>\n",
       "      <th>9</th>\n",
       "      <td>M</td>\n",
       "      <td>0</td>\n",
       "      <td>83.42</td>\n",
       "      <td>elderly</td>\n",
       "      <td>1</td>\n",
       "    </tr>\n",
       "  </tbody>\n",
       "</table>\n",
       "</div>"
      ],
      "text/plain": [
       "  gender hospital_expire_flag  last_admit_age   age_group  Quantity\n",
       "0      F                    0           67.23     elderly         1\n",
       "1      F                    0           24.32       adult         1\n",
       "2      M                    0           33.77       adult         1\n",
       "3      M                    0           35.63       adult         1\n",
       "4      F                    1           58.33       adult         1\n",
       "5      F                    0           51.13       adult         1\n",
       "6      F                    1           85.43  oldest old         1\n",
       "7      F                    0           45.71       adult         1\n",
       "8      F                    0           53.26       adult         1\n",
       "9      M                    0           83.42     elderly         1"
      ]
     },
     "execution_count": 38,
     "metadata": {},
     "output_type": "execute_result"
    }
   ],
   "source": [
    "patients_pv.head(10)"
   ]
  },
  {
   "cell_type": "code",
   "execution_count": 39,
   "metadata": {
    "collapsed": true
   },
   "outputs": [],
   "source": [
    "patients_pv[\"gender\"] = patients_ea[\"gender\"] .astype('category')\n",
    "patients_pv[\"age_group\"] = patients_ea[\"age_group\"] .astype('category')\n",
    "patients_pv[\"hospital_expire_flag\"] = patients_ea[\"hospital_expire_flag\"] .astype('category')"
   ]
  },
  {
   "cell_type": "code",
   "execution_count": 40,
   "metadata": {},
   "outputs": [
    {
     "data": {
      "text/html": [
       "<div>\n",
       "<table border=\"1\" class=\"dataframe\">\n",
       "  <thead>\n",
       "    <tr style=\"text-align: right;\">\n",
       "      <th></th>\n",
       "      <th></th>\n",
       "      <th></th>\n",
       "      <th>Quantity</th>\n",
       "    </tr>\n",
       "    <tr>\n",
       "      <th>gender</th>\n",
       "      <th>age_group</th>\n",
       "      <th>hospital_expire_flag</th>\n",
       "      <th></th>\n",
       "    </tr>\n",
       "  </thead>\n",
       "  <tbody>\n",
       "    <tr>\n",
       "      <th rowspan=\"8\" valign=\"top\">F</th>\n",
       "      <th rowspan=\"2\" valign=\"top\">adult</th>\n",
       "      <th>0</th>\n",
       "      <td>104</td>\n",
       "    </tr>\n",
       "    <tr>\n",
       "      <th>1</th>\n",
       "      <td>31</td>\n",
       "    </tr>\n",
       "    <tr>\n",
       "      <th rowspan=\"2\" valign=\"top\">elderly</th>\n",
       "      <th>0</th>\n",
       "      <td>109</td>\n",
       "    </tr>\n",
       "    <tr>\n",
       "      <th>1</th>\n",
       "      <td>54</td>\n",
       "    </tr>\n",
       "    <tr>\n",
       "      <th rowspan=\"2\" valign=\"top\">neonate</th>\n",
       "      <th>0</th>\n",
       "      <td>1</td>\n",
       "    </tr>\n",
       "    <tr>\n",
       "      <th>1</th>\n",
       "      <td>0</td>\n",
       "    </tr>\n",
       "    <tr>\n",
       "      <th rowspan=\"2\" valign=\"top\">oldest old</th>\n",
       "      <th>0</th>\n",
       "      <td>34</td>\n",
       "    </tr>\n",
       "    <tr>\n",
       "      <th>1</th>\n",
       "      <td>13</td>\n",
       "    </tr>\n",
       "    <tr>\n",
       "      <th rowspan=\"8\" valign=\"top\">M</th>\n",
       "      <th rowspan=\"2\" valign=\"top\">adult</th>\n",
       "      <th>0</th>\n",
       "      <td>197</td>\n",
       "    </tr>\n",
       "    <tr>\n",
       "      <th>1</th>\n",
       "      <td>54</td>\n",
       "    </tr>\n",
       "    <tr>\n",
       "      <th rowspan=\"2\" valign=\"top\">elderly</th>\n",
       "      <th>0</th>\n",
       "      <td>134</td>\n",
       "    </tr>\n",
       "    <tr>\n",
       "      <th>1</th>\n",
       "      <td>59</td>\n",
       "    </tr>\n",
       "    <tr>\n",
       "      <th rowspan=\"2\" valign=\"top\">neonate</th>\n",
       "      <th>0</th>\n",
       "      <td>2</td>\n",
       "    </tr>\n",
       "    <tr>\n",
       "      <th>1</th>\n",
       "      <td>0</td>\n",
       "    </tr>\n",
       "    <tr>\n",
       "      <th rowspan=\"2\" valign=\"top\">oldest old</th>\n",
       "      <th>0</th>\n",
       "      <td>22</td>\n",
       "    </tr>\n",
       "    <tr>\n",
       "      <th>1</th>\n",
       "      <td>15</td>\n",
       "    </tr>\n",
       "  </tbody>\n",
       "</table>\n",
       "</div>"
      ],
      "text/plain": [
       "                                        Quantity\n",
       "gender age_group  hospital_expire_flag          \n",
       "F      adult      0                          104\n",
       "                  1                           31\n",
       "       elderly    0                          109\n",
       "                  1                           54\n",
       "       neonate    0                            1\n",
       "                  1                            0\n",
       "       oldest old 0                           34\n",
       "                  1                           13\n",
       "M      adult      0                          197\n",
       "                  1                           54\n",
       "       elderly    0                          134\n",
       "                  1                           59\n",
       "       neonate    0                            2\n",
       "                  1                            0\n",
       "       oldest old 0                           22\n",
       "                  1                           15"
      ]
     },
     "execution_count": 40,
     "metadata": {},
     "output_type": "execute_result"
    }
   ],
   "source": [
    "pd.pivot_table(patients_pv,index=[\"gender\", \"age_group\",\"hospital_expire_flag\"], \n",
    "               values=[\"Quantity\"],aggfunc=np.sum, fill_value=0)"
   ]
  },
  {
   "cell_type": "code",
   "execution_count": 41,
   "metadata": {},
   "outputs": [
    {
     "data": {
      "text/html": [
       "<div>\n",
       "<table border=\"1\" class=\"dataframe\">\n",
       "  <thead>\n",
       "    <tr style=\"text-align: right;\">\n",
       "      <th></th>\n",
       "      <th></th>\n",
       "      <th>Quantity</th>\n",
       "    </tr>\n",
       "    <tr>\n",
       "      <th>gender</th>\n",
       "      <th>hospital_expire_flag</th>\n",
       "      <th></th>\n",
       "    </tr>\n",
       "  </thead>\n",
       "  <tbody>\n",
       "    <tr>\n",
       "      <th rowspan=\"2\" valign=\"top\">F</th>\n",
       "      <th>0</th>\n",
       "      <td>248</td>\n",
       "    </tr>\n",
       "    <tr>\n",
       "      <th>1</th>\n",
       "      <td>98</td>\n",
       "    </tr>\n",
       "    <tr>\n",
       "      <th rowspan=\"2\" valign=\"top\">M</th>\n",
       "      <th>0</th>\n",
       "      <td>355</td>\n",
       "    </tr>\n",
       "    <tr>\n",
       "      <th>1</th>\n",
       "      <td>128</td>\n",
       "    </tr>\n",
       "  </tbody>\n",
       "</table>\n",
       "</div>"
      ],
      "text/plain": [
       "                             Quantity\n",
       "gender hospital_expire_flag          \n",
       "F      0                          248\n",
       "       1                           98\n",
       "M      0                          355\n",
       "       1                          128"
      ]
     },
     "execution_count": 41,
     "metadata": {},
     "output_type": "execute_result"
    }
   ],
   "source": [
    "pd.pivot_table(patients_pv,index=[\"gender\", \"hospital_expire_flag\"], \n",
    "               values=[\"Quantity\"],aggfunc=np.sum, fill_value=0)"
   ]
  },
  {
   "cell_type": "code",
   "execution_count": 42,
   "metadata": {
    "collapsed": true
   },
   "outputs": [],
   "source": [
    "patients_pv['Percentage']= patients_pv['Quantity']/patients_pv['Quantity'].sum()"
   ]
  },
  {
   "cell_type": "code",
   "execution_count": 43,
   "metadata": {},
   "outputs": [
    {
     "data": {
      "text/html": [
       "<div>\n",
       "<table border=\"1\" class=\"dataframe\">\n",
       "  <thead>\n",
       "    <tr style=\"text-align: right;\">\n",
       "      <th></th>\n",
       "      <th>gender</th>\n",
       "      <th>hospital_expire_flag</th>\n",
       "      <th>last_admit_age</th>\n",
       "      <th>age_group</th>\n",
       "      <th>Quantity</th>\n",
       "      <th>Percentage</th>\n",
       "    </tr>\n",
       "  </thead>\n",
       "  <tbody>\n",
       "    <tr>\n",
       "      <th>0</th>\n",
       "      <td>F</td>\n",
       "      <td>0</td>\n",
       "      <td>67.23</td>\n",
       "      <td>elderly</td>\n",
       "      <td>1</td>\n",
       "      <td>0.001206</td>\n",
       "    </tr>\n",
       "    <tr>\n",
       "      <th>1</th>\n",
       "      <td>F</td>\n",
       "      <td>0</td>\n",
       "      <td>24.32</td>\n",
       "      <td>adult</td>\n",
       "      <td>1</td>\n",
       "      <td>0.001206</td>\n",
       "    </tr>\n",
       "    <tr>\n",
       "      <th>2</th>\n",
       "      <td>M</td>\n",
       "      <td>0</td>\n",
       "      <td>33.77</td>\n",
       "      <td>adult</td>\n",
       "      <td>1</td>\n",
       "      <td>0.001206</td>\n",
       "    </tr>\n",
       "    <tr>\n",
       "      <th>3</th>\n",
       "      <td>M</td>\n",
       "      <td>0</td>\n",
       "      <td>35.63</td>\n",
       "      <td>adult</td>\n",
       "      <td>1</td>\n",
       "      <td>0.001206</td>\n",
       "    </tr>\n",
       "    <tr>\n",
       "      <th>4</th>\n",
       "      <td>F</td>\n",
       "      <td>1</td>\n",
       "      <td>58.33</td>\n",
       "      <td>adult</td>\n",
       "      <td>1</td>\n",
       "      <td>0.001206</td>\n",
       "    </tr>\n",
       "  </tbody>\n",
       "</table>\n",
       "</div>"
      ],
      "text/plain": [
       "  gender hospital_expire_flag  last_admit_age age_group  Quantity  Percentage\n",
       "0      F                    0           67.23   elderly         1    0.001206\n",
       "1      F                    0           24.32     adult         1    0.001206\n",
       "2      M                    0           33.77     adult         1    0.001206\n",
       "3      M                    0           35.63     adult         1    0.001206\n",
       "4      F                    1           58.33     adult         1    0.001206"
      ]
     },
     "execution_count": 43,
     "metadata": {},
     "output_type": "execute_result"
    }
   ],
   "source": [
    "patients_pv.head()"
   ]
  },
  {
   "cell_type": "code",
   "execution_count": 44,
   "metadata": {},
   "outputs": [
    {
     "data": {
      "text/html": [
       "<div>\n",
       "<table border=\"1\" class=\"dataframe\">\n",
       "  <thead>\n",
       "    <tr>\n",
       "      <th></th>\n",
       "      <th></th>\n",
       "      <th colspan=\"3\" halign=\"left\">Quantity</th>\n",
       "      <th colspan=\"3\" halign=\"left\">Percentage</th>\n",
       "    </tr>\n",
       "    <tr>\n",
       "      <th></th>\n",
       "      <th>hospital_expire_flag</th>\n",
       "      <th>0</th>\n",
       "      <th>1</th>\n",
       "      <th>All</th>\n",
       "      <th>0</th>\n",
       "      <th>1</th>\n",
       "      <th>All</th>\n",
       "    </tr>\n",
       "    <tr>\n",
       "      <th>gender</th>\n",
       "      <th>age_group</th>\n",
       "      <th></th>\n",
       "      <th></th>\n",
       "      <th></th>\n",
       "      <th></th>\n",
       "      <th></th>\n",
       "      <th></th>\n",
       "    </tr>\n",
       "  </thead>\n",
       "  <tbody>\n",
       "    <tr>\n",
       "      <th rowspan=\"4\" valign=\"top\">F</th>\n",
       "      <th>adult</th>\n",
       "      <td>104.0</td>\n",
       "      <td>31.0</td>\n",
       "      <td>135.0</td>\n",
       "      <td>0.125452</td>\n",
       "      <td>0.037394</td>\n",
       "      <td>0.162847</td>\n",
       "    </tr>\n",
       "    <tr>\n",
       "      <th>elderly</th>\n",
       "      <td>109.0</td>\n",
       "      <td>54.0</td>\n",
       "      <td>163.0</td>\n",
       "      <td>0.131484</td>\n",
       "      <td>0.065139</td>\n",
       "      <td>0.196622</td>\n",
       "    </tr>\n",
       "    <tr>\n",
       "      <th>neonate</th>\n",
       "      <td>1.0</td>\n",
       "      <td>0.0</td>\n",
       "      <td>1.0</td>\n",
       "      <td>0.001206</td>\n",
       "      <td>0.000000</td>\n",
       "      <td>0.001206</td>\n",
       "    </tr>\n",
       "    <tr>\n",
       "      <th>oldest old</th>\n",
       "      <td>34.0</td>\n",
       "      <td>13.0</td>\n",
       "      <td>47.0</td>\n",
       "      <td>0.041013</td>\n",
       "      <td>0.015682</td>\n",
       "      <td>0.056695</td>\n",
       "    </tr>\n",
       "    <tr>\n",
       "      <th rowspan=\"4\" valign=\"top\">M</th>\n",
       "      <th>adult</th>\n",
       "      <td>197.0</td>\n",
       "      <td>54.0</td>\n",
       "      <td>251.0</td>\n",
       "      <td>0.237636</td>\n",
       "      <td>0.065139</td>\n",
       "      <td>0.302774</td>\n",
       "    </tr>\n",
       "    <tr>\n",
       "      <th>elderly</th>\n",
       "      <td>134.0</td>\n",
       "      <td>59.0</td>\n",
       "      <td>193.0</td>\n",
       "      <td>0.161641</td>\n",
       "      <td>0.071170</td>\n",
       "      <td>0.232811</td>\n",
       "    </tr>\n",
       "    <tr>\n",
       "      <th>neonate</th>\n",
       "      <td>2.0</td>\n",
       "      <td>0.0</td>\n",
       "      <td>2.0</td>\n",
       "      <td>0.002413</td>\n",
       "      <td>0.000000</td>\n",
       "      <td>0.002413</td>\n",
       "    </tr>\n",
       "    <tr>\n",
       "      <th>oldest old</th>\n",
       "      <td>22.0</td>\n",
       "      <td>15.0</td>\n",
       "      <td>37.0</td>\n",
       "      <td>0.026538</td>\n",
       "      <td>0.018094</td>\n",
       "      <td>0.044632</td>\n",
       "    </tr>\n",
       "    <tr>\n",
       "      <th>All</th>\n",
       "      <th></th>\n",
       "      <td>603.0</td>\n",
       "      <td>226.0</td>\n",
       "      <td>829.0</td>\n",
       "      <td>0.727382</td>\n",
       "      <td>0.272618</td>\n",
       "      <td>1.000000</td>\n",
       "    </tr>\n",
       "  </tbody>\n",
       "</table>\n",
       "</div>"
      ],
      "text/plain": [
       "                     Quantity               Percentage                    \n",
       "hospital_expire_flag        0      1    All          0         1       All\n",
       "gender age_group                                                          \n",
       "F      adult            104.0   31.0  135.0   0.125452  0.037394  0.162847\n",
       "       elderly          109.0   54.0  163.0   0.131484  0.065139  0.196622\n",
       "       neonate            1.0    0.0    1.0   0.001206  0.000000  0.001206\n",
       "       oldest old        34.0   13.0   47.0   0.041013  0.015682  0.056695\n",
       "M      adult            197.0   54.0  251.0   0.237636  0.065139  0.302774\n",
       "       elderly          134.0   59.0  193.0   0.161641  0.071170  0.232811\n",
       "       neonate            2.0    0.0    2.0   0.002413  0.000000  0.002413\n",
       "       oldest old        22.0   15.0   37.0   0.026538  0.018094  0.044632\n",
       "All                     603.0  226.0  829.0   0.727382  0.272618  1.000000"
      ]
     },
     "execution_count": 44,
     "metadata": {},
     "output_type": "execute_result"
    }
   ],
   "source": [
    "pd.pivot_table(patients_pv,index=[\"gender\", \"age_group\"], columns=[\"hospital_expire_flag\"], \n",
    "               values=[\"Quantity\",\"Percentage\"],aggfunc={\"Quantity\":np.sum,\"Percentage\":np.sum}, \n",
    "               margins=True,fill_value=0)"
   ]
  },
  {
   "cell_type": "code",
   "execution_count": 54,
   "metadata": {},
   "outputs": [
    {
     "name": "stdout",
     "output_type": "stream",
     "text": [
      "<class 'pandas.core.frame.DataFrame'>\n",
      "RangeIndex: 6770 entries, 0 to 6769\n",
      "Data columns (total 2 columns):\n",
      "short_title         6770 non-null object\n",
      "diagnosis_number    6770 non-null int64\n",
      "dtypes: int64(1), object(1)\n",
      "memory usage: 105.9+ KB\n",
      "None\n",
      "10.296875\n"
     ]
    }
   ],
   "source": [
    "# SQL query to count different kind of diagnises by subject\n",
    "sql_dg = \"SELECT di.short_title, COUNT(d.icd9_code) as diagnosis_number \\\n",
    "FROM mimiciii.diagnoses_icd d INNER JOIN mimiciii.d_icd_diagnoses di ON d.icd9_code = di.icd9_code \\\n",
    "GROUP BY di.short_title;\"\n",
    "\n",
    "diagnosis= read_sql(sql_dg, conn, coerce_float=True, params=None)\n",
    "print (diagnosis.info())\n",
    "process = time.process_time()\n",
    "print (process)"
   ]
  },
  {
   "cell_type": "code",
   "execution_count": 55,
   "metadata": {},
   "outputs": [
    {
     "data": {
      "text/html": [
       "<div>\n",
       "<table border=\"1\" class=\"dataframe\">\n",
       "  <thead>\n",
       "    <tr style=\"text-align: right;\">\n",
       "      <th></th>\n",
       "      <th>short_title</th>\n",
       "      <th>diagnosis_number</th>\n",
       "    </tr>\n",
       "  </thead>\n",
       "  <tbody>\n",
       "    <tr>\n",
       "      <th>1489</th>\n",
       "      <td>Hypertension NOS</td>\n",
       "      <td>20703</td>\n",
       "    </tr>\n",
       "    <tr>\n",
       "      <th>3037</th>\n",
       "      <td>CHF NOS</td>\n",
       "      <td>13111</td>\n",
       "    </tr>\n",
       "    <tr>\n",
       "      <th>3698</th>\n",
       "      <td>Atrial fibrillation</td>\n",
       "      <td>12891</td>\n",
       "    </tr>\n",
       "    <tr>\n",
       "      <th>401</th>\n",
       "      <td>Crnry athrscl natve vssl</td>\n",
       "      <td>12429</td>\n",
       "    </tr>\n",
       "    <tr>\n",
       "      <th>6222</th>\n",
       "      <td>Acute kidney failure NOS</td>\n",
       "      <td>9119</td>\n",
       "    </tr>\n",
       "    <tr>\n",
       "      <th>3158</th>\n",
       "      <td>DMII wo cmp nt st uncntr</td>\n",
       "      <td>9058</td>\n",
       "    </tr>\n",
       "    <tr>\n",
       "      <th>2336</th>\n",
       "      <td>Hyperlipidemia NEC/NOS</td>\n",
       "      <td>8690</td>\n",
       "    </tr>\n",
       "    <tr>\n",
       "      <th>4918</th>\n",
       "      <td>Acute respiratry failure</td>\n",
       "      <td>7497</td>\n",
       "    </tr>\n",
       "    <tr>\n",
       "      <th>1481</th>\n",
       "      <td>Urin tract infection NOS</td>\n",
       "      <td>6555</td>\n",
       "    </tr>\n",
       "    <tr>\n",
       "      <th>6592</th>\n",
       "      <td>Esophageal reflux</td>\n",
       "      <td>6326</td>\n",
       "    </tr>\n",
       "  </tbody>\n",
       "</table>\n",
       "</div>"
      ],
      "text/plain": [
       "                   short_title  diagnosis_number\n",
       "1489          Hypertension NOS             20703\n",
       "3037                   CHF NOS             13111\n",
       "3698       Atrial fibrillation             12891\n",
       "401   Crnry athrscl natve vssl             12429\n",
       "6222  Acute kidney failure NOS              9119\n",
       "3158  DMII wo cmp nt st uncntr              9058\n",
       "2336    Hyperlipidemia NEC/NOS              8690\n",
       "4918  Acute respiratry failure              7497\n",
       "1481  Urin tract infection NOS              6555\n",
       "6592         Esophageal reflux              6326"
      ]
     },
     "execution_count": 55,
     "metadata": {},
     "output_type": "execute_result"
    }
   ],
   "source": [
    "diagnosis.sort_values('diagnosis_number' , axis=0, ascending=False,).head(10)"
   ]
  },
  {
   "cell_type": "code",
   "execution_count": 56,
   "metadata": {},
   "outputs": [
    {
     "name": "stdout",
     "output_type": "stream",
     "text": [
      "<class 'pandas.core.frame.DataFrame'>\n",
      "RangeIndex: 2572 entries, 0 to 2571\n",
      "Data columns (total 4 columns):\n",
      "subject_id              2572 non-null int64\n",
      "hadm_id                 2572 non-null int64\n",
      "long_title              2572 non-null object\n",
      "hospital_expire_flag    2572 non-null int64\n",
      "dtypes: int64(3), object(1)\n",
      "memory usage: 80.5+ KB\n",
      "None\n",
      "10.375\n"
     ]
    }
   ],
   "source": [
    "sql_dp = \"SELECT p.subject_id, d.hadm_id, di.long_title, a.hospital_expire_flag FROM mimiciii.patients p \\\n",
    "INNER JOIN mimiciii.diagnoses_icd d ON p.subject_id = d.subject_id \\\n",
    "INNER JOIN mimiciii.d_icd_diagnoses di ON d.icd9_code = di.icd9_code \\\n",
    "INNER JOIN mimiciii.admissions a ON d.hadm_id = a.hadm_id WHERE di.long_title LIKE '%pneumonia%' \"\n",
    "\n",
    "\n",
    "diagnoses_p= read_sql(sql_dp, conn, coerce_float=True, params=None)\n",
    "print (diagnoses_p.info())\n",
    "process = time.process_time()\n",
    "print (process)"
   ]
  },
  {
   "cell_type": "code",
   "execution_count": 58,
   "metadata": {},
   "outputs": [
    {
     "data": {
      "text/html": [
       "<div>\n",
       "<table border=\"1\" class=\"dataframe\">\n",
       "  <thead>\n",
       "    <tr style=\"text-align: right;\">\n",
       "      <th></th>\n",
       "      <th>subject_id</th>\n",
       "      <th>hadm_id</th>\n",
       "      <th>long_title</th>\n",
       "      <th>hospital_expire_flag</th>\n",
       "      <th>Quantity</th>\n",
       "    </tr>\n",
       "  </thead>\n",
       "  <tbody>\n",
       "    <tr>\n",
       "      <th>0</th>\n",
       "      <td>41</td>\n",
       "      <td>101757</td>\n",
       "      <td>Methicillin susceptible pneumonia due to Staph...</td>\n",
       "      <td>0</td>\n",
       "      <td>1</td>\n",
       "    </tr>\n",
       "    <tr>\n",
       "      <th>1</th>\n",
       "      <td>250</td>\n",
       "      <td>124271</td>\n",
       "      <td>Pneumococcal septicemia [Streptococcus pneumon...</td>\n",
       "      <td>1</td>\n",
       "      <td>1</td>\n",
       "    </tr>\n",
       "    <tr>\n",
       "      <th>2</th>\n",
       "      <td>250</td>\n",
       "      <td>124271</td>\n",
       "      <td>Pneumococcal pneumonia [Streptococcus pneumoni...</td>\n",
       "      <td>1</td>\n",
       "      <td>1</td>\n",
       "    </tr>\n",
       "    <tr>\n",
       "      <th>3</th>\n",
       "      <td>177</td>\n",
       "      <td>143120</td>\n",
       "      <td>Methicillin susceptible pneumonia due to Staph...</td>\n",
       "      <td>0</td>\n",
       "      <td>1</td>\n",
       "    </tr>\n",
       "    <tr>\n",
       "      <th>4</th>\n",
       "      <td>188</td>\n",
       "      <td>164735</td>\n",
       "      <td>Ventilator associated pneumonia</td>\n",
       "      <td>0</td>\n",
       "      <td>1</td>\n",
       "    </tr>\n",
       "    <tr>\n",
       "      <th>5</th>\n",
       "      <td>156</td>\n",
       "      <td>168847</td>\n",
       "      <td>Methicillin susceptible pneumonia due to Staph...</td>\n",
       "      <td>0</td>\n",
       "      <td>1</td>\n",
       "    </tr>\n",
       "    <tr>\n",
       "      <th>6</th>\n",
       "      <td>157</td>\n",
       "      <td>107880</td>\n",
       "      <td>Methicillin susceptible pneumonia due to Staph...</td>\n",
       "      <td>0</td>\n",
       "      <td>1</td>\n",
       "    </tr>\n",
       "    <tr>\n",
       "      <th>7</th>\n",
       "      <td>203</td>\n",
       "      <td>120358</td>\n",
       "      <td>Methicillin susceptible pneumonia due to Staph...</td>\n",
       "      <td>0</td>\n",
       "      <td>1</td>\n",
       "    </tr>\n",
       "    <tr>\n",
       "      <th>8</th>\n",
       "      <td>231</td>\n",
       "      <td>198608</td>\n",
       "      <td>Methicillin susceptible pneumonia due to Staph...</td>\n",
       "      <td>0</td>\n",
       "      <td>1</td>\n",
       "    </tr>\n",
       "    <tr>\n",
       "      <th>9</th>\n",
       "      <td>236</td>\n",
       "      <td>191151</td>\n",
       "      <td>Pneumonia due to Klebsiella pneumoniae</td>\n",
       "      <td>0</td>\n",
       "      <td>1</td>\n",
       "    </tr>\n",
       "    <tr>\n",
       "      <th>10</th>\n",
       "      <td>268</td>\n",
       "      <td>110404</td>\n",
       "      <td>Methicillin susceptible pneumonia due to Staph...</td>\n",
       "      <td>1</td>\n",
       "      <td>1</td>\n",
       "    </tr>\n",
       "    <tr>\n",
       "      <th>11</th>\n",
       "      <td>269</td>\n",
       "      <td>106296</td>\n",
       "      <td>Methicillin susceptible pneumonia due to Staph...</td>\n",
       "      <td>0</td>\n",
       "      <td>1</td>\n",
       "    </tr>\n",
       "    <tr>\n",
       "      <th>12</th>\n",
       "      <td>466</td>\n",
       "      <td>150423</td>\n",
       "      <td>Pneumonia due to Klebsiella pneumoniae</td>\n",
       "      <td>1</td>\n",
       "      <td>1</td>\n",
       "    </tr>\n",
       "    <tr>\n",
       "      <th>13</th>\n",
       "      <td>357</td>\n",
       "      <td>174486</td>\n",
       "      <td>Methicillin susceptible pneumonia due to Staph...</td>\n",
       "      <td>0</td>\n",
       "      <td>1</td>\n",
       "    </tr>\n",
       "    <tr>\n",
       "      <th>14</th>\n",
       "      <td>281</td>\n",
       "      <td>111199</td>\n",
       "      <td>Bronchopneumonia, organism unspecified</td>\n",
       "      <td>1</td>\n",
       "      <td>1</td>\n",
       "    </tr>\n",
       "    <tr>\n",
       "      <th>15</th>\n",
       "      <td>528</td>\n",
       "      <td>115758</td>\n",
       "      <td>Pneumonia due to Klebsiella pneumoniae</td>\n",
       "      <td>0</td>\n",
       "      <td>1</td>\n",
       "    </tr>\n",
       "    <tr>\n",
       "      <th>16</th>\n",
       "      <td>656</td>\n",
       "      <td>187777</td>\n",
       "      <td>Other specified vaccinations against streptoco...</td>\n",
       "      <td>0</td>\n",
       "      <td>1</td>\n",
       "    </tr>\n",
       "    <tr>\n",
       "      <th>17</th>\n",
       "      <td>668</td>\n",
       "      <td>166245</td>\n",
       "      <td>Pneumonia due to Klebsiella pneumoniae</td>\n",
       "      <td>0</td>\n",
       "      <td>1</td>\n",
       "    </tr>\n",
       "    <tr>\n",
       "      <th>18</th>\n",
       "      <td>705</td>\n",
       "      <td>113494</td>\n",
       "      <td>Other Staphylococcus pneumonia</td>\n",
       "      <td>1</td>\n",
       "      <td>1</td>\n",
       "    </tr>\n",
       "    <tr>\n",
       "      <th>19</th>\n",
       "      <td>711</td>\n",
       "      <td>158767</td>\n",
       "      <td>Influenza with pneumonia</td>\n",
       "      <td>0</td>\n",
       "      <td>1</td>\n",
       "    </tr>\n",
       "  </tbody>\n",
       "</table>\n",
       "</div>"
      ],
      "text/plain": [
       "    subject_id  hadm_id                                         long_title  \\\n",
       "0           41   101757  Methicillin susceptible pneumonia due to Staph...   \n",
       "1          250   124271  Pneumococcal septicemia [Streptococcus pneumon...   \n",
       "2          250   124271  Pneumococcal pneumonia [Streptococcus pneumoni...   \n",
       "3          177   143120  Methicillin susceptible pneumonia due to Staph...   \n",
       "4          188   164735                    Ventilator associated pneumonia   \n",
       "5          156   168847  Methicillin susceptible pneumonia due to Staph...   \n",
       "6          157   107880  Methicillin susceptible pneumonia due to Staph...   \n",
       "7          203   120358  Methicillin susceptible pneumonia due to Staph...   \n",
       "8          231   198608  Methicillin susceptible pneumonia due to Staph...   \n",
       "9          236   191151             Pneumonia due to Klebsiella pneumoniae   \n",
       "10         268   110404  Methicillin susceptible pneumonia due to Staph...   \n",
       "11         269   106296  Methicillin susceptible pneumonia due to Staph...   \n",
       "12         466   150423             Pneumonia due to Klebsiella pneumoniae   \n",
       "13         357   174486  Methicillin susceptible pneumonia due to Staph...   \n",
       "14         281   111199             Bronchopneumonia, organism unspecified   \n",
       "15         528   115758             Pneumonia due to Klebsiella pneumoniae   \n",
       "16         656   187777  Other specified vaccinations against streptoco...   \n",
       "17         668   166245             Pneumonia due to Klebsiella pneumoniae   \n",
       "18         705   113494                     Other Staphylococcus pneumonia   \n",
       "19         711   158767                           Influenza with pneumonia   \n",
       "\n",
       "    hospital_expire_flag  Quantity  \n",
       "0                      0         1  \n",
       "1                      1         1  \n",
       "2                      1         1  \n",
       "3                      0         1  \n",
       "4                      0         1  \n",
       "5                      0         1  \n",
       "6                      0         1  \n",
       "7                      0         1  \n",
       "8                      0         1  \n",
       "9                      0         1  \n",
       "10                     1         1  \n",
       "11                     0         1  \n",
       "12                     1         1  \n",
       "13                     0         1  \n",
       "14                     1         1  \n",
       "15                     0         1  \n",
       "16                     0         1  \n",
       "17                     0         1  \n",
       "18                     1         1  \n",
       "19                     0         1  "
      ]
     },
     "execution_count": 58,
     "metadata": {},
     "output_type": "execute_result"
    }
   ],
   "source": [
    "diagnoses_p['Quantity'] = 1 \n",
    "diagnoses_p.head(20)"
   ]
  },
  {
   "cell_type": "code",
   "execution_count": 61,
   "metadata": {},
   "outputs": [
    {
     "data": {
      "text/plain": [
       "long_title\n",
       "Bacterial pneumonia, unspecified                                                                                          227\n",
       "Bronchopneumonia, organism unspecified                                                                                     59\n",
       "Congenital pneumonia                                                                                                       63\n",
       "Cryptogenic organizing pneumonia                                                                                            4\n",
       "Infection by Histoplasma capsulatum, pneumonia                                                                              1\n",
       "Influenza due to identified avian influenza virus with pneumonia                                                            3\n",
       "Influenza with pneumonia                                                                                                   80\n",
       "Methicillin resistant pneumonia due to Staphylococcus aureus                                                              162\n",
       "Methicillin susceptible pneumonia due to Staphylococcus aureus                                                            789\n",
       "Need for prophylactic vaccination and inoculation against streptococcus pneumoniae [pneumococcus] and influenza             8\n",
       "Other Staphylococcus pneumonia                                                                                             21\n",
       "Other specified vaccinations against streptococcus pneumoniae [pneumococcus]                                               29\n",
       "Personal history of pneumonia (recurrent)                                                                                  13\n",
       "Pneumococcal pneumonia [Streptococcus pneumoniae pneumonia]                                                               194\n",
       "Pneumococcal septicemia [Streptococcus pneumoniae septicemia]                                                              88\n",
       "Pneumonia due to Klebsiella pneumoniae                                                                                    226\n",
       "Pneumonia due to mycoplasma pneumoniae                                                                                      9\n",
       "Postprocedural aspiration pneumonia                                                                                         8\n",
       "Tuberculous pneumonia [any form], tubercle bacilli not found (in sputum) by microscopy, but found by bacterial culture      1\n",
       "Ventilator associated pneumonia                                                                                           564\n",
       "Viral pneumonia, unspecified                                                                                               23\n",
       "Name: hadm_id, dtype: int64"
      ]
     },
     "execution_count": 61,
     "metadata": {},
     "output_type": "execute_result"
    }
   ],
   "source": [
    "diagnoses_p.groupby('long_title').hadm_id.nunique()"
   ]
  },
  {
   "cell_type": "code",
   "execution_count": null,
   "metadata": {
    "collapsed": true
   },
   "outputs": [],
   "source": []
  }
 ],
 "metadata": {
  "kernelspec": {
   "display_name": "Python 3",
   "language": "python",
   "name": "python3"
  },
  "language_info": {
   "codemirror_mode": {
    "name": "ipython",
    "version": 3
   },
   "file_extension": ".py",
   "mimetype": "text/x-python",
   "name": "python",
   "nbconvert_exporter": "python",
   "pygments_lexer": "ipython3",
   "version": "3.5.3"
  }
 },
 "nbformat": 4,
 "nbformat_minor": 2
}
